{
 "cells": [
  {
   "cell_type": "code",
   "execution_count": 3,
   "metadata": {
    "Collapsed": "false"
   },
   "outputs": [],
   "source": [
    "import itertools\n",
    "import numpy as np\n",
    "import os\n",
    "import seaborn as sns\n",
    "from tqdm import tqdm\n",
    "from dataclasses import asdict, dataclass, field\n",
    "import vsketch\n",
    "import shapely.geometry as sg\n",
    "from shapely.geometry import box, MultiLineString, Point, MultiPoint, Polygon, MultiPolygon, LineString\n",
    "import shapely.affinity as sa\n",
    "import shapely.ops as so\n",
    "import matplotlib.pyplot as plt\n",
    "import pandas as pd\n",
    "\n",
    "import vpype_cli\n",
    "from typing import List, Generic\n",
    "from genpen import genpen as gp, utils as utils\n",
    "from scipy import stats as ss\n",
    "import geopandas\n",
    "from shapely.errors import TopologicalError\n",
    "import functools\n",
    "%load_ext autoreload\n",
    "%autoreload 2\n",
    "import vpype\n",
    "from skimage import io\n",
    "from pathlib import Path\n",
    "\n",
    "from sklearn.preprocessing import minmax_scale\n",
    "from skimage import feature\n",
    "from genpen.utils import Paper"
   ]
  },
  {
   "cell_type": "code",
   "execution_count": 4,
   "metadata": {
    "Collapsed": "false"
   },
   "outputs": [],
   "source": [
    "from skimage import exposure\n",
    "\n",
    "from skimage import filters\n",
    "from skimage.color import rgb2gray\n",
    "from skimage.transform import rescale, resize, downscale_local_mean\n",
    "from skimage.morphology import disk\n",
    "\n",
    "def angle(dx, dy):\n",
    "    \"\"\"Calculate the angles between horizontal and vertical operators.\"\"\"\n",
    "    return np.mod(np.arctan2(dy, dx), np.pi)\n"
   ]
  },
  {
   "cell_type": "code",
   "execution_count": 3,
   "metadata": {
    "Collapsed": "false"
   },
   "outputs": [],
   "source": [
    "page_x_inches: float = 11 # inches\n",
    "page_y_inches: float = 17 # inches\n",
    "border:float = 30.\n"
   ]
  },
  {
   "cell_type": "code",
   "execution_count": 4,
   "metadata": {
    "Collapsed": "false"
   },
   "outputs": [],
   "source": [
    "px = utils.DistanceConverter(page_x_inches, 'inches').mm\n",
    "py = utils.DistanceConverter(page_y_inches, 'inches').mm\n",
    "page_format = f'{px}mmx{py}mm'\n",
    "drawbox = sg.box(border, border, px-border, py-border)\n",
    "\n",
    "xmin, ymin, xmax, ymax = drawbox.bounds\n",
    "\n",
    "start_area = drawbox.buffer(-10, cap_style=3, join_style=3)\n"
   ]
  },
  {
   "cell_type": "code",
   "execution_count": null,
   "metadata": {
    "Collapsed": "false"
   },
   "outputs": [],
   "source": [
    "image_path = Path('/mnt/c/code/side/plotter_images/test2.jpg')"
   ]
  },
  {
   "cell_type": "code",
   "execution_count": null,
   "metadata": {
    "Collapsed": "false"
   },
   "outputs": [],
   "source": [
    "img = io.imread(image_path)\n",
    "img = rgb2gray(img)\n",
    "\n",
    "img = rescale(img, 1)\n",
    "\n",
    "# x, y = np.mgrid[-10:10:255j, -10:10:255j]\n",
    "# img = np.sin(x ** 2 + y ** 2)"
   ]
  },
  {
   "cell_type": "code",
   "execution_count": null,
   "metadata": {
    "Collapsed": "false"
   },
   "outputs": [],
   "source": [
    "selem = disk(2)\n",
    "img = filters.rank.mean(img/img.max(), selem)"
   ]
  },
  {
   "cell_type": "code",
   "execution_count": null,
   "metadata": {
    "Collapsed": "false"
   },
   "outputs": [],
   "source": [
    "angle_farid = angle(filters.farid_h(img),\n",
    "                    filters.farid_v(img))"
   ]
  },
  {
   "cell_type": "code",
   "execution_count": null,
   "metadata": {
    "Collapsed": "false"
   },
   "outputs": [],
   "source": [
    "plt.imshow(img)"
   ]
  },
  {
   "cell_type": "code",
   "execution_count": null,
   "metadata": {
    "Collapsed": "false"
   },
   "outputs": [],
   "source": [
    "plt.imshow(angle_farid)"
   ]
  },
  {
   "cell_type": "code",
   "execution_count": null,
   "metadata": {
    "Collapsed": "false"
   },
   "outputs": [],
   "source": [
    "class ImageFlowField(object):\n",
    "\n",
    "    def __init__(self, img, shape=None):\n",
    "        img = img.T\n",
    "        if shape == None:\n",
    "            shape = img.shape\n",
    "        self.p = box(0, 0, shape[1], shape[0])\n",
    "        self.xbins, self.ybins = gp.overlay_grid(self.p, 1, 1)\n",
    "        self.gxs, self.gys = np.meshgrid(self.xbins, self.ybins)\n",
    "\n",
    "        self.z = resize(img, shape)\n",
    "        self.a = np.interp(self.z, [self.z.min(), self.z.max()], [np.pi, 0])\n"
   ]
  },
  {
   "cell_type": "code",
   "execution_count": null,
   "metadata": {
    "Collapsed": "false"
   },
   "outputs": [],
   "source": [
    "flo = ImageFlowField(angle_farid)"
   ]
  },
  {
   "cell_type": "code",
   "execution_count": null,
   "metadata": {
    "Collapsed": "false"
   },
   "outputs": [],
   "source": [
    "f,ax = plt.subplots(figsize=(10,10))\n",
    "ax.quiver(np.cos(flo.a), np.sin(flo.a), scale=100)"
   ]
  },
  {
   "cell_type": "code",
   "execution_count": null,
   "metadata": {
    "Collapsed": "false"
   },
   "outputs": [],
   "source": [
    "intensity_vec = flo.z.ravel()"
   ]
  },
  {
   "cell_type": "code",
   "execution_count": null,
   "metadata": {
    "Collapsed": "false"
   },
   "outputs": [],
   "source": [
    "n_points = 1000"
   ]
  },
  {
   "cell_type": "code",
   "execution_count": null,
   "metadata": {
    "Collapsed": "false"
   },
   "outputs": [],
   "source": [
    "choice_inds = np.random.choice(len(intensity_vec), size=n_points, p=intensity_vec/intensity_vec.sum())"
   ]
  },
  {
   "cell_type": "code",
   "execution_count": null,
   "metadata": {
    "Collapsed": "false"
   },
   "outputs": [],
   "source": [
    "choice_vec = np.zeros_like(intensity_vec)\n",
    "choice_vec[choice_inds] = 1\n",
    "choice_locs = choice_vec.reshape(flo.z.shape)\n",
    "\n",
    "ycs, xcs = np.where(choice_locs)"
   ]
  },
  {
   "cell_type": "code",
   "execution_count": null,
   "metadata": {
    "Collapsed": "false"
   },
   "outputs": [],
   "source": [
    "# xcs, ycs = gp.overlay_grid(flo.p.buffer(-10), xstep=3, ystep=3)\n",
    "start_pts = [Point(x,y) for x,y in zip(xcs, ycs)]\n",
    "\n",
    "start_pts = [p for p in start_pts if flo.p.contains(p)]"
   ]
  },
  {
   "cell_type": "code",
   "execution_count": null,
   "metadata": {
    "Collapsed": "false"
   },
   "outputs": [],
   "source": [
    "sg.GeometryCollection(start_pts + [flo.p.boundary])"
   ]
  },
  {
   "cell_type": "code",
   "execution_count": null,
   "metadata": {
    "Collapsed": "false"
   },
   "outputs": [],
   "source": [
    "particles = [gp.Particle(pos=p, grid=flo, stepsize=0.7) for p in start_pts]"
   ]
  },
  {
   "cell_type": "code",
   "execution_count": null,
   "metadata": {
    "Collapsed": "false"
   },
   "outputs": [],
   "source": [
    "for p in particles:\n",
    "    for i in range(560):\n",
    "        p.step()"
   ]
  },
  {
   "cell_type": "code",
   "execution_count": null,
   "metadata": {
    "Collapsed": "false"
   },
   "outputs": [],
   "source": [
    "mls = MultiLineString([p.line for p in particles if p.line.length>0])"
   ]
  },
  {
   "cell_type": "code",
   "execution_count": null,
   "metadata": {
    "Collapsed": "false"
   },
   "outputs": [],
   "source": [
    "sg.GeometryCollection([mls]+ [flo.p.boundary])"
   ]
  },
  {
   "cell_type": "code",
   "execution_count": null,
   "metadata": {
    "Collapsed": "false"
   },
   "outputs": [],
   "source": [
    "mls = gp.make_like(mls, drawbox)"
   ]
  },
  {
   "cell_type": "code",
   "execution_count": null,
   "metadata": {
    "Collapsed": "false"
   },
   "outputs": [],
   "source": [
    "buffers = mls.buffer(0.05, cap_style=2, join_style=2).boundary"
   ]
  },
  {
   "cell_type": "code",
   "execution_count": null,
   "metadata": {
    "Collapsed": "false"
   },
   "outputs": [],
   "source": [
    "sk = vsketch.Vsketch()\n",
    "sk.size(page_format)\n",
    "sk.scale('1mm')\n",
    "sk.penWidth('0.25mm')\n",
    "# sk.geometry(mls)\n",
    "sk.geometry(buffers)\n",
    "sk.display(color_mode='None')"
   ]
  },
  {
   "cell_type": "code",
   "execution_count": null,
   "metadata": {
    "Collapsed": "false"
   },
   "outputs": [],
   "source": []
  },
  {
   "cell_type": "code",
   "execution_count": null,
   "metadata": {
    "Collapsed": "false"
   },
   "outputs": [],
   "source": [
    "savepath = '/mnt/c/code/side/plotter_images/oned_outputs/0113_louie_flow.svg'\n",
    "\n",
    "sk.save(savepath)\n",
    "\n",
    "vpype_commands = 'reloop linesimplify --tolerance 0.05mm linemerge --tolerance 0.3mm linesort'\n",
    "vpype_str = f'vpype read -q 0.05mm {savepath} {vpype_commands} write {savepath}'\n",
    "\n",
    "os.system(vpype_str)"
   ]
  },
  {
   "cell_type": "markdown",
   "metadata": {
    "Collapsed": "false"
   },
   "source": [
    "## just intensity"
   ]
  },
  {
   "cell_type": "code",
   "execution_count": null,
   "metadata": {
    "Collapsed": "false"
   },
   "outputs": [],
   "source": [
    "page_x_inches: float = 17 # inches\n",
    "page_y_inches: float = 11 # inches\n",
    "border:float = 30.\n"
   ]
  },
  {
   "cell_type": "code",
   "execution_count": null,
   "metadata": {
    "Collapsed": "false"
   },
   "outputs": [],
   "source": [
    "px = utils.DistanceConverter(page_x_inches, 'inches').mm\n",
    "py = utils.DistanceConverter(page_y_inches, 'inches').mm\n",
    "page_format = f'{px}mmx{py}mm'\n",
    "drawbox = sg.box(border, border, px-border, py-border)\n",
    "\n",
    "xmin, ymin, xmax, ymax = drawbox.bounds\n"
   ]
  },
  {
   "cell_type": "code",
   "execution_count": null,
   "metadata": {
    "Collapsed": "false"
   },
   "outputs": [],
   "source": [
    "selem = disk(2)\n",
    "img = filters.rank.mean(img/img.max(), selem)"
   ]
  },
  {
   "cell_type": "code",
   "execution_count": null,
   "metadata": {
    "Collapsed": "false"
   },
   "outputs": [],
   "source": [
    "img = io.imread(image_path)\n",
    "img = rgb2gray(img)\n",
    "\n",
    "img = rescale(img, 0.5)\n",
    "\n",
    "# x, y = np.mgrid[-10:10:255j, -10:10:255j]\n",
    "# img = np.sin(x ** 2 + y ** 2)"
   ]
  },
  {
   "cell_type": "code",
   "execution_count": null,
   "metadata": {
    "Collapsed": "false"
   },
   "outputs": [],
   "source": [
    "def sample_points_from_matrix(matrix, n_points):\n",
    "    vec = matrix.ravel()\n",
    "    choice_inds = np.random.choice(len(vec), size=n_points, p=vec/vec.sum())\n",
    "    choice_vec = np.zeros_like(vec)\n",
    "    choice_vec[choice_inds] = 1\n",
    "    choice_locs = choice_vec.reshape(matrix.shape)\n",
    "    ycs, xcs = np.where(choice_locs)\n",
    "    return [Point(x, y) for x,y in zip(xcs, ycs)]"
   ]
  },
  {
   "cell_type": "code",
   "execution_count": null,
   "metadata": {
    "Collapsed": "false"
   },
   "outputs": [],
   "source": [
    "pts = sample_points_from_matrix(img**2, n_points=12000)"
   ]
  },
  {
   "cell_type": "code",
   "execution_count": null,
   "metadata": {
    "Collapsed": "false"
   },
   "outputs": [],
   "source": [
    "pts = gp.make_like(MultiPoint(pts), drawbox)"
   ]
  },
  {
   "cell_type": "code",
   "execution_count": null,
   "metadata": {
    "Collapsed": "false"
   },
   "outputs": [],
   "source": [
    "cs = MultiLineString([pt.buffer(0.9, resolution=4).boundary for pt in pts])"
   ]
  },
  {
   "cell_type": "code",
   "execution_count": null,
   "metadata": {
    "Collapsed": "false"
   },
   "outputs": [],
   "source": [
    "csb = so.unary_union([c.buffer(0.1) for c in cs])"
   ]
  },
  {
   "cell_type": "code",
   "execution_count": null,
   "metadata": {
    "Collapsed": "false"
   },
   "outputs": [],
   "source": [
    "tris = MultiPolygon(so.triangulate(MultiPoint(pts)))\n",
    "# tris = gp.make_like(tris, drawbox)"
   ]
  },
  {
   "cell_type": "code",
   "execution_count": null,
   "metadata": {
    "Collapsed": "false"
   },
   "outputs": [],
   "source": [
    "sns.displot([np.log10(t.area) for t in tris])"
   ]
  },
  {
   "cell_type": "code",
   "execution_count": null,
   "metadata": {
    "Collapsed": "false"
   },
   "outputs": [],
   "source": [
    "# tris = tris.buffer(-0.2, join_style=2, cap_style=2, resolution=2)\n",
    "ftris = MultiPolygon([p for p in tris if p.area <5])"
   ]
  },
  {
   "cell_type": "code",
   "execution_count": null,
   "metadata": {
    "Collapsed": "false"
   },
   "outputs": [],
   "source": [
    "uftris = so.unary_union(ftris)"
   ]
  },
  {
   "cell_type": "code",
   "execution_count": null,
   "metadata": {
    "Collapsed": "false"
   },
   "outputs": [],
   "source": [
    "stp = gp.ScaleTransPrms(n_iters=100, d_buffer=-0.3, d_translate_factor=0.6, angles=np.radians(-60))\n",
    "stp.d_buffers *= gp.gaussian_random_walk(n=stp.d_buffers.shape[0], step_std=10)\n",
    "\n",
    "all_fills = []\n",
    "for p in uftris:\n",
    "    fills = gp.scale_trans(p, **stp.prms)\n",
    "    mfills = gp.merge_LineStrings([f.boundary for f in fills])\n",
    "    all_fills.append(mfills)\n",
    "\n",
    "fill_layer = gp.merge_LineStrings(all_fills)"
   ]
  },
  {
   "cell_type": "code",
   "execution_count": null,
   "metadata": {
    "Collapsed": "false"
   },
   "outputs": [],
   "source": [
    "sk = vsketch.Vsketch()\n",
    "sk.size(page_format)\n",
    "sk.scale('1mm')\n",
    "sk.penWidth('0.25mm')\n",
    "# sk.geometry(csb.boundary)\n",
    "# sk.geometry(fill_layer)\n",
    "sk.geometry(ftris.boundary)\n",
    "sk.display(color_mode='None')"
   ]
  },
  {
   "cell_type": "code",
   "execution_count": null,
   "metadata": {
    "Collapsed": "false"
   },
   "outputs": [],
   "source": [
    "savepath = '/mnt/c/code/side/plotter_images/oned_outputs/0115_louie_delauney_flat.svg'\n",
    "\n",
    "sk.save(savepath)\n",
    "\n",
    "vpype_commands = 'reloop linesimplify --tolerance 0.05mm linemerge --tolerance 0.3mm linesort'\n",
    "vpype_str = f'vpype read -q 0.05mm {savepath} {vpype_commands} write {savepath}'\n",
    "\n",
    "os.system(vpype_str)"
   ]
  },
  {
   "cell_type": "code",
   "execution_count": null,
   "metadata": {
    "Collapsed": "false"
   },
   "outputs": [],
   "source": []
  },
  {
   "cell_type": "code",
   "execution_count": null,
   "metadata": {
    "Collapsed": "false"
   },
   "outputs": [],
   "source": []
  },
  {
   "cell_type": "markdown",
   "metadata": {
    "Collapsed": "true"
   },
   "source": [
    "## just intensity"
   ]
  },
  {
   "cell_type": "code",
   "execution_count": null,
   "metadata": {
    "Collapsed": "false"
   },
   "outputs": [],
   "source": [
    "page_x_inches: float = 17 # inches\n",
    "page_y_inches: float = 11 # inches\n",
    "border:float = 30.\n"
   ]
  },
  {
   "cell_type": "code",
   "execution_count": null,
   "metadata": {
    "Collapsed": "false"
   },
   "outputs": [],
   "source": [
    "px = utils.DistanceConverter(page_x_inches, 'inches').mm\n",
    "py = utils.DistanceConverter(page_y_inches, 'inches').mm\n",
    "page_format = f'{px}mmx{py}mm'\n",
    "drawbox = sg.box(border, border, px-border, py-border)\n",
    "\n",
    "xmin, ymin, xmax, ymax = drawbox.bounds\n"
   ]
  },
  {
   "cell_type": "code",
   "execution_count": null,
   "metadata": {
    "Collapsed": "false"
   },
   "outputs": [],
   "source": [
    "img = io.imread(image_path)\n",
    "img = rgb2gray(img)\n",
    "\n",
    "img = rescale(img, 0.95)\n",
    "\n",
    "# x, y = np.mgrid[-10:10:255j, -10:10:255j]\n",
    "# img = np.sin(x ** 2 + y ** 2)"
   ]
  },
  {
   "cell_type": "code",
   "execution_count": null,
   "metadata": {
    "Collapsed": "false"
   },
   "outputs": [],
   "source": [
    "def sample_points_from_matrix(matrix, n_points):\n",
    "    vec = matrix.ravel()\n",
    "    choice_inds = np.random.choice(len(vec), size=n_points, p=vec/vec.sum())\n",
    "    choice_vec = np.zeros_like(vec)\n",
    "    choice_vec[choice_inds] = 1\n",
    "    choice_locs = choice_vec.reshape(matrix.shape)\n",
    "    ycs, xcs = np.where(choice_locs)\n",
    "    return [Point(x, y) for x,y in zip(xcs, ycs)]"
   ]
  },
  {
   "cell_type": "code",
   "execution_count": null,
   "metadata": {
    "Collapsed": "false"
   },
   "outputs": [],
   "source": [
    "pts = sample_points_from_matrix(img**2, n_points=12000)"
   ]
  },
  {
   "cell_type": "code",
   "execution_count": null,
   "metadata": {
    "Collapsed": "false"
   },
   "outputs": [],
   "source": [
    "pts = gp.make_like(MultiPoint(pts), drawbox)"
   ]
  },
  {
   "cell_type": "code",
   "execution_count": null,
   "metadata": {
    "Collapsed": "false"
   },
   "outputs": [],
   "source": [
    "cs = MultiLineString([pt.buffer(0.9, resolution=4).boundary for pt in pts])"
   ]
  },
  {
   "cell_type": "code",
   "execution_count": null,
   "metadata": {
    "Collapsed": "false"
   },
   "outputs": [],
   "source": [
    "csb = so.unary_union([c.buffer(0.1) for c in cs])"
   ]
  },
  {
   "cell_type": "code",
   "execution_count": null,
   "metadata": {
    "Collapsed": "false"
   },
   "outputs": [],
   "source": [
    "tris = MultiPolygon(so.triangulate(MultiPoint(pts)))\n",
    "tris = tris.buffer(-0.25, join_style=2, cap_style=2, resolution=2)"
   ]
  },
  {
   "cell_type": "code",
   "execution_count": null,
   "metadata": {
    "Collapsed": "false"
   },
   "outputs": [],
   "source": [
    "def split_LineString(ls):\n",
    "    vertices = len(ls.coords)-1\n",
    "    return [LineString((ls.coords[i], ls.coords[i+1])) for i in range(vertices)]"
   ]
  },
  {
   "cell_type": "code",
   "execution_count": null,
   "metadata": {
    "Collapsed": "false"
   },
   "outputs": [],
   "source": [
    "all_lines = []\n",
    "for ls in tri_edges:\n",
    "    all_lines += split_LineString(ls)"
   ]
  },
  {
   "cell_type": "code",
   "execution_count": null,
   "metadata": {
    "Collapsed": "false"
   },
   "outputs": [],
   "source": [
    "max_length = 15\n",
    "flines = MultiLineString([l for l in all_lines if l.length<max_length])"
   ]
  },
  {
   "cell_type": "code",
   "execution_count": null,
   "metadata": {
    "Collapsed": "false"
   },
   "outputs": [],
   "source": [
    "# tris = tris.buffer(-0.2, join_style=2, cap_style=2, resolution=2)\n",
    "ftris = MultiPolygon([p for p in tris if p.area <1])"
   ]
  },
  {
   "cell_type": "code",
   "execution_count": null,
   "metadata": {
    "Collapsed": "false"
   },
   "outputs": [],
   "source": [
    "uftris = so.unary_union(ftris)"
   ]
  },
  {
   "cell_type": "code",
   "execution_count": null,
   "metadata": {
    "Collapsed": "false"
   },
   "outputs": [],
   "source": [
    "stp = gp.ScaleTransPrms(n_iters=100, d_buffer=-0.3, d_translate_factor=0.6, angles=np.radians(-60))\n",
    "stp.d_buffers *= gp.gaussian_random_walk(n=stp.d_buffers.shape[0], step_std=10)\n",
    "\n",
    "all_fills = []\n",
    "for p in rts:\n",
    "    fills = gp.scale_trans(p, **stp.prms)\n",
    "    mfills = gp.merge_LineStrings([f.boundary for f in fills])\n",
    "    all_fills.append(mfills)\n",
    "\n",
    "fill_layer = gp.merge_LineStrings(all_fills)"
   ]
  },
  {
   "cell_type": "code",
   "execution_count": null,
   "metadata": {
    "Collapsed": "false"
   },
   "outputs": [],
   "source": [
    "sk = vsketch.Vsketch()\n",
    "sk.size(page_format)\n",
    "sk.scale('1mm')\n",
    "sk.penWidth('0.25mm')\n",
    "# sk.geometry(csb.boundary)\n",
    "# sk.geometry(fill_layer)\n",
    "# sk.geometry(ftris.boundary)\n",
    "sk.geometry(flines)\n",
    "sk.display(color_mode='None')"
   ]
  },
  {
   "cell_type": "code",
   "execution_count": null,
   "metadata": {
    "Collapsed": "false"
   },
   "outputs": [],
   "source": [
    "savepath = '/mnt/c/code/side/plotter_images/oned_outputs/0115_louie_delauney_flat.svg'\n",
    "\n",
    "sk.save(savepath)\n",
    "\n",
    "vpype_commands = 'reloop linesimplify --tolerance 0.05mm linemerge --tolerance 0.3mm linesort'\n",
    "vpype_str = f'vpype read -q 0.05mm {savepath} {vpype_commands} write {savepath}'\n",
    "\n",
    "os.system(vpype_str)"
   ]
  },
  {
   "cell_type": "markdown",
   "metadata": {
    "Collapsed": "false"
   },
   "source": [
    "## intensity pixel remap"
   ]
  },
  {
   "cell_type": "code",
   "execution_count": 5,
   "metadata": {
    "Collapsed": "false"
   },
   "outputs": [],
   "source": [
    "image_path = Path('/mnt/c/code/side/plotter_images/louiehat.jpg')"
   ]
  },
  {
   "cell_type": "code",
   "execution_count": 6,
   "metadata": {
    "Collapsed": "false"
   },
   "outputs": [],
   "source": [
    "page_x_inches: float = 17 # inches\n",
    "page_y_inches: float = 11 # inches\n",
    "border:float = 15.\n"
   ]
  },
  {
   "cell_type": "code",
   "execution_count": 270,
   "metadata": {
    "Collapsed": "false"
   },
   "outputs": [],
   "source": [
    "size_string = '11.7×16.5 inches'"
   ]
  },
  {
   "cell_type": "code",
   "execution_count": 271,
   "metadata": {
    "Collapsed": "false"
   },
   "outputs": [],
   "source": [
    "size, units = size_string.split(' ')"
   ]
  },
  {
   "cell_type": "code",
   "execution_count": 275,
   "metadata": {
    "Collapsed": "false"
   },
   "outputs": [
    {
     "data": {
      "text/plain": [
       "['11.7×16.5']"
      ]
     },
     "execution_count": 275,
     "metadata": {},
     "output_type": "execute_result"
    }
   ],
   "source": [
    "size.split('x')"
   ]
  },
  {
   "cell_type": "code",
   "execution_count": 280,
   "metadata": {
    "Collapsed": "false"
   },
   "outputs": [],
   "source": [
    "ppr = utils.Paper('A3')"
   ]
  },
  {
   "cell_type": "code",
   "execution_count": 7,
   "metadata": {
    "Collapsed": "false"
   },
   "outputs": [],
   "source": [
    "px = utils.DistanceConverter(page_x_inches, 'inches').mm\n",
    "py = utils.DistanceConverter(page_y_inches, 'inches').mm\n",
    "page_format = f'{px}mmx{py}mm'\n",
    "drawbox = sg.box(border, border, px-xborder, py-yborder)\n",
    "\n",
    "xmin, ymin, xmax, ymax = drawbox.bounds\n"
   ]
  },
  {
   "cell_type": "code",
   "execution_count": 8,
   "metadata": {
    "Collapsed": "false"
   },
   "outputs": [],
   "source": [
    "img =  rgb2gray(io.imread(image_path))\n",
    "img = rgb2gray(img)\n",
    "\n",
    "img = rescale(img, 0.125)\n"
   ]
  },
  {
   "cell_type": "code",
   "execution_count": 11,
   "metadata": {
    "Collapsed": "false"
   },
   "outputs": [
    {
     "data": {
      "text/plain": [
       "<matplotlib.image.AxesImage at 0x7f76bf5dc820>"
      ]
     },
     "execution_count": 11,
     "metadata": {},
     "output_type": "execute_result"
    },
    {
     "data": {
      "image/svg+xml": [
       "<?xml version=\"1.0\" encoding=\"utf-8\" standalone=\"no\"?>\n",
       "<!DOCTYPE svg PUBLIC \"-//W3C//DTD SVG 1.1//EN\"\n",
       "  \"http://www.w3.org/Graphics/SVG/1.1/DTD/svg11.dtd\">\n",
       "<!-- Created with matplotlib (https://matplotlib.org/) -->\n",
       "<svg height=\"182.387848pt\" version=\"1.1\" viewBox=\"0 0 718.263603 182.387848\" width=\"718.263603pt\" xmlns=\"http://www.w3.org/2000/svg\" xmlns:xlink=\"http://www.w3.org/1999/xlink\">\n",
       " <metadata>\n",
       "  <rdf:RDF xmlns:cc=\"http://creativecommons.org/ns#\" xmlns:dc=\"http://purl.org/dc/elements/1.1/\" xmlns:rdf=\"http://www.w3.org/1999/02/22-rdf-syntax-ns#\">\n",
       "   <cc:Work>\n",
       "    <dc:type rdf:resource=\"http://purl.org/dc/dcmitype/StillImage\"/>\n",
       "    <dc:date>2020-12-20T10:22:10.745847</dc:date>\n",
       "    <dc:format>image/svg+xml</dc:format>\n",
       "    <dc:creator>\n",
       "     <cc:Agent>\n",
       "      <dc:title>Matplotlib v3.3.3, https://matplotlib.org/</dc:title>\n",
       "     </cc:Agent>\n",
       "    </dc:creator>\n",
       "   </cc:Work>\n",
       "  </rdf:RDF>\n",
       " </metadata>\n",
       " <defs>\n",
       "  <style type=\"text/css\">*{stroke-linecap:butt;stroke-linejoin:round;}</style>\n",
       " </defs>\n",
       " <g id=\"figure_1\">\n",
       "  <g id=\"patch_1\">\n",
       "   <path d=\"M 0 182.387848 \n",
       "L 718.263603 182.387848 \n",
       "L 718.263603 0 \n",
       "L 0 0 \n",
       "z\n",
       "\" style=\"fill:none;\"/>\n",
       "  </g>\n",
       "  <g id=\"axes_1\">\n",
       "   <g id=\"patch_2\">\n",
       "    <path d=\"M 33.2875 158.509723 \n",
       "L 230.228676 158.509723 \n",
       "L 230.228676 10.803841 \n",
       "L 33.2875 10.803841 \n",
       "z\n",
       "\" style=\"fill:#ffffff;\"/>\n",
       "   </g>\n",
       "   <g clip-path=\"url(#p39e83ddc9c)\">\n",
       "    <image height=\"148\" id=\"image9e092028ef\" transform=\"scale(1 -1)translate(0 -148)\" width=\"197\" x=\"33.2875\" xlink:href=\"data:image/png;base64,\n",
       "iVBORw0KGgoAAAANSUhEUgAAAMUAAACUCAYAAAAj6u2iAACc9ElEQVR4nKz9WZNtS3Lfif1iWMOeMvOMd6p769YAVBVAkATYFAexm2ypJZlksjajnmQm04PM9CjTJ9BXkMz6UY/9IpkeWpKpmy2TmhoggjNAAAQBEIWqQtW9dYcz57CHNcSgB4+ItfbOzHNvFRlmx07mzr3XXisiPNz97393V7/5v/zfxmgAIGqIWoEG34Cvob6C9/6LHxEurwBQSqG+801++vcf0T8O1G807SvQY8S1iuEcQhOJBkIV8YsATUDXHmUiWkVQEa3n/wJGRZSKGC3/axXJw6S/a3X8N60iLmg6Z3n+6gxeNOhRoQIQ5XlQoHuIBrQD3SvcSj5f3ShUhKjAdvLM3aPIk7/0nA83l9TaMwTD3tX03uKCxgeNj0ruS0V8VAzO0o2WYbAEr4lAGDWxN+idwe4V7/1jx+qPvwStCecr3LomNIb+wtI91LRvAqaP2L3Ht5pQKaJWqBAJRuEbxbhSKA/NVUC7SNSKYEFFqLYBt9T4WhGMvKa8zJ/2EV8pho3ct/Kw+cxRXQ1oFyAEotG4TU3/wGL6yO5dw+GxIlTglxG3DsSFxywcVeXROhCCRuuAUrCoR2rryjqFqAhR4aMiRsXoNSHNnfeamF73XkFUhKCJAWJUkJc+KmJQ4BSq0zSvDO1LqHYR5UG7iIqy1shl8LUCJXvXDGAPERTYLhCVoj/TaC+fjwaiUlQHmfs8rF+km4igYkTFCB7MQaFHOPvEEW+28u4Qobb0764ZNxHlQA/y2WAUoRFBiEY2ZKgi2IgycmNaRVQSBJUEw+iAViIYWpEEI5RNr9L/+X0AVgUCqrwHIHqFUhBsxHSy2YMVQUDl+4E842aQ+1UuvScJkX8w8sH6isfNjoOvcFEfCWgWBpkOVV5zzuAGQxjTjoyyOKEJeK/xjSZWFipLrAx68Lh1JfMykITUEWp5r/JR1sSBJhK8IirQQe5T+fR/BF8prAYVkqBUaU0reXYVFFGnTdJFXKM4PDb4tkH3keZNL2sb5VDcP9bkRwtVJBi5DjqSn7i2HqUcozfEqBicQamIMr4cYgQtcxMVRkdijBgAE4pgKAUhpKsqUETKt8ynXUOoI24hB4MZ5AMqyN7ylQhwsNOaqBgZtbxfBc24ULgFcnCm/WEP8j2+kUPIDAFLoGwOwiSlKkbMAZafXBN9PnIUatGyf6ci2ogeVLo5iFakcy4QsYpgIsoGEYSZQBgTymaX05/ZzzHP0ZFAaBXR6QZ1uVE5XWKQTai9IlogyIaxeyXCqeXRgpINpRz4JmKcTGLUMkntec+jZketHWMwaCK1djitZXPqwOgNIaqjNQsh3UNEBCIouQEjc4OCuF5AjGUu5aSCeheISjbkuDYEqzBBDpex1tg+FAGAJMSAa9NmH8EtNa5V+EqVA0D7mfB4qPaB5ZcD0Si6xxXducEtYV0r6msHRRDArRTapfU0kWhk/ZQOGBPwUdGYQG2HowMikk77tHYhKlQ6JFR6AANEHQkhLaEOSYBUOvRjuUZZtDAJSdSKaCJeAUrmMRhZ96jlfdqL1lAhoh0MWuEWquzPIoT7QKgUrs0WhsK++zuv6d7f0J8bhrWo6WjkRkwf0S8u8SGCTqp3vaJ7qCFEzEGJMKWJDFU2wSLRTgKhdESbUEwlreORQBh9bBplWbczIckCkX/Pi6Aj+KDBya5RSTiiFsEAUF4RqoAe0qQndavKJoZQi9m3agYuqgMhKrQKNMaV73dBMwQxo/K8ggiztR5aCF7jk+mk6kA0CnVj5DRaVujB41tLNOn+PWUjj2eGcSkaOio5uXyjQGmigfo6maVWNobtY9nww1rj67wGcmoyRHQEFcCMkcXLEdM5gtUsP/c0C8vNhzVuoVHeps2VNGZD0RbRyKQpkw4rFWkrV4ShMp5aTWtaBCQqrA7oqDAq4lQyP4NcQ/7l3Tk75JIQRC+mE1HWUI8yNzpp0bzOUaf1qyimc9BZQmUulAffpq9wybwMIjiuTbfgRGNY9dPPWXxmWbYt8XzN8M6a/dOaYaNorjxhu0u7PqKM2MOhgmqnsAe5cNRJS9g43agR00lXYRKE9H/Z/ElDnApE0RQzgTBqMp/0TDB8VOz7CkaVhDNihuPTP5+sKglJsGJqENMBkE5Ut4g8Wu2plAcFCzOKjUyk0l6+y4lwxKhwUROiwkZFUzmayomPc6gZe0PsxFmr32jcIuAXFt9aQq1RLpTTzzcKM0Sxb/exnIjV1hO1QY+R+iYwLjXDRmMGRbUPxdxRIYqgWAi1KhpbRQXISVnfBDGvjBItpcUcq/YRMwR8I2aXW4ggBpvMzWQ2kTSFtZPWVirig6YbLbX1tNYdm5p5HaNCR4VWkVFFwBBjJJqAUuJPBJEiYtCTts3y4hWmV5ge9Jg2dZgEwrfyzPn9gPgnScDz+h/9bOQabikCqH0k1hCtwsYYYRiJwwjXN9Q/V9SLFh6eow49fhimZ6xrxk2DHsUBzzeXtUQ+ZaJBBKIWh8yYWBwypaJstORDzE2muUBodawh5q/noVVkRDGO5mgdfB0xvahDv4ionUK5ZGp0Ct9EfJ18KCc2JgbCMvDe8koEkMhSD1TKY5XHRcMYDE57lslkGIKl95aYhALAeENonCz0m5r6tabaiTboLyxmiKgQMV0EHemWWcXLv2CT8xwQ3yANX2uCVWVRg81+QizzHiqFb8FXECt5nzEKtY+4hcbuNWoISQNp3MoQLOlwULhGzAjfyhqGOk6mhpkONWs8Pmhs8h+0mjRDXpeQhKD8z+SLiUAZcOAQlR6jFoFIGztGREv49A8m5zqk91jZ1L5Jey4rmyDPH618JuT9Mqa5qyYhUQFMJ/OeASerlgtwDrwnjk6ue7OFq2tCjOKAaSX/L1r6x7X4kG7SeNFMWgItGgJ7jC4VX+IrBOKWluDYyZ6PEBW9s3hnxBSaDd9E7F6BBbdMjnEjTrjtFL5Okzuz1ZVXLMyIJtLqkUp5+mjl/2CBuphTAHX0R985Bo3Rgdo6WMBubzGdKXZ9SGZStYtlYwsyEsUNqRTDSqNixB4i41I2ybjUmHEylfKC+uRQ+0bhFwq3hHElaxGMbHYVwS0UvQe7N+ghiNPaaMalLqZbNrl8K6ZTsHECSzSCHOpIZXy2pPFBF+0wN2vnmjwLQRnJfwg64LVoEDSEgPgsXolAJDM4r4/uZz5OlAPYt+I4xyrhGhl1rNJ9kw68DGZoMauyEtJeXg82HQRpfu3ur3/M4tkBfblD3+yI/UB06TjKDnYWjM2Kw0NzpIYy/BWsmEyixkPyJbIwTBpCzTb9XRribQIxh/qyUHTOEgaDSpta/CG5LxTYnWJcJQFwcvrpQbSIOahioysPOEWIGqMClfJoFTAxMCpzrKHSkVShcPl0m43ayqlpViPBVgJGaXGM7QGUTxqhlvvQY6S7MNTbgO0jykfMEKl2AbfQ9OeKoRFQI0OHw5lCD5OmzhC6b8Sfixoc4jcFIws1bDRQYQa5rmtlwzgrTmqo5NQNVSxOq1wrrZGe1s8ajzkBQeZzE1DHwIiKBNSR0GTTOUSF1qItIPkUOkJQKK9QGWYP6XkN+IViXItVgJrmAZX+j2lN07IFK34HKqJc8k2GtC4rCrStHNjXP7DYjzeYfk1zFVl+3lE9u4YXr4iH6SRUxuCenHF4khbSy01m2zPHBIqWsJN2UGnj55+zY/1WDTEToDypd43RGVGvETGRqgm7zpKfYVmcKqdfVsG2S0JdQ1w5Ku2TuRaoiHilqGYawScXewziPLdJc2RhdUlbVNZjrSfUEmfQFlR2EgG3MrhGJzNIpYMmEqM4f7YLKBcwHdhGTfGHCsalEnSol7nvzxV+AW4VxeSxcroHJeeaHhUO6B6KIFR7LYdZm8wLK1rCLeW1WCWz3kzOr9Lys5hNjkoHGuvQRFzUjN7Q2hGb4PQ5XJ0/p4lYHXBBoyA55aCjKhB7/j4JOoijnU907WRNx5ViPJMDOCMeQSSSYGPa3CrF2xLymBzvDNerIGvuFvIelQROKYWNBoYNuHfg2iiq7yxZf7bg8T/ycPhyus+mYffhgv5RpL5UxC7dezad9ORgKyuwXdYS9yFN92qImWM99yvy6ZMnPaZNiBcIVDtRj2qUiYSESiRnOzvaygtU6xuxv4niZC8uOlamx6iASYKh0wc8Ch81jXYYAiABPa0CWmlqLXa2T4teGU9VeQ5tBDVB3XqM+FZiEa5VaBfxtdyvCrLggopoWWktJ6MKERMEnx/Wac8sYDiXDSIOp/gpGflDCdITlaBZYzK13EIce9+oYtr5hUDzWctElez0bOZn6DutVYhqQgOJ2JlZaVWQE3u20TN6F5JmtToI2hoVIWQUajbi8c8FYTKK/mGcfFeVwB2VwQXAi6kc1fR35VQRCOKkOXwrXxRNOkCJWEioRSV/8K3YpQxjfhqZlPWK3buaqATN0C5tzmrC26NJKIWZNIRO6vUupGk+YfOfs2N9GpuYD60iHsTJjkzxslGJwtqpNInp1LSyoVQ6OU0vEz2cRaqdPOPD9Z616YvpVCmPIeDRVMqXf2iw0TMq+W45AT1NChwZLdCj1YFoxOQxPdTbIChX8hUEKpWTv94GfK0Y1or6RpzuaGfC5OQZ+rNk8iySM9xE3CYQdSwmIyaClddCNAJJ68ho5Nl9K//PkTnfylzlgy2m6xQBS0MxOdQh7ca5mWtVwGqfhGYaDlO0iE+oXYgKn/aISsISc4wnbV6VoFcQE7F/INqw3AwzjUbyNxo5HMo9jzoF8KaHcMsoez4dAnpEAAeNCIWvY4Go9Ajt6zhFsRGVEs7XDGdywtpdclCq7EuQYDvAzjREsUWnaHUWiGMk4hhZmptNR4Iw0xYhKg6uYjhUU7xBz5wtM3OoRpIjC3ab7Gc7vc83sqHWdc8yCUWlPLVyaAKVfDkhasZoGKP4GJX2AsuqmBbcEYwCL+/XOhBNpLmCxfMR7SPDmS0nsdjCkeYqFoFQaSMEKyaT3J+iX6SIbS2bYzhPG2wZoA6ycdMDKy1QeHASUPRBTkplFNHGYjZlc0I2XLw1d9GKcBEUYdRH0WIfFaM3NMYdrV0ep2aUxU+CkWydbEGMPh0SeY+YQAymbHo1ylz1DxNtSJBmEQKbf5A5x4ai3cgIlspARzok8+9NEHM7UUny4WnzROfAlx5h+WwgzqBYqor+3RVuGam2qnBOopXTOMcDYgrUTYGZfIIw+3kKzt3SECda4T4/AsAFzRg00evkZM+gbZUcsDQ55pA3VEyOWixByozmuI3nm+vXVMrT6LEIRBbelgEMRSh6rGgIldAcL8Jap6PXxMCicrzRUO0C9WWPW9ciCD4ybuT0qrYSzR7WFu2guQ4SqTbimLuFzLNrYTyLctLXUYQBoA6oKmBrOZ1FXQpjAAxBeWJaKzVqYhLY4oimEapY7PBYiXNNLbEQgiBCImCawVGoOJkGkwEHbY5RpyNEKsqG1EooH+oEodI6oLQCn+2gdI8KhvNIaIMIQQQVFTELQKRYKNPmkfdFpYkxQp0uGyZhinUSsAzQIAe7dYtJHek9oua/uD4yWFTbsnuvltMvcZ2iEcdMyH9JXSXoTmlZFKMmgl+exPv8iNPfT9EMmGzUEBVjMFxulyXiqYcJZyYK6iJwW9KAQzIRGmb26ATxoeGiOrDUQxGIOplRIWpQmpaBpa4Yo9A8BJUKHHwNxqFDvgFHiOJX4BXVjUPoCIkBUKvJaVxrTBcleJRs3XGpiH3SCouElIwkZzgIupIpNDqibcRWfjJrgpIIO6CUxtUKnCbqIBtApbVKwENB7VRM3LXskwgCBAhwYoIAAUEzOIMPmkU10lhXvtsFLfskikmZN3yIqphVaLlGoXKkfV1+VyKIOcDg0x6NVbYlowhE+lll0zHvnyQc3uVTUeZWedEaoQ4yfyomJgRyCCABTZt5OWpU6EFR3UR4fcXROF+zf1dJVDskfF0nuzY72Mn21HriNWkd3hqcO0WX5kG6U0HIwlBs0aAZBzvZnxkmTqiSivKz6WRz5bhKjlmoxC2KJuJSNPTGtbRqKMJQ56NUeXzUeKUIHOiixUdNhU/+R2QIttxnJiy+OKxoXulCrfC1JtQKUhwiVIp+o+GM5HuIo+1bxXimEhZP2Si+iYRlOr1tQFs56WzlsFaEQquI8xpjQiLcReFlKYgmxQCSnS6wq06EQbEUCj2nSuQxneIjJtLU7uiwzJo/pOh+nTZ9SGhSCKogeaFEAY+RqTnPreyHCHhVhDVm30ZFIZhmgSAdwjKl5TAG8F7L9Uwg+hTH0lHMp2bSECACoaIi5PkMlThVZhRVtXgTiF03+1KDf7xh3MTCLswOuW/jdMM2oiuPSVCkRDvvjkWc+hFzXtORQJwEf/LvPorpFEY94dAG1EyTZUHJAIAeBX0YztKENkIqU14Rq0B10aGJrBJltVIOk3StSdDsGC1BjWx0R4haBMPM4NrkdAIcfMWb7ZLznwT0wRGr5Ehq8RGy/Z5JaqGC8FDWQMUUc2jBrYOYSlY2qraB6LTQZ4xHKagqX+5DpzMi/x6CJvggB69XKB2JYSLnJQ6caH+vikBkCFabCFWgbsZymreVK9p/DJrdUFNbR500wzyWJOs7CcTcb8w8qTppNZ8iazEmP8DK+hAU6IBqAipteqWBmUUhFBQv9HSvCqobk6YT7Qc0XubAp6igEeEQBFU0js2hbj2KSl/+fA/jOAlFXXF4p5XcimuZxUwYCznAk9StNpG6dkICU9OGn6Nt9/kJASXxGmYBnXwKBdmAvbPiR0TFfqiIgy5OtgRvhD8ECBluVIKopMCi7lVxLNEUJywPqz1tFgp8EQoAHbX4Fxo2dFTKsw9N0RpjNAStaLSYTldjy+HlknefO7Ca8aJhODe4RjGuk1/mJHBkumSOruSA0l5iEGI2KcIoi6aMQN1Yj02wdybnzen2IKd4jGIqeZsjeRIkC96gdZjgSh3lgKlkJ2kbCU7+VzqU7wpBS7QecIn6fRgqYoTaOlycDqnMJF5UYznw7IwsmO81C0b2OyEJZ0AE1ENYiEDo2pflEjNJqEMC/wsdXf6WLK+81ZJmVXnjZwZzZmpo+a6MWFkQe1yPwi23z68KV0QphVqt2L0rtrJOJkioxM7LlGLxJQK28lgdMHqKS8wn4BRdOvUdAkpO5aBLQKhzFucF4owIf6aycw+RCX2Ccj/RKxjT31yUXA8TsZ2a8OuYKMjIaftefUWrRkyJwk5CYYgMUTTIRgdaNVIphw6LItSV8ng0B18xBIsaFMOZIVQtVx9XjGumIGeUQ8gtKcQ1t4opIi+kRuWSBsx+gAJjJ4JlFoZ6pq2AsnFrK6dvVTmUMsWkUMoXgQIwJjIi96RUKCe1OOxiEufrGh252rZ4Z2jaEWs9q2bAqFgEweopLSDPjWEKcM4Pxhz7CFF8Ie9S1LGKMGiBV9uZhkjwnLUTydTqgA+6xMZCUASvJU/D6ZTTM2m/QsOPCZeo098iRK8TeJJMp+ZNIF7dHE1wvNjQPZpOtqiSaq/T4iqRQl0FqsodCcR9FI5Tgcgnso6wH2tuukZ+TwJ21vYCl9qB1ogW+93PPkINMoF6EB9HeSWggRK1W/hZSomp10ZiLwGrUCdYOQWs2nrksb2hVZOWNEQJ2qGF8oEIX6tHxuhn5pUE+zpVFR+oNSOxDeyeVmiv6R7DuAlyX8nfUV7s+uE8UTOWHlUnVAeIe1sgUd34ciIaE9LhE2jtpCUgmSBphLQxjdJgffIvNMZ4rJHgmUDn4kDHqNA64kZTgq7yuiyzC5rLNwuIivXFnrO2L9BrmbOT3wsNRiMoEJTMRUigiTc4b+i7Wig7leyfmDaxSUxrlPgP1voC5FgjUXE7MxeHIMeaMhHVuiNTK0Z1lMeRfZkYFcGLBrE6OdjawfLZeAzFGiNZdmcRu1OFQHcU+UyOmTGByvj7YwwnWqP8PAvUhahY1z1Plzcs7cCZ7VmYoTizIJDoy37N4botqacZtvPLBNEl+om2IsR6mIAUt4wStzDiYEUNpFN3Yw4lkp2Fokrf6ZHTs5rhmJoAhuSYy+f6RMG0KlCd9RzeqbAHhVtG/JkXGkxmfiaHlzpgWiebPS14jIq+qkqapilwt8QAbBKMU/QOHcRMDmLuxbRx8FocSiXCZE1Cq7JGr2VD5fUbkYw6N1rGXmx4f1VBE1heHFjWY/n+jBpVxh9xn7LmyGuu1UQJyeadjwofFIeukudsfYFj63ZIZpsqoIFKz6PT/yY9bx5DVEnwJf0086qytotRYWy2WJJgBiWZmwnWtcpR+EHNl7uJBAioRcvuvUo21ih2u2+Sg502E1p4TlXl700WgvtNpjkEu7QD77bXrE1/JEBGBcmCU5FKeQIK2zrcoBO5S6F7BQtFbDyMSiK9CRSo8sIMYi65hfgXKKGRU81jJ6GYT/l/lEczmWjyWv57L6cYsPUtN77l4EVjPDzb8+b7sO8stvas27HMg/e62MBAMmfERGkqVxJ0Dn2Fc6Y4kjptRB8UmGP/Kx8wAVUCipmLBckBhgKCwDz1F5RyjM6gqoj3iuANftAwaJTTsPAszw80ydEOURWSp9XhToGojBdzhCmmsbAjLk657v1YMR4qmtWAtaFAyjkHHjQqWxNpr1gjgj3fZznPRQTJSA658SV1IQtGFrIsJADaTBrO5tPW7iLqxetp3bVGbdbs3pV8YT1SkolCxng1YCOm8tQnFOL5pr7LuZ4LRP7dBc3Lfs3ONDTGUWtHox1LPZQcBh81CzNSNyPOVLLJvZJA5ghh0AUR84skyC1FFasAQQtLVUehrHgl333pVwT7GqM8lTqOyJqTaJeJkUGBQZi1QzRCC1EBFw1WBd5fX7GoRrZ9gw+Sc5Gp1lbJ5u69ZTfUZXMbHTir5VDYacGKfe1Kon+O/fhwkq9wYqvPR3ZmrfE4b8i0fa0iddIYjfGSUagih6Eqp6jSKRV1NbBed0VLzYfVoZiSmY9mdKDVnjppDxc1jXLFd1RJaHzQOKexjWfZDul+IyE9SqUnK8KlQyRriCwQpw68c5rgNcb6AvzAzExSyY8JmhDA2lBgXe81NjvPi9eBuD8cPax/fMZwkRJ2fIZiEzsxQZ3KRKpKbNRTDXG6SPcKyEyLuKjLSauJQsBTgWVChbpoWZmezaJnrxbkHI5oVOHOExVhEdPrEJxCBYVvhR2ngpqYlACj5jBUbH3LgKHFiRlFJCgFM4zdJyHwMz2Y8sbQKTlJtFpgaUdCnODthR1pzXhrHh40cv0QxXfJf1/Ykcp4Omdl86RNYXSgMpONTNo0R6qZKRCahQ00zlNo/JXxE4yKmCcxXT874sEoaGTjzKn/MTnN2XQZU+DSqkCtJfmo1r6Yoq32ZfO6oHFKuGE2fdeiGQth1OhANfNNxmQK5j0yDwTPfZrRa3aHmuANTTvQ1iOVOU6PDTGiycDTFPD0qVKLUiTzycHy8+7YdKordu8viBZMLuYxo4TkzahsKDbefNwXpJNNdGw26Zkdn4ePKpkygS5U5e9jsGgVOW86nttITJqBZOJlSFaNE+1DZmS+W9Lz1IlmbiLbm5afdo/4rcVP5VokflaESgXGqIs5JQQKQa1AgIJS4SNdfAhW8j28xerAwo6cVR0r25f3+nTy559DFNQt/15rj9Wevas5uEoc0qCpZiTLvDnLoyVneh4tzmsxx6h0MnmKtk4ERrH3Y8kkHL2gViZtLhUlABjyGqXNBOJTmLTRT9e0mFfJgW/NSK09ozeCpNUjMaqCpFXJNHKpLI4CTHpt7qfknztn6Qbx55arjmU9YhIqlf2R6dk58kUy4zr7V1ZFiaTa59fEMD2EWizYvWsSq3TOb0onRcrBNilQdx/aNF+Et2kOPRMS2WixEPAI02YbgynUbGUDsTOoKFogZ7KhEn9HRfSgBZGyQg1Qo5Y6QlnzNSFFb+GH10/pLirgUDbm/F5DVEVD+NNjmeSQJwboZb9gDIaFHVmbnvOqozGOhR6wOhSH3ahQ4hx9sAzBlu91wVClE9bqwOANfRKykmg1u795rMKf3FsEfFBFE5wyCIwOqOTHeCPm8OhNQXdiQokIGqU8MWh8UPRR0nGXzcBCyX1aNW3erP3yfRGh81X5+36shGaf0LT8bNmXNEaKR8SoBFWawboFfAlafCEFm1UnUPVMQ5bDA6jNVEOsVGRJ9atIsL9VQapE8OYKtCbjVfFiQ/dQYToK12luOmUtkR3s+eaZ/3wXl+mrtER+PW+0MRrMTGD7UJUJRknAS2lFOHPgdDGLVOLPaC+Op4oJgQmi9XQqdhB7g146em/pcnIzU05x0TJKftY5a57AeIR9yCZf2Z6zusMFzaNmj1aBtekFTEhoWqanw8S+NdTpd9lMmZm7SDB0rXWJAeTCbCFpxmpmnuRr5DE3H05Feb5eeRO1SmJFGF8IqduuKYLnvGF0okHq2rGoR6qsdU4InToJiFWBIRiu+gUBxcKOUmDOa5ocb9ESmR+91JBalvI5okEDYnrNNZwPughv9tnmh0PxW5K/NGdH5L/ntIaopC6VVR6Wzx2x64tAYAzj0zV+IVAsTJqibA4N2oYSor8rcn0fPHu6GNMETkKSURSX7PM58BZQEgeICr03E33YZSpFEsBBFz/D7KVMTEjU41hF6DVmrwltxLuK3UXNc3fGh/b10b1lM8qnIJRBnOwhVvhk7hgkoLfUA95q9CJiCKkiSKBJtYCMCjQp/xtE6FEeHedCbyXPIIrTXiHO6qgTvwhF5ypC0h5aRdZVL7b6fJ7SwmfkN6ZNf59DHqMqCUIDUKX3dc6Wjeu8VOKw1rNe9NRGhLExjtY4auNuXd8qEdbBWyojhR8GbzmMVakCUmtPk4KOk8bIPpYcQkbNEKSisSkm16IaJXMyfb8LWvJJkv+Un/H04DAqgvFYkzILlYfF51txvXUKk9c1+3caYZqmVM5QUViKUUewIXGcwq2AzXycxiTu0hL3LZJPzmOI5gjuA1jZAWMDMYC91PhlJI6SjhqbkLSbRLJjFSeDOgcctVCR1ShQqxoVry/XfDY84K+2P7t1L6KOI5l7bKJs+lp5QtQsdZ8WSRKSlnqgj0IvX5qepR7KIufkJaAkMQEEpVmm6nJ9sKA0tZJMv1o7hmAZg6EPRqgYEuTAKk9rRvaxFk12QqzMp312ZHPAag6T5yCbUhEf9RHEWiXHt+RGJHNnbnqJsE2JRpU+NeAouRdjMAzesq57em9ZVUNJTnIJes8CnWFlq8R3dVFOfUMsvkJjXUIrJ1Zz9s1ONWF+LUfey95MMZOoItYeIvrlRO0gBNR6xf6JnmjimqnciYrCc7KBunZlYt+mJebm0F3jWEimBCSY2fUner/Wjo/fecXP1EPcs0WKEAsC5TLVw0ZiFdALR8xapDPQeInknY2Eg50oHwE+OTyk21SslJviFPk+57+rwBiFHiF5F4pWj1yw54ZWFscrxgTVbvSBgC45GlkYfMoLyQLTJB/Do6V8IxIwDFF4VX2whLHFGMHwg1GcV13ZBNkEMjEkp1ilRB5DU7mymecbQk5UVegYZu4DAK0aywYsFPEo994YV2IR+Zo5z12o4nlzplhF8pPeX17xeliydzWtGY/MvWxq5axN2cTTgTh3sDPSlVE9GQFNLsQmJlYumpAP8Eodr21IoIECbHM5y7ILAbQmPFgzrpkqdqSsJYEASA52KPbt3Fk+2kQnv9/yL96iJUIK2pz6G/Px8fo1Czvyb/oPYGcJSjZCSZ+sQFWB0Bl046lbR09dgo7KJCpBIojFoPhk+4Cbxy2P9ARPT0G8Y1u9/F2FEp1ulWbUAg6YdB8bcyjs2y5Wwq+aPdcYjWT3RTEVhUZiyrXnppYhcNCT39Noz8r23Ixt4RZZHRjDcdJWY8RnAo6QqRzwmlP08+k8P3kzRA4wBIOKkVU1UGtX5sQFXUwZqz2Nnkyp7Cc11lEpX56v1q5oqTDzG8SnoTyPfN4U8266V39nsQSLJzD5XAaKaXXXGvqQfTiFXX3WzWrFapS1dE9Xkrc6yEL7KjNQKYUJqtoVavgccbpLS9w17su7hgzHxiPB8CcPkk+gs6rjnXcu+fKLB9BJDrkaUuLI0qNrj3eCkLS1ENj6TjaVNoHBK9hK1D46zX6s+En/Du+a6wmWPbnvMZk7VSpoUAEdFSFqKuVoVY5HTHZxqwc5haP4Hjm2USWTogtVopNoRmWm0/pknjy6RHorFWhMjydtpjj5EwW1SgI1R3zmYwwm4fNZS0+bOycJ2dnmHrxhaSfneW6mZBNoXtZmKvRwPHpXFX8oRE3nBWrvvcUqqRRSJw00JJPK4o8OVaBEy+f7J6jsNyTtpPTR3MwFdX4oFPOw/vlrsZXzaBoOT6opbU9LbCIa5AQ2kv+bg3X3jfkX5+jtKex6OuZR2fnJNIf1TkelPR9uLvFB8/LFGVxbTKdFiF1CW5QgTCEqnm62XNqWbqjQOrJsB/q15XDTomuhFrx0a25CS2X2GPwR/Jp9i/xa1iLCmvXoUN1irYrgeFo90kZBkirl8GgpqGZgpxrGaBM0WxWYNtNagORP2BLT0EmVH3wlFdIzwkLkrO5Kauze1UfCYFIEeu50jt4IzTuZVpl4mTd7nv/5z52vypplrZIPkXlldqM48jF8CtACJXhok3At7Mi66ktROrmHwBDsjCeXtNd8vxSI+lgL5sPTqsmUmwuAVjER4yZkz8bXl0cLqDYr+nN1VIkupMT+mGqK5iSi0w1+F+J0+nfIjuD9ZtEvMnKe9HnbcdkucNe2FDrTgyVeWaEN1JGb6wWP1zs+OLvmsltIgMx4zs873CPNdd/SWMeX/RmXyyVL3ZfIdh65tqxMVihM2lyFrVaeIYpVK/cnPxkVqPFoPSaNIsI2YqiiYaV7usRtyObSzjUszCAnOIExGnauKaczCDw9BMve1figqe1Ia0c2tidERR8sLpgScQZKlcPJbFGsqoGFFe2WqRkg5kmmvFgth8YYDLuUrnhrDyRfwiYwQatYfIx80HngxjW0xrGyAzYY2lIAQRC7KmUvjsFQETBZSNN99VEfbe4794aKQHa8zR1/O/4/w7e2VAMEIcg9WOFzWXIlMGzIlTFy3oSdihF83XGf31Em9i2O+N3Xm4hsNmoq7alrj0uVs22viD5XulNQS/T79W7Jk8dbHp1L/wlNZGFG3mmuS+61VpFLv+SJucanDZrvL5txekYD0RkejFNKatYkGkp6a6tS4bSCPEUCuiBYVYJtl7rn3O65HJf0wZayOiAb+OCrZLoYfPr9um8FgTGOje3RKuCipfPyb/SGyvhjpEeZZKJ4lnaizOcxFYaTjZ1r6s5NpkmbS6KQVpFqRlUxhGSGTqD6G7fEBc2Ddp/eG8phM/czXRJk0VaTpimWQ9IW83sp+0tRCmCHGHHBHNehOjmYAxpHqswyvRpQdU3/SPhEKsXGYkVxTEmlU04TiN427kozLX97iyl1/L5Zso+KzDsJ5f/HYFjUI+PjA8Nlg/I25ZNLRJ6g0K2nHy2vuhUfr1/z3dWLFKXWnNsD52aPVpELs6NWXtJPo5xaghjFI1Nqnn4aiOWE1ypAEPq16AkvWiJdw6jIGLOpIzbzEE3JCV/pnjEaHtVb3oxL4QcRMEoqoedmMhLd9qWySWVUMUdckOh35yv2o5zqjXFFIOYgSa1d2ZQBVfwVYCo+QCwR98xYPj3H5v5XqZOl/S2w4Gpc0BrHIqFOCz1plXwoZUc8b/pKT4eSVoFGT+teqP4zn/Q0J/xUIGozUwYgLkRKjbCFHgjQNHQP7CyLLZWKkSuBjSmCPSvHzv2o09fZ8OWmUMVePTJRZuPUXp2P3ol8P9js2dWOXdsKBaTX6FFLaqf1hKA4jBV9EHv9cT0lVW1Mx0r3KQjXU8/IEoZIpZAyLSQXTs00h4oYKRkhqaw6cBMWyXc4XpBCbktOe0CXSHqtPEGPbOjwXEseeGLf+qhZ2Z6A4nJYcPAVF0ZYoNWMb5Rp2UMwjN4wBs1Z3Re7P6M185O+OKzxmGSXN9chmOIHnJocee3KM6rJbGqUo9KuHCh7t+BqaHnU7I/8pbm/GaJkMc4DkZPJmveCzHOd0n+n+01UHwIWqWqenfTT78nXzfdQG4cOGivsLoFi1WZVyjbGHLDLTUKs5Mjm7Lq7fIdfxJyaj/toz9mpkkm4/9pjkLTVPJyT4BZrR1zCWFeoQRFHw+rsUK7XB0urxpJcJCeak6IFTA5lQDhPOh7fw1xzyOc9XT7hiCWLbxdr8U1iSHkYnjb5FCaKthijpQsVj+wWTUhprwdCpdmHujiX+1DzsNoxBsObQVJhV2bgrOmKjzAGU+DZnMOwqiS4OIcvQxTNYk42d4iKMepSoSRTv+EY7YHJRLEm3DJ/8txJ0WoxEV8MG7ln29+yFLI26aNNe2ImXHoUlO3Eh9BIkYGs4SRARYLPs49zTH/JgEQ5HOZml2ZmPimFf7guFZtLFDvXADJSW6g6If/BdHLkQNF8vA11mp84eULnWuKrnPEs5UMw9KNQES7ag5DaoqIfxcnetg1Db1FaOhWt655VcmAF+48FMtVMSUbzkaPr8p5pZApIHpUKRTDyRh6jpUtCEaKwXCsV6aJmKPCuowsLLv2KC7ODKNfemERORIHybEyHj5r320t2rubgKza2Y+drmY8TO7vSHlsFWiOFBXL5nSHVwc2bqRAdo2EIls5N/f6y8yzFpOdBP3MLncqByQzDZjNqjIYrt+BqbDmvO+n9oX0BAARqngQ2f2/OvMyBuMw1m5gAE0x6StKUe9KFnRuiKnGLvH/yHJU1DjOhUJVlOGtygTnCrGlHTGVPqkp6ExgdbgkE8LWi2KenyamDNMe4y6abfTaPuY24HRuc1zxYCpyXhbNeinretTWXh5bBCcP0w9UlVssGG6MtnKZWCfqSc64NtwWZaRneOk7ZtB6Jbnexkk2CCM8Ys98hud+v3ZqNPlArL5R5Akvdsw8NHkWjR7a+ZW06Plhc8unhAQ+rHefVQVAmSYksWmBdCQqVfZEcxDt1aDOS44JmNzYFKaqMZ1kNLMx4pCVc1JC0DCQ7fu5voWlwZO6SRny3WnvOqwNNgoulQ5RGkzemLixiHafIv+GY/wYiGKjpEDAJbcqCoBEi6NG6zPyNW6a6ArSfCUXbMlzYQpQJNak0DJKDXYUjLSEXPRaIU1stj1Mo9j4H+20m0nwcTX5U7MeaEDTLaijEsuxMaRVZ2553Fjd03nI1LNAq8EHzho3uEoViNkmzhCHIOHssjvate04mVDaxcuQ2L+SI0Mnb9PkRzU1oj4RPtETFSg8sdc+lX7LSw2w+HJUydKEV5IVIHyoe2D3XVcvWN5zZjmvXQhC4UitB1VZAHwwr209rYRxDMEe+w+ANLhp2Y11yqBd25GGz46x8NqeVSsQ+l5Y9otQn4KLBzU5+zZh6BS6MkCZztyiglCAFIDnl82qQBdrF3zKfsrBkNEqrWATBR1UQrDKU+CNziPi44J7GFqr4esm4nHhGuV0XNkIlEezMRSmTe/L/qUCcCsr8/eUzs4DM0evp93kiznxMppOkc2YtNaSOplZPUVdBKzxP2xsO7TZFWaVb0UZ3qWLHLLh1h0DLd6aJO/kdSCc0DOiZdkgMWiVR7KyJ5mNAzLc6OdMbc+DSr0qXpHGGr4eoufFtopWILX1mOz49PBBcP2+Kgth4VkaQrEZPaEtuVTZdV6LhvbPsxwqjIhd1zzvtTYmTzM2gjNKUHOtQ4YLBmCmPoU/JYJlFnMfCDAXqzUJTMSFcYzTl+TxT0E9ACVMQq/m8VPhUcWWqdi6lTqH0ZJjNYRnxOE9H5kYnTWEM4WIljbmjONalI06OYFsxnTKtA6YNM+88lMddmuMo2WR2ja+DOM3H/H0HX3EYKowRPn6XMPzp+iIQ+bsfVTsaLYhQplpc6D0jZlqQo0lUM1qF9G7L5hbI/ggnQlUauyR/pVA6lD/yWboUwR6j5cLs2YUmmXEDQzR0USLRN6FlDJYrv+ByXGDUVMg5n4Rfdhs2VY9NwS+JZfjCup23FQjRpQ0oEd8+GKzyXPuWGBUXiz3vLa4Kd+ncHsqGJcrGmmcK5pwPm5plgpn8tZlGAFibviBSeYPO4VohJab0gMQBy3/PG9gkBkd2vGXvJS2i8mv54DhNFpsja6mPYYlnJJoHJH/iPNVa8jDm9r+pFPtU5Ow2ge+uAsnzcVsAjn0Jeci5cz29/z5/Ig8fFduxwXvNO+c3tHbksl+AhlrlwgeehTnu9dzqkXaW3wCwUqkwAhqDLz6FvJZOk+SUihBM8QZ/on6BstlzT+Xr0CZe1HRij9GyCw370FApz+fjAx7aLWO07EPDa7cioLhyC3au4WpsC2Ujz1NOyMkncs7wG6M0mDlNaMrva7RjjJLFeAi1+BVRsWmyhpAoy5ntijnTB0sfbBGmDP1m4SlOvp7MHD2L3zTasTTDjIU7HRZjNOiYfYGYDpBJQ2Voen7/OeKd102gVyEzisCcIEuzkSuenA6tonRH1W3LuDZSDSNS0k7nDvZd5L/5hU6DdKdaws7U2LGg3HZb5xya/Pm7hguG7SDCfNZ0DN4UBqhNGiKbDVnt9glmbPQUwQ1otBpvEddOnzMLQLFr059PUY8QJe4gDqTAra/8WrLy1IBWoTjd+9Bw6Zd0seKNW9FFS4ial+Oay3EpdZKCYTs23IxNySKLCLOzH+V5bMqhrmfznJ81l+1pEsUEYKl6xmAZtcEGQeuW1cDjdsdFtcfqwMZ0xUy98S071wh1PUG2JffhBIELceIczUc2m+bvK2m5RNBOqvvNbP0iIEpqas01uQGpCJjg8rIuGZTSt+H+ktWY5qXSkuDlginIlFXGEM83jEvpyhmtSl1eItiIrX1JSP8qLZHH28wmfY9WuOv3/Pn7xhg1N30thXWj4sa1Mx8lwZEpWlqlRJyc3gqiMbJpkxtAZu0gavsYnhUEadIEeWLnGsWjGJKW8FEoHCvdUyknwhFqcaxjxRgtN77l58NDLsclu9IMGnauZvAWFzVtMk2sCuVEzBvAR4Vzhm6QEjCjN5w1XXG05za9lOmR522VZMp5FG2QA+OiOfC42bIwY5qbOGkq35T4xxg1XSIgtsYVuDrfTzOnZGSHGXVUSC7P3fxnDYzYmYN+7E/l/WDSoTIfUjwiacIYimAYNe0ricUcf84m2DYLdkBhJfV0I/6EgnGt8IvU4aXxUi/0DkasvuMkv1014atMqdu+xFxLnL5+FLlEycJ4w7oV2DE3I2zNeHQqaRWLbXtuDgUeDVHqE+lbGkJ+H5MzOycFjohADBkvjxI/mAQjUwBl5Ei1RiLSl35ZTKsb33LlF/zZ9TtcDW2pirGwYzlwlnYoVT1cMBxchdGBtZ0Sc66dwTsJ7IWoSgTbJVZtpTwhAQ7zFM+cvGR0ZG16Htc7Htg9bdKiPmr2vmbnm+RDqET1kMy5DGbMR6N9yls4KaZ8B8ozr8SYR5Wb3hwdpgLpVrO10XkvzDhVPq1XKAfW3Qc2hFtxjRzTkIj+esXNNxvcEogwnCdW7ExLfF3u0tehkv+ixL/pho8Fw0dV7OvWuiM0RWoPucTwnBauSjZ2k+DQLla0cZw2QTpefHKQyaQzJvpB1gZFQNWEnuQxj034JHweTRcqrvySl+OaPliu3YI3w4IXhxVX+4XEBJoBFzUP6n1R/S5q9kNNl/Ka8zzXqdiYTfQVraU3RTcIgvRmkCIBG9txZrsChUKufxuoU1BsaXqe1EJ1yfd+41uu3aI42X2wxSnV6riuU0YJc+2rPOc+6kSazP7jMYXE5Mh+EoI8l6daJcwOKIBQniN9B6qgVlpF0RazFgAllkF+Xdq2BRUTnCivhWiw7sMnvPl+rsmqGC6Slqh9SSS6y1lWJ5v8Vr+JArfeXRPq1G/I4y4tcTQxs593Yz2VlxwliaZOlPZqFnPITE357qliOFBMHaPGAuMZgmiCOEVPBSO/bSeHqCXKOot3SOwiYMi+hSr8piu/4NW44lW/Ej9haOhGW3Kml9XIpuqotWcIhs+252y7hk3bl3nOdVgz9SIXRpZriPN93TUM3vDSOt5dXUMLWFhq8Wk8mqXqCwmxVY7KyiHSh4oxOdXzeI1WIZWpn+geOfBnE0VmmpcpcccneDXzt+b/5/k6zV1v9VjScjMXKucb+pnWyBon9wu5nRk+UVrKHpsJBlEY1lkwgorYz//uhuHpSGmnlOIStnGlgsNdtWHn4xdhzP6i49TulIeUiRq8oakktTOSkAMlznVW7VrFIwoBTMXLKjUR1ebXH6MtzvAYM/9nKg15VGR5dk/5/5yzHQisVM8uNAJgRNEWuVDadmiKybRqBupUuvL5fsNhtFKJe7AML5ZcLzzVYmS17Kkaz00v/keMinE02NTdx3uNG0WYO1VjK4FJB2950m55v70UW1t31Kl1QE5oys8Mkw9QGc8+1DKfMdIHpO/1bJNlGFg29mw+0vXzNcdoaPVILkQxdZwV9KpWTiqJRFvga6ItwblC7ZhpDZOEZUzvyY56NqGyQHjmvtUUIPQqN7dPCJMGu/uNTqpieCXdXbTkXzeNu1UKc64l7otKnzrT89fvGqd+w/y1+7hPsniawVnaauq3Nu/UWSl/FLDyCRGZsHFXcqWzYGjyKXKslYYoukLHUDLs8ql4CttqFajzdRABa9VYsPIQFTdjg4tGIu/e8HCxp/dJUPqG7aGh39XEvUGNmupaESqNWxouVxVXJnUjSl2JUFJyp/RNZvrZe80bllLwGIFPn9Q3dLEqCJk4/QY9i7/knuEBRYM86841Etk3rqzRnN1cKimm9e+DhNUyqqNVJHhFpaXaSUaVtMp5FzJndVobr4QwSZDMxiFaiIGALtqltHQGmMU00AgihcIrXcict6wWRDhGBB0LXmGbxUjuiybVniVQ19gJcbpLIPLm/Tr52Mcb+u6su1/U5xiCxQexY3NC/ikFJVOu50LmUXRB+EetGoV+nBZnDslKXvjkp2RVnpmv5lSYoy7Od35/NqOGtOQ5iWlpB4bB8qDZs7RC53jVrzi4ikU14rymrhz7usGPmlFX2K2mfW7km1OlEreMpeBbNEzdQ+sASknbKqfo0toCR8k6eeRibBUUG3+ZKr+P6fR0IdHWE6SZiYRT2Z5Q4Fq0n4JmQbhyPjmxjXY0uFT7yhUEcN5005O1uCYnX4kgiNmThSfTPzQ+VVWRhC+doN6cBFbhS+XG+ZDuzrMAYGpeaavKHUWoc6OUEq3mbg2RBeIuf2O+Ce/TKOYOYTp+7Zj2MX+gEDWDl4R7sVlVKcqVhS536Wz01JloHsTqUh+JoDVGHZKWmEypkDY1pXVwKPCmJAxNGiY75XXkKC9iiGnp4mSieDQX1YGPFm9K8s3Lcc3jesvB1wQU16N0f8wozydXF7x5dgZY6ktF/yDiN4G4dKItDonCFvKCRemNZ5RojgjDoeKyVCrXjOl+2lm8ppzczNChZHprG6fgHRSHVqfIdBYIQfrSHlCiSbL5lM2lea/yuUDkkX2w+V4JcfJJ5r5HGWoy2SQ+oY8Qr/n9ZAEpDnnSKvlZba4knUtflorOdyBLbxOI03GqDe5nzN42le6jg+ThosCxUFjuLOxIrY+r0+1DLdHr5FxmW7JSjlr5ckrtQiMaQE+oTJ7kvOGF3Cebb8CwmkW9h3SieVSJRwhJMFW1U1PBs8fV9gjNQefNKMLcKE/dTIXPglXsVjXbTYO/Mbilwr/f8+jhlovFgd5Ztn3NvqsZDhXaRmISDlv71LlHBCMGzfW+xerAuuo5s12JRxglhayXRpKstJ6SfYJydMm3yvWostly8FWJnue10yqWmrj5oMvmbDabTv2yqYxQYAxNyURc6l6AkIQWzoVBrAAxp4hiEhOtgB4zSDcLCDAFBguFXBekysRAUAo7rxQ3/39uhswz7e5KL72LulF+P7nW21Cnr2s6ZWasVKWYSspbLVDsvLdEFyoaLUVpskAYFY8WJSMw8wCeweOLj5N8kbTh96EBTTGlskPu0ykkk6+TLyK/PzJbzlItqXkcAKZOrJn2IdSPmq1v+by/4L3lFYeLii8+XxKqyHLd82i5w+rAyg4sq4FLu2BcCG1+3QyYVFLzMEi18mGwpVHMfqi4Hlse1jvGaAoitUws3ewvjVgq/BEvLMO6PkpcZGHGIhD59D2kIGQ1O9xyMHUeIJ2zaE0ydceswaOwDKa9FFKOSV6T2T6KU1Czklw7AtKFKueh5ENrQgjTdYmJyZy/J+VoZ6LfHGqF21X/5gKh7/k/P8CpoJwKxH0CcJeWmJeWBIEB9wmvzxTnYjKZTNDTNEoWsKhVRPiyg10gP5LdWmIPLqn27HCH5BNIAeYhGtEuejjqkTcXjPwzUBiyIChJF+oUQLSSrhorVkpO6Mo4LsyuZOJ9q3nBz/rH/PDNU+xeEWp47/ya37j4nMtxyY1rWKesuv1Ysxuk7MzajryzvKHWjuthwcFVfHmz4XCocUE6zYaoWZsUvyAcR/jRR3OUhUaeU+jwOaax93XZlC7oQqGZm02NdkIEnPlveWPLvpDvygdGq6c1Msm/m1dXnPyPiYksQpNNJQlMimCkWBOqaJBs0jI7QINS+DjPvDsRgLkvcS9ydGvjh1uvn272uz9/zKQ8FYj8f56APlj60bJIfddqfZyEPgZT0J7MEi0TNxtGBYlThAqfAj1eK9rkJ1TKgwoMSRCyk15oHH4NQKuGI+2XNw0kla4nezhDvEf3Gy2X3rLSfYkdaN2BEd/nD9xHPPvsAcudYtSRV7slH737mo+a17x2K8Zo+JXVc1o9lsDgjZM2Y5fDkoOr2FQdP3iy50235HqQMjl9sOx9IzGK0rwl0ykSxIs+MndyT7/GjgViXpqhBNDy2dWFSuxzLcJWJXM1XyvD4vOYURYOrZOfkdY8z+VKD0fpvyRBQAmJM99j9kkGMpzu07F2t3AAs1gFYj7dN46c67eZRXds6OMA3ikMdh+cG+4UiPkIURqhhJRdl0shumBKXSLITVMSCmFjOb3m18ybNDvduciA0ZEhLUpRt2kBNubAjRf6dheE0DcqU4qYZfs4HwKtGnnXXnGmu/K3HBOYw7lzklqdUJUxav5k+IB/9OV3YFSpTTO8eXbGFx+e8zfXP2Kpe25Cy9a3jNHwXn2VTCDp870PNVduwRf9OVdDi4uawRmWqUL3PMI9rc90IsszCHV+jFZQo+jS/U2xjYlpoOmjLXnQJbcjaYhGj+UQyWYjULZsnusJ8g4EAhU590Lee8zpCkeHrkEzRIF2J02Xo9yUOEf+v7Bz034V6vgJujRnwn4dmDUv5i2T6sREustvuNfHuEMgcpbV3klSUZV6GuQhZSJlgiwJd46KK79Ib5AOORmiy+TAKUjXcBMC2HRSzgLYVeI3ZVRm55uyKTK8K5XFVYL5xCR7Ym9o9chSC1epm2kKj6ImsNEj+5SU0yoJtj3za/4/2x/w289+hecvz6AJuKW0DVCD5neef4dfXXzJh9Ur9rHhy/GcT/pHPB82NNrxtL7GEIt59LS+Zu8bXo0rni3P6LxNOSJSFEDo9GPZkNI33LBM9yrVCyeUaB+aFLVO9rueNMeVk/m2yh1pGUmmOtbq+dqC4mmMGo7gbtlH4VjLJ3QlQ+Z3WSESmIzl/VkwMnwr9J20r5TkqucI/L3m011a4i7E6a6c69P/7wvC3XeNuwQijxA126FBQepjMNVamudnGCXFu7L6Dij2oRZ0yYQJfozyvRlz99Hywp1RVx4Tp9Ncz04vr8WM6mJFHyr21GXh90lYKuU5t3u6WPHar+lCxVlKf81QbhctHZU0pFSCZFVEPvVn/Gc//+/xR3/8EdW1IT50VGc9owKlI9VnNV/8wbv85/pv8b/59n/FE31dyvJc+RUv3ZorJ9s50yXeqa7YVB3vVFesbc+Pd08YgpAS16Yrp/Y8CSqbMNm/aKEE+/LaVriCuF35llfjikr50pcjr2+e7xwjMmoCG7KmNDlfQoVC6QCBuVdq6phb/ESOkau5xs2mtiZrB8rrGV2UjrfHdNDiaM/HXVSOu0ysu6LWR3+/Q0vMP5sf6HS8Laeh0JadxRpfyj+W4MvsvT4qrEpOXsr0yhX6JAIqQTujU70mkr0cDftQ8+V4jq5Con3POP/K0aK4MHs5PZWBqI9MiGw/Q6I2qJGVlqp9m1ncxDMyRn1EUf/Ur/nff/H3+PnVORcfXFN907OqBzpn2bVyze2N5cEfab7cf8B//fCv8D958Ltc6D1YeGS3fFi/4tq3GBXZhYYrv+CT/hFaRR5XN3xQv6ELFV90Zxx8xT7U3PiFOLcEulkMJj/35HRngEDmZECyB/dBEKen9U2BnI8LGciGnRCoMLvuVNAsoG/V22pnAlTuI8Pld4zifKdgXzh5Wzalcgxdz0woVMDmUoenMOz890wJ/7om1X3vuy/d9D7S4F1jSE72shmOTCeYhKz3FmFNzivNCdmvznWd1GS/5lMoY+H5M/sUvygOHFPVj1FJCqnkRtTl8/kk2phD0gyOlRpY6pE2XWcXLYbIRkv9J+HuQBcVf3j4Jhvb8/1HzwuMqYnsfM3gxXS8/M7Ii4sN6lnD/+WPfpPv/Y0v+fXm5wkIqNnoA0vbS33aWHHpV7wyB56PZ3zaPeQQar48bHjTL7muF2x9w/vNFed2n54jFnq9IRYfZR7ok/UMyaRVR92ZsoDMmbEZDm/VQKtHMW+iwNZH36dCIfzB5OeN0TI/008LXJefk+/nmZCpHCTM8Y45fAtANIV1O0YzOdqnvsR94/REvst0On7//Sf/fOLkoW7DsacjZ581JscWJl5NrksaZjVWa+3Yq3oWDRVezbwndn59VOYWDXx+XzLRx7yoMRXuyqTDle5LUtFS96zUQKvS5k8HZ4VL0CHUKYjUhcg+WJ7Ya76xeFPmJkdgL0cxh/pgWdqB1jquzxsuX6/5/735Vb7/7udy73pIgrDkg+oNu1Qa54PqNSvd88AueTluOPiK192Knat50a0JUbOva87NoaBEJscrkh9k4rS5BQ7Nm1ineEbqR5g359EcxhRIHUtcyKjJgSZaTCYBztYlO9XzIN2YshPlGlP1xLKnZoJR1k9pwJVrTAKT8/WnZKjiaOeNdeRLzGITb0Oc8mfLNWZxCbnxtzvYXwX5liwzNNuxkZZOqTBXNp3sibaZqtKpKYVSyyK2ekTHUBanfB+5ZuskBHO6QUkzTSdy1ioZtlzpnmUqu1lnbpUKbLRPvCIhHWarIlCYBeV5cx7y4+qGC7NPQbImzaO8c2GEUduYJYt6ZDs2dDlVM8rJ+Mhui/3fhSoFJKeTHSb2QmscZ/bAuTkUCkZ2uodUXKGLArF6pY8ACKFpSOOWPvkauZhygWmZDsfMbSr+y2xDmwTJzg8mn/Mk0mf3oUGXw++Yyj+n6MD8kM1CclLuhkk4pueZ+RRvo4W/LV5xHxXj644p++rtWkLsQAlQaSV9zjIUmztwAkcOWBbEg6/pg2VhBpZm4MYvjhZiHoDLEe95MCtTyfPYBdmEAc2F2ZfXN+bARnes1EClQtIQElmtlMKgqJRsihClE6cnItF2IEKrBzam46HZFr8F4Nzui5OeqRKdk0340eo1N2HBu/ayxBtKlRC9x5jAC3fGC3fGT7tHbH2DJnJeS4R9U3WzqLSmj5p96dSaaOVE9jS0eqSLYyk3CqQ+5zHBtf4I1ZtMp+nfqUDM6flzgThyqBNMPKjbG/uuPXWaeyMOufgXmQSYUUI4TtW1pzSMUxbsrS88ikncwVH6Gg72fe89frDbnzv4isNYsajHW33S5pOR/YkiKEhCzo1rpfIEkX2o08ZWLPXAudkXIZjj3iPSUmsIEx5SJ9KZ+AVibtR4CYKpUBznSkGbtQOgS6splbhVcn9jjIzpcVs18sDujsyMjTmUUzv7RHsrm/bJYsuH7etymtaITT4iNWx91LSI2bIxB763/JKtb3k2nnE1trw8rOl8xaGteFJvWdu+mG1dqHg9rLhxjRRWMwNn9sDa9IQUzc6HSMuAwbKPzZHjPW/gDuk0T/5dXv65f3caYJ0nLhnEPJX8FH18vdm4LxnMpLnJ5pSfbb/MdA7kEjfcDrpNbz7WEplQ9TaY9RfRGHdt/rs+n/sy9M7waCX1jbogDnV2SHPyUY5m2zvU38HXhXbw57unfHLzgMY63lnc8J3VCx7YHUs90KqBoHQxF+YO3VL1XMyc/FaNrLJAEGmVmEpA0gKaikx5EAOGKKS1PIsBqJBqHxdmx1NzU6oFnhZU0FpaED9o9jxtbqZyPUys3VY5NrqT4CKm+FI+SifXc3PgabtlOzZc95IfPgTLxvb0wfD8sOHFbsWhl+zGZdvz4dkV7y9TPkQya7LgjlSpOknNPtRHmXU+0W5KsQEl9cTngUMf9bGWuOPAnJtHu9AkmHicEo7S899tWk2ctPydKAodRMoRCQf/2NE+OfHvhGLvoHPkn79uAQKYUKdyg19jbEexrVfV8NbvnreWyo1Ncg53MKrY7loFnl+tGXvLX+jH/PDiCd9/+Izvr57xuLpBukmDD03xETLVGSgV/1bKFUd6bio1yhbhyCOcPKuPsWyFfbQMGM50J35JOhnHKIWipQ6tg7QhPlq8Zm0kUp4p1VlLNcRkwo3sE+s0o0e75KOMqYPQaKWXxfUg1VA6b/n0zQXdzza0LzU6wNWTFeG7mnXVc2H34mfM6TGzTZ8d7VzDKQc9pXzoWOIf0xycZEaeUDCyMMyTojLKl/M0OPl8zgsp10tm8HzkQGIWGB+FkXDLfLrLuS6b7x5+09v8inuJf9z9uVOaR5HwVKigsf6oySJQnGy5t8SjT9oil2XJCfdbVycmrefM9kKRHgw4xcvLh/yj52c8/+aGv/HopzytruUaKRj3xF5zofeJIp4FwyeTaRKIrBnEsZ7ZtgTGKJHWPgZ8jBil6MJ0wo/RiD+hs0DeVnedCpybPedmX9Cgle7xKFqmA0I0hqfWB7poMXHKbtuYjjN74Bkb9mNFP1quu4aruuUwVOxfrFi+0NQ34BtQo+L6esGz9YaV7SXeMAvKZd9jjgIFFH20EIRJkP2L0wh1YSarcCQQp6xjWQs7u0a880DNczmPr0z7aUpNnfO78nyNzKuOzwTidLzt9bvG3LSazK3bJ3m+0bvGKRFwjHKarWqJT+RykbakNMok5UDNERLFVFwrF0irlOfD9jUfPLjiR9ctymn0QUFX8UP9DmMwvLO4YesadmPNtzev+Gubn1JXniUZoUkagljQJYP8ExNJ4xMZbYyh+BT74LlJCf0bHRhR3IQqCZdno0YqIiNTeqhOpoJHJSe349IvpUGMklhCriXbKqmBNMZMnYYqBtroykndxYozK80i933Nbt/gdxVvIqhB07zWVFsx1/uHEffAsV4nfyNK6Rs4jkVk7eHCFMy02nNuD1TRsoGSy3JrzyQTakRLH480xKeT78js4tLJijATSHvkC2bByAFHeW3GY5vtxTEeC4ads2HzOEWcvm6+ddmEcarp81UU8a87Dl4aHa5rafYxpCoStU6O7T3mm4+KMbXDckFKPWbY9dzs+TuPf8zL7YrLz84gaswB9OcNPxne4aftI2k+H2H3Yc377SUb01EZJ7bs6TMhznRGl0QgxEQagSrd3ghchpov3Tkf2TclcJUrkIykVNY4qX8KNUEc/ewjrHTPhdnLyZqe2STlslQwEsWhzPMdJ+d1jCb1nIj4XUX1wlJfy4eVB7cEv4DxPKBaKaPjomaXSgsdTEKomLRyn6oZ5saLSztg2sC5OdxCnmCKRexjM4sjTdFtoNBIWj0xnqU1QZxO+6hKqmrWEPn6kKDgHNM6Mt1yaRyKP2LnvsRXZdS9leP0FiTp1nXIXJ+7qean2iM72UYHlnaqC6uZ4hO59/bcrNLJ8XJRKtrtxprd2HDwFR+0l+hGSkP++pMv+SdvVrAzqAhmpzBdRahFIPwi8vJyzb9cfJPtWcOH7WvetVcEe4VWe4xydFHg1S76giTl2rP9rAfGsQbTfOnPip+iU3Csi6kjqIpUBLqY7GR8yecYoy0dmHah4Z8fvkNA8Z+e/T6tGVIeAVNcJIqdvVJjiQ5njlJTOTDSNLPaUgIoUYtgAMTB0Hc1L8yKzlkUkrc9ek2MSkruBC1dpHRA60hbOd7bXJc4Tl7XnG+dN+yQzK6cn1IoJlHuv6QFJwHKrAKxICY/YU4dyT5EppfMY04lEDgb2fEeo8lJRncQ/d4qHL+8QNx3raObOxnZJ5CU0+Pqc5kQWJJVULe4LvkaISpMakM1RsMYLK3p+P76S3709DHPt4/goDGdHKyhVvhGbGq/t3x6ecFV3/Knzbu8t7jmW8uX/KD9nHftJRe6l41MZIiaq9DwB91H/Bdf/BY/+fwx0Wvq5cB3n77k7z7+Id+uX/Bn3Xv00fJB/Ya/2v6swKkeRZ9iAyA1mbrkhOdymzm4dumX/MPXv8Y/+d3vgYHqP/T8p2d/wIV2tMlc8zEWCLRJDugzd87vvPwOP332CFt5FmcdnQnc6JrqWnyJcSkHQkxNQMOo2V4tuHm5QvXih6koWkU5RbSR0ERiHdBLR1wqeifNI7UKRYilVdq0KTOIMUfZsgY5qiWFLvOj5xt/lvaaP4vKZU5vc15zlLyQA8lUkJj21FcIw2kRgreNSVjupoP/siMHW3JNVTg20fKYq8gQpbBVrqY9d7w7b6VHw5zIttryzDyUNgQLWegcBql2ChUqtm7NVq94ddHxbLHmj/R7/M7iO/xHj3/E3179OU/MjhH4R/vv8r/7w/+ExT9fUW0j67Vi3EBUDZ/ebPjP62+x+/bI6smejx684cHTHRs1clrF/CbUU4kcJtWfOU270PAPX/8av/9f/RqbHXRPI//izcf8ndUP2ajrVL1QpRMwso+GXbR8Oj7it1/+Kj/54jHxTQ17jX+3R1cBvwxUW41rwbdROlt5BZ2U4dedwvQKs08F9CKlyY9bUEr1B20IrXDmvtG84YPqTdnw82ApcEQAzM51zq+4r1FOHiPHPuq8TdnRfjjRDKeR7PkesqemUx6n/KZ/HyMLy2k5mfx9p+ZUjjq6ICXjazM1N5d6Q1On0dKTTiU4Lk4O/nElkFl1B6aUyY+Wb/iT83fhalFanOkAY5t6cZuI7jTRRvrLln7boExgvDDsH9aSohot/7er3+L/+n/8Dzl7FfEtLF94lr+3Y/fxmuf/geb6fY+9Mix+XqF+fM6ffmfJ/+z9f17s6Awl+qhYqZFXqT7TUveJ2zTd82Vc8i9++we8+8eO/sxweA+eNFuGaLiJFoKjSvPTRcUf9N/gR907XLuWVwexi+La4WqNflNLDk4VGTcBqzQqKJSPmJ1Ge9CjwhzExDJDJFjoLxRuJc8aK9EqsRK7p7Ke95bXKRrvinCf1so6bsN8igyp8rpk4t2OaI8pVRWlj6qfZ4r7/Lr3jQzm+Mx9+mWDbV/n9TyEo/SLXTOPXOnbJux7TgK8z3SbxyrmmkKrmErhTKxIHzVn9sD333/Gn7z5CNMZaYATQDtJXTReES2y+FYJDl+JGfesP+PPqvf5pH/IP/g//y0e/dCzfd/w+I8O2H/+p0Tn2Hxyhm9+lS/+uxH/zoDpa6JSmGvLB/bNEVok5LnIhkClUvUPpCxNbhmmCfzD17/G+Z+D6QK20YwXUqmvixWXoaVLQcUxav54eJ9/tf0m/+zFx3z58pwwatSNBRvRg0YPYsOrTkmVGCfPr7xCj2AGMD3oIYoWNRAqhXZgekU0ES9lqUBHTOt4sDzwtLnhkdkW7VAasMyo3/ONf9e46/Vb7Q/QqYCBmR2Ux7kVd157Bvnn+yrm032BuvvG/cTAE5PmDkj2rhjHfdCsNCc0kxPN1HBQq3kPg2MYOGuO3LI2O4P5XqZ83ino9IOzL3n+8Zo328foXqED0rPDSuUUELxeGUVUGj9otkHxyfYBWgX+n3/8a3z7n/S8+vWGzc8949pijQHnCNsdF7/7jGd/8x147AgWVl/C+P0DD80eH4X/lKkHJQiYzMXLAPsStIr8q+4j/umPv8V714H6TU+0ike/Z/l/f/bX+K9/5dd58GDLO+st316/4sP2Nf/49Xf440/eQz1vUBHqXmG3SuqWSSo6roXxXJp/0strpofmTaTeRVQAX4NbKEKliDrNjZTSxQwKryAuI2frA986e8W3mhcl0cmcQLGnGiKbOAWUYL6mU7prLqQ8psDsfPMf0UISNeaUDjR9/3FKax6pXu7dgbi84fLffpkxF4ivKmNzH71jjNIxM38+RCVZdUkQch+K0oQx82xmlI8sSErFVJF80hQhSjlJowMfn7/mxcMLVLSoEbRXaK+IUTaLcaC9hhtNNOA7w0+rh3x5s+HsDxv0sEdFWH62R40BtUxmyjDCq0vqy/cYHssGihb+x9/7N1RIrIJ4u9lkZtb2qfz/GA1fugv+4bMfEHZiHowXDdv3Ld1DRagi9vOG7acN46vHvHz1Tf7vfzXywa89I4yGs081ekB8nFTkxO4jw3mqPPJC5brSRI1oTAWukb+7Jfha3hOt/E0ljeorafRTrQY+vnjNX9l8ykO7Pc7FvuvUj6dI0LHTPBeW4/0SyB09cis0GS4J4jzJSR9t/LlAhExRJ4M36i11nO6NMdzz/rfyoSYabyl3+BYtkf2JfPO1ntUvnT1sLrufC+aW/NsZPp0ZsyqZTk1q5DLXOGM0bL3QHxYPDvTbNVWv0X3aPFqhHNgD6AFClXPfFYfdil0defpFwG4HVl806G5EdSOH3/omz/56zbf+D5/D6ATufN6w+jRy+d/p+B+d/yEgJuIIhT8FE7V8jLFAi12s+KfX3+VNt0AtHMpXHB5ZDo8Vh/c8utdUWzGFuqcRt1J8+N84Lv/iPfjNnnENi+eR5ZeywZWXkz8qQAm4YA7iU5ku0l6G8h7XKKIRYY46FR9MfLxQR9wyoB/3fPedl/yV8894Ym8kt4QpZXhaX12QKHnWUwr3LOodj/+uU5CughSYtEdxoynXIk6kw5M9loPCOXKeP1cg2dNmK/LFt1Gnr0vhuA95uq+Kx3ycqjpBj3S5jz6hSXNBzBX27mLN5od9W1Ho/L1X44LroeXxZsdnTyp832I6ORVDHYXdCjTXgeYqUG0dodKMnxp8pVh/ekB/+YqzwaF2B+J2R3O+pH1VEa1BHToe/xvZIJ/9vcj/6q/8Nme6Y+S4zum8UFteylxI4Mvxgt998SFPV1tpgNkbzADjmaK60pz/CB7+yQ162zE+XfP5317w7D+oePr7juGs4fCdHntoaK4D1T7Sn2uaywhakeoNSJG9Aap9TGaVoj9TRK3EzxoEbQoWQiNOtjvzPP7GJf/Rez/iVxbP2JhOqCdRFzrGKZcJjjXBfJzSQLIQ5USk+ckO7iinOygpoOCjSoHaY99hThmf4hjZytDHOdq3eUzh6G/z/3/RcR+F/C4Uar5Bphql0s51KH3cYhKIvPHvFghIZmB6ttLlSB23sx2jYedq9mPNwo5874Nn/On+A+qrCtODCuJUil2tGNaaaOReoob6xqNcgEULry4lBn29Jf7en/D09xVBafTDC5afH/jZ/3DN//zv/jbfbb4sMZe8wFMPhol27ZHF28eG399+kzc3Sy7aA2eLjmFzxvqTA/VlxeaTwIN/8CeEvieEiPkRvFP9Bp/9xzU33zCc/TQw/Jrn5vsj9bWlvoFqFxmXivoyorxiXIkWNAq6hxo9RkJOGQyQmdoxte8IFnwbePLhG/77H/xbfnP5M8lHPwmQ5YIE8zzr4409EfcyDeSo01Cm/cy0B7PPnzaDkdvVJ2aSulM7zAseHGXe3ZcTcS/a9BUOdn7PRNQ7+dtbhCsLhgvSzlYc4+RkzzLtcitgySUORycA3EagjJKSOItZ6cf8dxcMna8Yg6ZB8fHqDX++foo9VJg+Mq5VKRXka/CNor9ItV1rAIN2FfXVmtUzz+JZh373EUop3LpGRdg9bXj2NzTf/m/9jI/qV1NCfgpI1YiZl2ka86w8j+K5O+P/++l3GS4bxkciMrv3NRe/v+XxH9W0zw/EYQA/aZrFv/2S+q9+k+2Hkfd/x+Ova558+IbL7zzm4k9T8C2CGSPmVcR0ilAr7D5i+shwJrCsdkkYhMtSYjh+Ebn4+JL/6Td/j2/WL6Vub4bWZxs5FxsIJ6d0WSukDtQcnTod87YJeRRNk7ZTQJeCdfP1nQvHXDucflel/N0lbk7HL6sdbl/nOD7xVZTxTCrLplPe3PnUzyc+zEqapJ0ruRUUdmycFU/LiUaSb61muRpW3qcCF9WBv/Wtn/DPfvbrLL+YOZ8JikwKC7eO+Fp8DQ6K3QeK7YcGPa7xbWR86KHxcDCYi55vPL7kveV1SSKSqhfHB8eYkKixJCHJXPy4e8ruzQKi4ovLMx5vdtx8y0NlWf6Ln6A2a+K3PkT3I+HFK/RqCbVoOreRKuT2ynD+Kx0vHjm6xxXVTSQXUbR9xLUK5WJKLVDYvTyzb0RDhkqCm24VGR84fv17P+d/8ORP+LB+VZCf08JmeXOOSfcdFTLLzFgmU/euMReIu7RM1kpDSg8ur88EYs66PnXa86iUx96q/PeWCPZdwnGqCX6RSPYpIjAfYzQcfI2LmjqZGDknQqso3YpmfJpJKCSg51JHGxemCSoFmFOZldxS1yMlJHPjFCkUsOAb7SXug559bNBOzAq7ldPVN4Ll+zpRQioIVSzwpDeR8ZHDbEbO1gcppaMDN33Nn18+4furh3xYvSpzXTOZglLNIgs7dFFzGZb82fU7MGqUVxwuW3bNAGeO17/5gIf/4DnxzSUv/v6v8fJveH7wn1Vw6IlaoceI2Wv0MGI6y+gN1XrALSpMp/AttK8jwaoCPUclfkOmhxDlZ99A/yDQfvOG/+SjH/PX1j/lib0+omjokzUt9IyTDZ/zKuafzc9/tE+yyZWuMXI7gJffc5fplCkkQEkjDrPvm+de5EJ6vxDPSR76+L13US5uXecOJ/u+vOz56V2CKkw93jRTX+65YJ36Ff7Uz0jxDF0oxTPzKWrGoHFeXss5y+89veS5PWN402CvNaGJhBp0r3ALCWT5RcT0iupGAl2+BQL4g8E+6PBBc9Ye+Pz1Gf7LJVcOXr+zIrcGyAKR59VHxUgk+bXso+XfHD7kD3/0IXovvJ5YKbqholqMXH27YfVb36b+Fz/kyX/5Q5784wu4uiEOI+rBOYtXAdtp2md79FDzZr8gBI1bix8BQNTYvaA1Kk4+g8p+hBHhGR4E6g93/P3v/Gv+8vKTW5ylo3VkigHdpR1yJcK7xn2BvXm84nTkNc3fmZ3snDIrFR1TZfITiDj7ckUo5JfbWuJOzXCHvzHPpjt935wHlaHYrzPGaIoQyAOnkoapKmB1DxcrZ9rNHzg3Jcx5F/n68yhmiAofJMiX4x1r0/Objz7jX6vI55wzVhWql5PaNxE9KqKOxQGPCtwyontFcymz4J4a1mc79mOFe7Hg0R8quicTv3/FeJTXPUSd4kN5HuCF3/APn38fc2nRo0hKrDR9J+VDx0eBL/5mw9m7v86j3/kM/7OfE0eHMgazWrL5yRa97VGjY/XFOds/eEAVBUUCqG8QkykCfnKgo5Y4la8V4xq6JwH1bsfDzY7LcSmIkJ6BMSfBttMNfZc2mWfH3WfS3OeYzwVkQo9U0RpZGPL+KfeppHxmSAFe+f5Q2Lz2djei+53ir+OA5/fdNr2Okay3Ve/w6MLHt2rKi5g72Llp/F0h/Fy8YE7vMCpQGz9z5GYkwagZvC1NGUE009Y3XDvpMhoGuZ9YBxjltGZQaKdKQMGthUC3vAI9RvwSjPV0o+XqesX5nxmWLx3DxeTKZRDhqF0Ykrs9RrgJFf90911+8sVjtBMKBgF0p/DXFWanURa6dz2Hbwbe/OAbPPqjD7j4V8/h9SWx6zCfvST6QHx8wflPes5+qtCDJ1aa4dyiHIwrjW/EV1KjmEkg8YlxBf2TgHl3z9OLLeu6Z+drrsOCpZ46rN4Frea5vw9ZmptGd5lQGYo+vfat3+NED59yNiaBmOdmz6t55NfyNfbR3GbJ/qLjVEvMBeJUEL7ud4Wo6L0tZlLOi9CIc10lgdAqloYdeZyaTCVlNRVflsj43OESmFcqmYNOJ1/vLV/4cz65eciL1xuiVxAU6EisAnpnhEXaelQneRi6U9RboT/4RshzzhkqE/BXFfWVmCd6hJ/tH9JtKtBd2jCzmESap300fObP+b03HxEvBcHKPkw0oDvN+Q/ltNt+pBi/MdL8pS1fvLfi2d96ytmP3mX9uSekCg7jUjGulATlrgL1paO69rilwdcKXyWzSYuW8As4PI24RyNm6bjYHGisozaeWrtSwmbe02I+prZqrphLec5zceSpeEG8ZdLMWwDrxPmaEwbvooWfJhDddV9ZIHIFxKwtPIo+VPcXWL79Zfdria9sxHLy2bdpiVy8rE9VuKfXdRGQuzRRNnmOXkt+SIxTxY+7Qv0+C2GenKC5Glu+2J1xfWhROqJsEPasjkSvCA9m9OdBw6gSk1S4QtUu0j/SLJY9N4eG+rVBhci41vgaOldxExY8jdujoluSdecZouYyNPxJ9wH/9vN3aJ8ZxlXEHhIsGhXNG8XDPzugXMQtlgzvi3n5+J1rLhdLrmzD/j1NdaMEgWpTdD4qxjND9UD8iKhV4XcFK41hQgXdo4h/t6ddjizbnk3T86DZ86A+sDCp1wR+ll56O810Sq6akn7uGuJEn+Z4v53ZmhtE+uzTRlLpGnW32TSzLDKymflYuZXCPtQzR/tW3OEXQJFOkjzmY+5PnI55ZLpci6mpYHamx2KTijDYGRQLpGK5s5qxJBNkzo5FTK9KT50yDYE+VLhgiulkdKC1UnVv2zVUxmNXUuNocIZcnKPrKqz19K8XqFFhdwq7Fy0xrhXdY0X31OEPNeNVw3IncGb/QDGeSfnPT8eHPDLb4lP4xPMC2IeKT8dH/MvLjwmvGprXYtJEgzjDiaxHAL0fqa8jam/pNpW08rqqqW6SQBwSZ6kFVBRGLCIgw0aoG6YXGJYovlH3KMKHBy7WB2rr2TQ9T9otm6pjbXqe1jecpZpXd435AZU3/NvGfZHt/Pk85v7F1x3zaiFGSb3gvZfeHSFKyZ4uVOxcw/N+PWmKOfnv6467HOy3ve+rIN4csDv4XH5xKpEPk8YpzRohVZWeEKq5n5B/VkmQcnwiHDlrSvK9E9VFyvsHtoP0XyAJy6JOaZvA9b4lDIb+qsbeGPQIepS8gpgqaflFlBP5TYPudIkF+BqUgxfbFX90841SJeRXq+dUKRC5izV/1H3In+7e509fvEPzyqDHSLVVDGcRDISCDkViYzDSilUEYlex/omluoloL0RGPSoGlQUD4RNZVSBkVEqsWsB4Bu7cs6gdy3pkVQ2sqp7GOGmOUwUe2xue2Ou0bpq7StLkkTflKaKU/ybrcCxEss6RU2c9v/duOvlUUaSLk9+wDzXPhzP6YHlU7fjjm/f4g0+/wfnmQDda1m2PT/k6gzcz9Okt5L+v62Df+fkS1f56n8tRaX0qEAURC4UoKHyaidQ3RTUlQj3M2tjWWpqTzFvGejS9t3ReogKV8bTWSW2j+sCyGvjyZsO+qzl0E7tm3NUSL0jlZ4KF4aErVTBCJZuveqMZHwSWX+rkZ0C1jYxninG0/OTmEc+6DRf1gf/1e/9NUfWv/Zrffv2r/PjNI3Y3LYsebAfqZSQYRWgidlTJR4mMZ5KbgZci2Xgxh+qtxB76c4VbScBNDwrTJYQJ0TgqRJST+xvOYTgPVOc95yvxIRZ25EkrGm3npWfehdlT6jkl7sddaNP8f1nfu98zJ/2VIF0yve4yuXKq6RhNoYfPBSDviYOv+H/8+AfoP13TvJJ1CRVsXkVe/o0KpSN9b4lBs1lLGdAT7tMxFPt2KsYJZ+kO2sfbTKf7rp3TR+2s4h9AkxKDcsWLydG+fQ0fjwN3WklBZqtzfvaU0ZeDdgCVDjxo9pxXB27GlqUdeLA8cL7o6Jzl1eUa7zXVaqCuPUpFDvsGrQOqt+AmiK9+o3DLSPVaJ2EQ06l5E1N8Q/GzLx4Rd5b1u1v27zTl/v9w/xF/8vxddi+WEMQk0y5SbyNuaTi0cqo31xHfWsa1Eeq3Blt5wl5TX0N/pgUVW8pGyIer3QmtIybt4BvF4Z1UyuZixKwcTx/c8O3zlyzMWODpRktT+CmRacnpmAfjTk2ou4J7pyf+RBFJlI1UAC0Xss5txvLvWQh+vH2Mi5Kh+XK/4v31NeuqZ+8q6t9b89H/6VPQGpQiLhp23zrntZuClTDlFNn7ste+Lgz7dU2n8v63UDs8k+l0ei+5n51OCNL8Xk5h2RCn5vMqwbg2sWkz8uSCESg2GEYv2VqtHVnagZ/ePOLlfkmfOrCGoFAK1quOdTNQGc9+rLjaLcRGNwFTe3y0RCWRbhVTRpqeEB2A7qFQJ/pnS5SHxQvN8NDypTsvhc3+5Ztvsnu2wmwN0Qg6YruIOQjspJ2iukmw70IX+kWsA0pFYhMxXcS3imEDoZGYhB7EiTZjpNpK/ME3klux+87I8uGep6sD62rgUbtLznRgBLa+YW17lmZAE/l8vKAPs14evqbRLrUykwLQOXZw41v2oWaTWo01qZVYbmQzbyGckarcTuC1W/PFcM7luKQPpiSchahoTCrVEwzP9hsOgxR121+3aBVZVC2jN+gewotXwgszBlXXtKsawqKU/lEqFrb41+I+3d6kt2HYvHnvfv/XM59ykE1+1uV3OaFcMavuGoaAVZ4eW0rahHQ6ZX8ixyhc0JOJ5SfW7eN2x0V1gCVc9S27g5bG7IC1AR80l4eWvq/wXhO9QpvIsh24vlmiggT1QgXtKyEQ+graF0IotDsxUeweyScOwplywO/vv8nzfsP3V1/y58+eUL80mF5gUTOkPIch0L4JRK1FSPpAzOS8AJhIf6jQe41fqGLGhSrSvFK0rwPjSlHtEqdqo+jPJb6iqsCyGXnQHlhX/aSpVSr+gGLv69Jt9mpc0Aep1LF1NUOwWCXpsJX29F4QRBc1z/Ybnl1tqKznfNGxsCNKRVrjWNqBTdUljaTKOnmEavOiW/O6W/H8eo3WEa0DlfGs6pGH7X5iNgSND5oQNIzys1ZR2MoNFITEe+LhgHmzQw1LaKc9JDG7WTWPr6rW8XUSiab3ZhV4UhnwHi1REIWUKZc/M6RTIdd2yqVrcjGzXBJzfo9We/Ac+RpTFFwSkSZYThcne1nJYv/x5Xv4oHl3dcPH56+5HlredAu2XUMEvNdYm1Cx0VItEvqiImHpCa2ifmkYV/JyfQVuqahuItVONqkeACWBuGghRvjdVx/xkz9/l09+5QHDZcPmUpKaQKF7GJea5ReO5XPFsJZeEZnS7RtFaMBcWpQTAqCvhbukHVQ3Iggq8Ze6C41bQ/c4xSBaz6PzHb/y4AWbqisZjnnDvR6WR2uZ1yrPcTZ5c4wn+0YuSj+Rbd/QHyp6VeGDpjL+KH/HaGmtUBkvvp91E0vaWzpncU6jdcSYvNZDsRpy/AnAmCCa1XgeNHu2uuHleUTVNbGf+uapbkB5NdlB6X7u1BRv4zjdNb7qPV/lT8ydsNKMXPtC/su/GwIOMxEAUwQzRyfnKNT83rJQlcy8RO/I5R/HYDA68LjdsR0b3uwXjN5wdWg5X3Qsq4F1LQKz7cTuH3pxzHUVaCrHoa/lKLcRlblJVrDN5jJyeEexeC0o0OK19GtW0TIuoTtTBG/4yc+e0jy3/MXyMebaUm0jekx5HGMUv6Ce5sQMSOmahWY4EzOtfpN8qNSoqb6KrJ4FlI8cHhq272t8Kl0zPPKYs5HVYmDd9iyqXFhADpAhWP748j0+fXVBv6v5jW9/VprLM/c94zHIka9RmYlw6bwmeg06maI2FnMlRoXzihCt8A4TDy3vkVgQRAhBYYy4bZXxCUBxxXeJJL9ARQYnqQBWB9wygpmZ2ErDOEqtKj13D9IhemvHzsbbYNqv8iXmVcW/runkTrDsPPFWzTqgKmnkSAxiBiWEKmuREPURMzYH7fLwmVY+g28XVlT3ztV8fPGaq2HBy62obFk4kuqe7E4FjIeK67Ag7C1q0JKrPKoy2c2l+BPmANWNxy80zYuOaDTaRw6PLeOZIryuaV5LVJzriupGcjTsPtJcxuKPSOZbpLmOVHtJEw2V0DCqrSBHppPEofZNpH3tqF8c2H28FlPpkTB3VR1oloPEIIxnYUca6xiCYedr8PDnl0+4+n+9y8NPA1HDzf+iOaKBQ+KyEUtr5qkz1bzg9bRRQebRmkCMCv8V20ITqYzHBY0xAe9FW8zXNvfjXlQjV4dWhCgqRm/YDg0uaKKJKGtBaZTR4nAjh0csGoJyr28Vin+Xyn/zG4evcLDjVEBZfp82bD7lj6jhc+JZnLWQSgG7nJ2nkkDNn6M0D8n+SrJrX3UrjArsxkb8i/WOzlmuDy3OGYZBIuwhaIJTRKdRB0PcGcyg0L0E71ASh2guBX71DSxeSeoqWJQPqBCxN7B0kXFR4xuD3QtKZHdayssoEah6Gwgp60jFiO4CzaUmVIphI8k1phcBsgfxG+ubwOane/qHDdff27B7R9M9FoHYPN2yaXta69hUPa0d2VhxeA++4mZs+PnNBTf/6Cnv/qseFSL7pzXntQQwhZ4tVdjR4PFoL6ZW7mGe1zuTNlXZeJPvGTjeiDoBdyaBKKXdcEwVy5Mgkd6TD7psDazscGSShQSy+KiIdYTlAnWzRVUWUTcKPUr1EaAIm8lCcepP/PtLKvrq68yzo8Z4fMJrYqFwC+pwv+axyh+xYnNSkdWhtBael7MxyayqtaPzFduxptIBowO7QSKdtfE8WB4Yg2bX1/R9hVYebWAca9HXQVHdaOw23YiC6kbMFhSEXsyfUGuhZFcmZbIF6D3tVQCtE0olC2X3IlhE0Q7VLmAPHrsdUYND+ch4XovqV5GoxWQ7/3GHW1mUC3RPW/pzw+5dzXARGc8DZuVSSfxYNnA+MIbkNH+5O2P4L5/wwR/sEkVdMy5VilP4WxBqBkNEWwcWxpU1W9meN8OibGagBEgNoJUuCKHsBWEqowMaWb/AZDEcrfcMgZS1cnI0qggmEqP0Mam159nSEc6WqOvkVaeeGnoQ2k6+r0yOvZVkdPTA/w5RbmnW8dVOeX6oPlTkPst+piXmVI/mLU5+dsQzRSSPWgt5LT/PnPYhar/h08sLfFS0laNNhLd8DxnatTpAM9J1Fa63oCEuPfrKYrdyWkuB4kj7OmAPgXGlaV6PoBVuYdAu4lYVdjdCiBAi9bVHBTg80uIHXKZFCgKd2n2gvhoxnUP1I6p3mBjxS0vTeYZzS3MdaF8PVK92VM8D2+8/ZPeuoX8gORBuGYkrj7G+UOOVioLQJfu985bn+w3P/vU7fOsP9pjDSKgN0WjGjWKVtIlU6pNYT5n7Gfo438CNdrTGJfNpWiuTBGNIa290mPkOIrBSiij5gcnvg8nHKKZz2qO1nopXKBNEo2f/xAbcuqYyJ+a5m24rm8bA1zOfflHNcVqk4KtQJ8myuys+EcqpM7+PYgLN4hN5gnL6Kchpkp300wy9MepiLuT33+xbXvUWrSNnmz2reqQ2nlFFpIxAYLUY6G2g7ypCb0BLYEyPsPwyFLqFHgU6rS8F8dh/sETvQyoipsTxixE9BoIxDGdC2jM9pXyOGSL24CeBGD1YA1pjbwbQinbwVF9cEm+2cHFGbBuGtaZ7JLSTUEFoI8pEYhANGhFsv9KenZPKSX/+8jHDj8/Y/AWYXT/ZNhr270Ue5B7bKpALQdznE2QWwZQ6jGhVLWuSNThQcliytsgb89RysSag02eNjgK/ZsAE4S9ZE+jGyXReVz1LO/B8scatltRaE0OOoEcpSKHiVDQ4f9fdj/WLj7vyJwqEx5Qdd5eASZ6yOoJ7c/Q6xxbu61oDk/COqeZsvOcUm3g2qVCBq7juWkLSEnlxhsFydbPkRgfaduRi0XFW9xxcxbav8V4TeiNaYp8EsIsJBVJSzh5Lfe0hRpSPNJcjagigLG5p8Qsxo1BSNQNg8TIwbBREoWg0bxxm7yAIgiTcdiAEzOsDygfi/kC4Eg6SenjB6996wP6pKuRB3wYxs6JsuG6QbMaxMtTGE4FXuyXxD8758J8P2BupV4U1KKuJSjE+mRrH5zlt9QgBemWLU50rkwSk01OYtzaLIhlFUDIyqAUw0Qm8mKLK+XqmvHd+ufy+bHKv7TAlPKkEjCRtc77oGDcbsBY1jlLYzgdMnwCABCeH+BWQ7L8POPa+a+eR8W4XzJ1M26yK+2BP8jTmRQzmTrc42aVUZ8LarRbhyhAhiGB03nKzbxgHCytYNQI57kyNc4YQFLublt1NizaRuhkZB8u4q1C9we4Vyy8UZpDosFsIR0l7MZ3sPuDOGpSLBKsxY0C7wLi0dBeG6hAYFzrlOAiHSg9QHSL1lUMPIeGEmmgUqveofoDdAcaB4BO6s1riv/MBl99bc3iiGM5FeIKNeaHAK/wgzxSC2O6dFkSn+2TDB//aYW9G7OVeAid5jRrN43evZ2uScx6OTRGTkKD7fNMY5VFiel0lGNfqUNb+NkH02H+JkWL65b0xz8C0Ogjkq+X6Lkxo1bjQomVDQHlPJJIavMoczu75l9IUpXTMPT7HfUXPwh2qUZiNp2mneqq6oSIumtTGazKfssN81C95lm2XA3mZenDailaCQmKyaR3pu4q+t4XTpHVAKQW1BOyCVxy2DXFvMVtD80ZRX4N2Eq0elxCayLhRHJ4qzEHRn1csXhpsL9qCCKEWPhKkUpQK7CGy+bkvKaGm96gQMYcRfRjBeVTXQz8QxxG1XBLeewRK4c5adh807N7VJSdCxULuFdKih1ghiVJovIKQmq34g2H5XNO86sRscsc5Ed1Dy688eHFM6ou6HGh5ZNAir2+JH6WhFGL+zLREpX2h7GffwmrxJ3KqaIZl5fWZhkhWwXwPNtal96T5DYZN1XPWdDyfRa7zMINon5hiLV/LpzgdX0UCPPrC+0ydW6eBKv3rTq/dJK6+j6q0/51fN+dj55pQZaKinBYZoTitPu2TA7YfK7wzaBOOKAQ6OX4uaNp6ZHCW/baBbYW90TSXUjxMO9i9r+g+Hjh7uJOFtp5+tHR9xX5Xs31V0b7UtC8j+sIQKkDBcKZwCymw1r6UgmPGydxcf7PBLeDsZxZ7qBnOrNA5EkI1LhXDRpWiAsNmKjQQTSz1mZRXEmlvo6TQ1oEYFMEJqzUOmuqVZfE8YrcDqndikuVAl9YcHmuetjdHa5/7253uizmFP/+uVZiaWZbDZnbSpzjEfN3nP9fGgbclCn5kGqvcAm1qNxxj0ihBUgJ2rqY1I/0DRWxrVAgQRAPbfvquOVz8laX4fxl49i4qyJzqfXri52bwWUvM2brhHrNqLo+5ynjOsisPN1usECeBkfTTihgVTTslyYhdqSDBhAroRysR7N5gt5r2lWxkt1TsPgosPrrmNx8/Z131pURNNtO2Y8Oz99Y8e3bBfitdQqON0ASq1YBSkri0G9Km8IpqNbJeXbPdN7x502JvGpSToKAeEk/Jy3VMKpsfDQQTU02qRAf3pMojEbMZ8TeVZAjaQAwavEJ1hs1fwMM/3aOv90RrJtNJKYLVbD8OLPUg2rvkYk/DpFzoMUyNH4XNOr1H/Lzj9cuR6JFpnX3QKCPon56lp2olRezm/odGuFNmts6bque5XqO0xJPm3zecR/z5AuPFAlD9gOnj0X39UpoCvjr19OuMOXqU+U7zaGj+X2e78MSfyEOn/FqN+B2DNwUZyY5apXyhjcwLIhycNKoPQWGtp7Ge2jpGb/BB0Y8VzmmGQwXXFYvnBnOQTXd4Gqk+3vLX3vucp82Wle1Z6iGlNE5ptO1qZL+p+ezsgtf9kqte2JvvLG+wOnDVL1hVPeuqT/OiedxIPOAvdo/4i9VDLq9WEjHvpYdEVKIBQp2g2zEFi7WYTn7lUaNE18OZg4gIBMgbvZglZmuo32jOfzpQff4m8yjK3EalcCvL8jtXM8BkSi0twbXZumUNcWol5CjzfMy5bMdI1XS9jFDpBOGq2WE6H42WHhx1ikcZM0G6Vkm8aHjgGS4amtGjrwLKGUwfyn1lLSR+6Ncg+OWbhLennsJMaL6Ghsn52OIXTEnrORdD+E7p95OJnscbIPsTqUiBEsZso6fqHXP4dkx0cecMbjTEqNjv2mI2Ba8IuwrlFPog2sEchGLd/UrHX/74Mx40e542NxK5Td+zMR1dqFianq1v8VGzNAMPa2FzXjQHVmbgo8Vrrl1La0ae1FvWtqdJ5erPzZ6b0EoV9LGhGyo6IFiDr7JZEzHXhlBFlJJecwSFfzBil644s+89uEGryKd/8UQ+Z0XDKisQ84MfBhZ/9gx8gMqi5v6Ehu0HNd99+Ela9+PaXpl7lmFRPzOZUKJVMgUnJnMWKHESkH6FRkvuet74eWSByD7iPIsShCw6JFg5o4lWJcjWhGI+aW+pjQcTqW7GUuqHGDEHfwQH5wDeUd2nX2S8LbD3tmvN4dkxmiN/Yu402zs28+3vyT2UdWn5BfJwtfFHnKf56eKipnOWcbAoHej3FXEweK9Qg0SV673CDGKeBAuHbwXOvnXJ33v/p+XessA1Spz5h3bLLjQi2ES08lTa8Xi5pdEjdapmsdEdr/yaRj/mo+ZVyXOuUluyfWgYgmUMIrBaR6g9unV4J5R1v1TC8lwG1MITO5nH9x5dsawGXu1XLKqR750958X1mu6yFS2RouChjoxLjXvnAvvietIUWrhBsba8+QH8Zrstc5fzHubrlOFYw/HpPV+jzH2aQ6qnLOb5mIMq2VqwKT7hwkQFKZoACmUnn/jOGQ5OWLmdDxAU9vKA2nfFRFRegnzGHO/XW1XH4d/NNJo/9FwtwszRTf/nzLf8c76HDM9loZkXKijFemfCctrsMfsTdUKvYGLgloYuyeZ0XSUbKiK9Ha4FOcr5+G4J/Xc6vvXBS753/pwLuy99LPKzjdFgonQqzVUiWj2iVShFlGvluDB7WjVSKceF2RGi4om9Kc9hVGAXGkmqGRYSSU80daUi42gEEdOgLwZp0RUVpvbY1UB32VIZz+N2xxfXZzy7WbOyAzGCWY3UtRP4GQgPBl7+9Zru4YZ3/qWlen6D8l6Ewxq6JwsW37886hB1OnIFvlEZ9Mw4P22NkCPac25SnRzszHOaxzQyZSSnDGgdGYJNmsQU5GreJRcSiyLBsTFIZZPKeJZ2QK9HodiEUJ5RBanMgp00BdzjU/wy9A5IfsDX/FzmOrl0qs6vYVMkezqhQsKkb5dQETr4lBch1zhuNjnn61QqsLF9UdW69nivMG8s1Va6/JhBysH0TwIX33nNr5xds7Y9Cz3c0oLzJuZb35YI69p0hKhLsTCP5tq3YCAXBfu4fskQpQ1wm/pbv3Zrdr5h72p6bwhBs2oHGuu43C8YkvCfb/a0lWPbNfSDxVqPWQrJ74v9GV1fsV52fHp9ToyKzaoTJK0x3GwXQv85G7j51Yr6uuWs0TQvD6h9T6wMr3694gePnx/NMxwXHTiOSYRCGZn7jHNLIFPFS+2mGTybr7W0w3SY6hkipBIsO7tWiBqtfSJ9SnwqkwezuZbvpW4dflmhJxYiygWi10ca7JeKU/z7agWc7U09Qx/yKPkTp43D7zm1XEpTzPatVVOx4pyMlIdWgSf1De+vl1ztFnTbGnotjMk2SqvcZaB9f8evP3nJo2bHwVdl4eaV0H2CAovTSaTSjjFYERAVwK/YGEmI9zE1E1HSSB1gHxq0CuxDwy40PBvPeD0suRkbfNCcLw88aA9cdgt+7emXfHpzgQ+a7168lANlE7nsF4zB8FoHlnZgCIb3H15Ra89fPH/E2Al1ZdkM3Oxa3GDQVRDBaDyvf0OjfE20muq6IjSG7rf2bGyf5iymVFlfCsxmuscYTOoKleNGikrnVgrTvB8lFeXDU03CVnzDmWXhosaqCbHMZlbeKRnyzeDJGEyxMuYI51W/oK1HxrMNVQ5MpEIPhSaLBBcBrCzw8Qn872I+zdt35TF/0Px7rhVbbp5jNThv7ZV/zlj03FSaZ3lBpiHPKCbxdsFdrSIP6gObZcc4GrzTjO8O1MuR9x9c09qRx+1OtFUmESpuUdjnI1MbgCIYXajAQOc2AGx9yxgMa9OzNH26J8kH2IeG127Fs/6M66HlyWLLe8trrscWqzyPFxIH+WB9xdWwYO9q3llcc/AVv/XgUz45PMSqwMfLV1Rrz4thw7968Q3qRugrISgGJ8HJpnHsd43QsSuIDwZe/m1D/GeWTYy8/Ms1v/GNP5eUVAQM2ZhsCSjGUJV1KhtwDpHPDriAaIe5y1EYrjH5jnpiNs9Bl5wKkAVi7ohnIcvBwJyv3VjpXYiKbIeafrQc+pqhsyzODcvEOYtGl0h/yc9OkPxb0ac5PPZ1xl2h+tNRAjyz0jXllD/5vuOc7alw7lQtXBKGXEosKonns5bAc/Qit3l6May5cQ2tdayWPYuLLRftgYvmUBy3nDPceytBPDOKpghqEhRE6Cp1jKsbIiGdplXqQbH3DV/2Z/zk5jEhKh40ezZVz8oMjFHz+y++QW0876+veNxu+WjxBqMCb8YlWsUjwuSD+sDV2PKk3tIHywfNGx5XW35aP+LFsOG/ff7nPK2uuRwWvGjWbB53vOmX1NozNIbL/YKHFzsGN53ky2bg5feesnyl2f16z/uLidoxRkMXqqOOsnetqaxdnNYnVVTJ+L8c0NMJPl/bTPWvjWNlB3xUNLm5J4IIVtofkQlhAmSsiqXUqkmmkw+aZQq+KhO5/BXNxb9ZoHYHcmUP5dSR+QS/YJziKyt3vEXDzHHoHJ7P13R3fD7ECWKdT+CUHyyoU5+i2HmhqhTomXNi5honRCnxfz20DD4VcU4TPa+UXu4jfW+VyW4prmKVBOmMTnTqOWEunahZaMdg2YeanWt4drOmMpPG03XkYb1j0/R8+vKCv/zocy7snjEl8vyl1We8HDf01tIoVxpWvtNcUylxIvN7z2zHJ7uH7DaCgD1tb7Da44LhBxfPOPgKqwKfmgu0iiytmHC19nTecv2dlk/PVvzmtz8hoMqGy/NQqDUnSNNcUxSzWE09z7O1AhM1PH8mgyJBT/tDGntOB5tLpMClHaitn7RKikm5YKiU1PTK8QytI6MzPF3JgQfwQ/2E/p+saf9CSE/KBWkNPaOuw9cUimJDn8QojlsKfz1tksc4IwFmhwvu1jYuZ3rN72m26VycNI10P3WlUIHc/9xONQXuzAhUXoz8nuyPzKsMzu/JqEg2O8coyMu8UHD2O+QapuSFd95KsQMzFyBJpPo7T37Mq/M1j+ote1+jVeSNW/LQ7nhot7x2a5amZ6M79qGhUo4rvywlYz7pH3Fu93xjecnWt1RKeF8fLd7wJ9fv4qPiaXNT/KOs+WrtedmtuOpbnmx2sNnxqNlLAQk0jR6PTFGggAnzZzgd8+60QIFkw+xAzOuVTJZy6LggRanL9ROxszVTq2dV1krML2niE6SnofFU1ZQTo1VkbXsenu3pHzyi/QtEbbmAGueUFDGj7hWK+8ygo+jziWaYIz6nfsTRNdBHvSfm17Lza8wm/jR3In8fMBU9IxaM+zR/Yn7/me6ROTlzoZw/u0taKH9XLss4BlPyPDKkmAshhPI9U8PDfMK6YErJnKM5U4FGOS6qPUs9lI2endsxGh7abfGtNuZALhacn3NjOh6aHX0jxcNufIshsDFdiZi7oHk9rPh4/ZqFHrh2CxrtuBwWLKuR95bXfHLzgDfDgqfttsyffOsEicsaTFXDjzhPUWoBl3RRlYh8cJRfnddxbhGU15IfM81PPoQmIcrrrVWkwpcySLXxpbDB4OQavbMlZjE+1pwntaViKg6hpqIHpRHk/IbmXvsvEtArVZ65v2XX5E9MTd9zPnbWOlXiuJxGrPOpn0/eu0b2J/I1IGdoyameT6Gsfo+yvfSJJsq2bKIPTE0lp4yvnLzU5BLzSRByc0pm+eNjlAhsjFCZUBZ4HgfYmI4b3xaqyONKYhjfrF+y0j03fsEuoVStGnnXXnETWlo1Uqc6t4/tDWO0bH1DHyyNHmm058P2DY0euRyXbGzHd9rnvBw3/Kx7yHaQuMtnu3PWdc/Lw5rWOMm2i1ICX/hpx6f3fMZcOixc1MkfcEeAh8oQeDJT5UDT5ecsZBNMm9HD6cCaH6RaTdoqM6EbPWKVNO4yWuI6QCEdruqBFw+VONmJOWi67O/M4mrzjXALUZmjCCcnO3CkBvP4qhTUY2rH7Ls5NqPu2/jzk8WlRTgN3OX3ZaevJL+UKh4TW/b2Z6ZEmXnZzVNNcvrZ6W/H/kg2nYZZeU6VrneaJ33jhd7xtL7mcXXD1rfsfVP6MOTI9yOz5cLs6WJFbrTeqpEbv6BSnn2QomVr2xdouAsVb8YV31m+4HF1wxu34svhjFf9iv1YSYTfm3IgbcccoJQ56GbVAOfcp3kgtQ8m9Q28rdVLIp+iXDc/+zxekddNqnSE40ouCBVEzK3p0KvKe0SYVJpj72TuzyrRlmdNR/8oUVpCEopx4j3l8e+UeXdK84W3a4r89wltml1LZS0x+QE+Tv2lmxOYr0CxMyc7F8bKnz8V6vnnSmBQT5FToDjok49yjCzNKxjOUZYco8g+BUyoDYgP1TuLUsknmR0oeSMbJebORnel/OQYDbvkQxgiK91zHRa0amAfRGD2QSL3Wajy9TSRT7sHHHzFH1x+g+9uXvCg2rH1LefmUKDpblVx3bdlzhZ2pPNSyKDK5dLfMvJaHRfDlvmaV1aZ/y/fNbVwy9oiRGE7Z/hd1kLm22pPY4S0GZIZ7JnM1EY7FmbE6lBAlByjEiFy+AeOsKgw3UA0BiWcSQED0n3daz6djrsc6ZLhdsKYnF/vzknk9mYVzHoqnjzXBgDe3C52Nk1urizuyolyTCibEpmOWj6lyhGZSzN/hlypsAjGzI/KMLILhlELxaNK1UQCUxLO/B5d1PTJxo2ILW4T5DhGw1IPtHoU+DbIKb3Rh1JMuFVS1Fgr6akxqtw7XHHj1lTasTQ9n/UPOLeHEg8Zim0uKM2P9k+5GhdYFVjZnif1DTtXl86wY9pMD5t9OWDgbgsgB/BO12VuEgpNIxBTY40ca8hlOedBuzx8PK4UOX3fMQjTptYAuXG9+GDSX6RzVqgxfoqHbaqe9cM9w4MF7bYnNtJGYW4G+qB/OU1xd+ro282mfPqGqI4izHnY1LbrF/FjpFDBMfKUi7CdNpvP+Rr5cz5x/I2e1HYWpD41ms9wYc4Vn/sZcIJOcZwDLvM0mV8+KrpRFmq+uCE5pmiocMUx1ypQReldIYJhadXIC3fGUvdFI4zRsjEdmSbfpLZbHk2lHe81V6k5iebaNVRKchKGpM3eDEve9FIWs7GOgxPYdgiGJmqqmU+UYzL52ebCf1qsIgMEeWRY9pQaQjx1shOiOEOgtEp1ngK0ZmSrGloz0mhHH+ysbJG8v02BPDWLZ3SuEr+iGdi/e0bzsia0lZQfUhG4x6f4/7d2NT2S3Mj1kczMqu7qj/lYzY6FPdg++uCjz/7/MHwwDMOwsbAW+6GPlbSa6a6urEx++BB8wWB29YzkNQFBg5mqrEwmyYh48eLF/3X8HOoHF080JpNBq0fpyhTbd/rssaUqA1JSyobwCqui/+z2PhnYr7U1cG8lmsm/FKcArWqPhVHydzbvkhWytInDJQ9Y1yBapxeeb3QJ137Bm+ERr4dj+ww8Dv6M0UXMZVRl7mt/rt08o26ItQQJOF3Em+GIvYu4CecKw2Y8xQnHNGleZk4DJp/wdn/El4cPuB4WnKOIIn9YrnBOQydM96lBC6rNcTYQNmDjitytmQaG1Eo7ffbnSB0XLlXjOecAiYhCdeE9r5tio/vdjOOXHmXwyJMIzxF04XcusmQvEQJtr+ztqfBSTfb22hZ1kmv2rFbb8ZRkQQt/5uJqB0wTNG8Wo41JrFABB+89VjfBUgeCK88WAGV2mqVr8K+FKWnCt4gTx5ICUgwYBttoRn772i+a/b7zJ3iX8ZCu8Co84doJoXDvRD1jCklP+TlN2neOVnEtATsXtZR3LUEl9d9MTzilsdYuz/jV+IiHtMfvnt7gq4c3gtMD+DjvEXzG/XTazN0FF3rzLAD0QKAVB1B1lVClabyWETNiEbf3ZZd7cAlrbcdlk7msZeGmpLvL9zqvQ2XjSux4vzvht7/OisP6FV2QXcD+FC/GERtTV4cm3Uw8YcelYJsLmjHCduPxtCOVggof4nP3Jpan9ZJChxCxv3ZL2rW2UzYQtMO+ApLP7IvZVYry6BLO7JijlullpXYqorOEck4jUuxPLc4Du4ye84jkz/DIuA0n7P2CFQJBH9yicUWoweXeLcrADciAP+HanzGXUZ/1vuo1PeUJ5zzgbphxHRak4vEhXun9TF5qoJ/KiCUGTAMPMv9s3uyBZN1AO16qg2EugM/ezUXhZvJgCxuWDtgDtKBZF6BSbfxq+lyI5+GcHH50i6lin9+uWO8mEYdYClL1Gkq9h8HSL/SF/UJCYFfU/gnkiSZPF51rZtfSMuwJa314nj4xCya+5KHjO225/7LxzO8Xr1wmSda0F0J4tNVye+yHVeMce0JlWoXNaJvR1IZAagVS9nIy+ayVcTxYLIWiFWANWItYCNZkBJexR1MmeTs8Ys6TMnXnPOLgzzjgjGPeVchWNsa6inAbUS0A+PW44CHtMV4n/MG/wuO6MzwlJ707xhfcmBokM0i1tB37HN6VWtHWVDMuoZbquhg0kIcPFeMRFpzSqBadLItzHrD3K1IlZTJXUbK8M17vcd1h8AlXtzPmt7fY/bjCx6LxDvNXf3Uf7W088RIkS7eH/nqbYFkcdJ2YIbWbgdnRrrCo9OriXVYVzaIMrgV0ay1hTKWRBznYKWlB7yJtn8H2xLDtx16itdvhvKhXOABTpSXQ3bv2C+7DUcpa/anvGV2tXUDBip6unhyDe/n/3q9IRbLe+yJolofkMb6Ptxhdwn14gncFT3nC6CNuANwNglTdjB8R/I1cq6qxp4qQMdDONUlprQUtcXBJax+Q5T1QMiglL88eInaUQ3UF1jX1taZ+NFC4HtzGReK6UaCiDtbkc+Nwk48+YT+smHzE68MJ58Mdpg+iiCIS/21z/r8pBHJ8ylJQgoY/bmFOuk5Ak65hUE3l8bX+PUCFiI35NS6ZuCR90K4BWhK6hfcCETLQZz9tQnhdgL0J3DsKioEWLQrF72lfPSdo1+CFtMjhUfCb6YfOItClGl3UXMedn7GUgKkGlPyMLNaoGyS4jIOTk/NY4d2pzu/eLWB3UfKo4IEvpiZjczec8c18K+6kcsx6RI33vSVxSqwgBxx1oEJtYyDKMn1yVX6zJxoO1QIQCk/wGGpCgTq09tBL6CHwVFwjXea2zoYa4L+5esLv7h3wp2rwi4Mzh9pzhUAl+L1sQX6OOIE91S0fit+T2EJ2PRuVsyBorTkAFpmMxqfk5Ami09yUyUc5fTeLzfaiiObPpU6ETdDFaklibR/L06pPAhrKs0GY4JjdrZCv2USxBDycp07h2i4OQDLGb8dHhV8ZaO/dihljnVOHyUmgfaiN1UcktQ7Bn/Vz3GCjTxJjOK9olbh/wFICdt7jKU7q+n1/vsEuSAXfVVjxGCd4Axw0mZt+Dvjn3QZWp5iATdrFLEDKCHF5F1ee9SaxbtjgW/6KrpC1AHo/xauVoNK8rI8+Hs7FYXkFkeOPlMNJlyVuXhYieH7625Nxe6LyAbaUbZq53n3KRvSsp4rH7OFD24CpZjaFYxMURmOyjp1TbX6CE7GqpZCgu9QgmPkNANrDjVIn1lzHXNm4plLspfmyLYkHFyWbvY5qW7aJxb1fdWGPTnq+6aJ2qQbXLLxyXU2JFT2Qazb1ExYwIYt71SyJNJz0ZcScJqwl4LvlFqc0YRckK3zlF5zzqNl3ay34/MIQ8N18W1eXvfI4eBho8G6Sfza2kEA7du+mO2Rdo3rz0CLqNlb3bR/Wqv/ktB8fWRT7sGK5y1XnFygZXemr5x/s+DlxhviSl10lWzXHYfMTdtjyQb5sbghmPIfOtWpFRcqT4SKD636XWkQxNyp3yh5LHDRxF1zuMrf0gUkp2OYoLkGG/M2wuQ7/O6VRzHhtPKJF99Unf0h7PCRBgkaXMCHh2p/xygskymB771bceqGB2MU/ofXmGF3EhEabB8R1avPNUlKPySUc/Bnvxo94Nz1grG0LJh9xo9L7lcIBA4dXYIC8LvufHec8dG4um6hw7Wytpa+JRUvFycV1LjmZsLEQgpbDas7M4ciz70PEOCbk3HPYRpdxP87Ir4Uem/YezkOlOuXdG7+eX3xp2Kww/XDe/Oc2ksYIrhUZ8YSwL5AZ75coHXq9bMtPy7OFTXOaNtfJcIhJup6yims0uQ3eI/ta0PL0ScWXk1l8rkaSG/AUR6WMO3v6mZffWgRIAk5O+QwUYF/dx9FlHEujVHN4l3HrZs2Etw2S4CF9p9nfWv6+sXpHFzG5gHfjRylgijvlbMmiDupeBrT2XqzPZu2IPrfZHNlshuAEqUpV3G5Xg+mcDEBiIHRxr6CuKTXAtmxmuwZToYqKHGrTEBGj13ds81hfvPuIP/7zr1AcsL9aOpf2sxntrT/W/v65v7YdNpaIm4W+zRg3nn5L/DAGAKDuS0c1rwts2Jw6/BzzGzaht5rchquxCA+ExeQWBuMGXNoEdpMwHtJ52sQTT3ESd21IzyBJQFyOV+GorpCQDeX+vSsYFaYVBGqq1oHzO5dR8zMTMvaVPCjvwHCF3IrtmPOIpUhloNRxiAtySi3XoWTKzXJhfYl9p7EqMWYTKAcn/SWck01he4g8SwcYJIq/SavEf5uq0ksL/tuamPOoB8g0JD2MWMfNuov7/Yz1TUS8TzgdJyzLoG2GX9wUZDpukzI2afe5fEZXGLQhAXIidiF2ahjUluXCVcxa4dBNo8e6+3kS2N/Qyrzc6Nsxe20WP/osuqWuiBkmo9IlPYGWC1lxub7rnnHLBWqlqAIchJAxhKx1yBb2TUVcmYCMg2us1IXWAx5L/U/eTakIT6mbJFVr03JOoxOyIFnGRLJYBjUiIcMrdElrfR0WvB6fumcEWjKylecmRZnk+RurmPOyFc52riDlPiPNTDPXSNtMWa0T76UpqTRXmjw6KYYquA1zZcomUQbkOjFezugSvtg/AqGIBOlxxPlxh3OtWf9kPQVvWib10xvgky5FvfmtC5KL15OagRs1YVupaO8WyWSEbmPIg7SgeOv724w4fVzCsYQN5zRqzGMp6Jat2dUJcLEZf1dRLkrE1+Au1T4J0sCwj2G8kwaMP6VrJHjMZey0leYSMNfFwE3ADUCuDyAbaK9SlfL9fbUcEnvIM0yu9a3zyIoo8Vqs2iOo0CF33ZxuLb/vwA47L1ZogKdxqm7ythy5vScrS/Q85mVykRYtVldOeGFi8XZDxDC0wzsXj4e4xx/nV/jzfAM3ZhSqAy4eDz8c8M2f76vqOLY/eiH5tln0v0T/SdisbVLtKWHjiTmPOKURcxpFJzS0E1vpIUSQ8sbPN0k7nibsnxecR3ZN2boUhxCyyqKcjcIg4xNbmNQ9i10IuHwQ8NSSaw9YTbNDEhBzEX0kPsMx7zDnUYNiQZza/Iwu4dpFPNWYQtAohwkZS72NERmr85hLQCgFe5ewwhwuxYMO1FMhkULGVF0uRf14UFWfHoCW4lrmgeWpyfz19SjeScKSsCzfGFUAW71DqondC3SRTFQoIUJEDJp0fl8OmyBxxVVYxQsJAmic0qhC20uSa3z57iccRrHMbGK/xPDLMtqf2ggvXYeBMyUSGVxnSPdRTeGjQaLJWIHOtJqTi4OB61BdPbvhPJrwL19ayuyLfZm3ZP9O45risKJHz7ScFj1dnM/cruGxpqD9FRjUx+JxVd2DXZWlz/DwlNlEq88WGFY2hMp/QhTAkytqIYIrQMmYId+Z62cnJJkHJ/R0AJhLFWYzz8QAuyXV6jNkj+RrrAap2bbIEyCER0Lc23hT0ans4VVJnPUkkluYa1Ui0cJdlQu17hPRL8aSvL6ghFkDf6JyXDtLEiIm+/y9v5qx7p7w7XyLwSWV/tc1YAMe+yBAI1bZwpztwrm0EOzfUZdp+71cXBcgp+KrKZSF3+jgWblO3OVb3SE1j+iRK06w7YWnlqJLoJnmkYZ6Qer09vm2FkTn0ORsiO3H7BGTr3UbqDFMVvdPioom/BgPOGZBfkJF5OYyYEHAWgYpJspSWmrdq6Rol2yCXDcLg3W6WRzMgeydaN2yqOmYd7j2S48EKjQuz3JpLhhIM/lmOU+X0EmHy0TDrQVmFSZp7nYQEOFvMknLgDxAFFJuxrN+l9SRVA/lq7CoxI99FuAT5ahbq2AVPD4XZNtJ4ELdujq5SHG7VbxgIMz/Lt2HLSoipMrAbDu59n62YxwkwQNwkuX3ppq8Gl1GRMuYbxcC52C7iDQYVFekthyuOQ82K6GLJ4eGw1Oe8JD3OPgzFpeAQhVyr5vg2p8lrnCxolMBqdJZ9i7hWAZMMAF28WplZB7YEEeIhYuT9zLnASiQir6NgECb80bfD5vptIflWgKGGlN4sBpyUv5TqKxhyuhvaSI2lgPQmrRUKwgAS5J68hgautgsilgjETKI8D6rbhSt+ccoulhzlDhyMjpcwM+AZC+NbYMVToi9sJ2wuDkRuKgPw1mzvzEbJKGyWOl68Xuki2/9/3EzkTyliExxUS91gZKtOfnUqdDxelSisIVEjX7eZFmsK5eKf4bQJHNd9m3zruh8aPa3ODzEPf7l4e/w3+f34tZUS8OXbaFVBtz7utjpYgHAbFwsftZaFgbB1/6MvVs18/2Y9vgQr8zzuYvvtKFAjcrCQ4AnttA4WjZ79LUPBKDWeqnu0qD5g7z5nRY8298DgNe7J+yGqLUZ/B7dP27+q7Ai+CIxhCsa2NtnIkRvaeybIqNPI02fKiaygVW3cDaoBT+7DxIMcZzzWLPVPeqg0DBI0fDqWlmhgy6x6HrEgde1REBCsUCrtOvdu1YIAzR3aEsf2eLs2dwD6rOPQ1J3bfJJG44AtVY5CxHx69MdDsMZvx5/aoVLEMSIKNHeSXzAZ91Xq6EuDhwObsWxCF+KcQnLWQG0DecyXgVRI/x6ue+5TYW5howlN1c0Ba8ndrc2DI9MCHotf6B09PrZJQfs0FfYbUEYjliqzL+H1tgMLquAgb6ruu7OedB4i/dUKgDAYrHJZ6DCtltUDagxRTaT+rnRZEkuV2Ftf2AbT3Cyr4fWm5lM0u13bb5ARMye96HYLmSg796ai8OSGIvUuGHIuBrEpz7noCiLzXhShseb39+emDYuCS4/uxeemlNIolpnGskQTNhVWsW5Agy/f3qNP62vhcRXqRiji1gQsK+F+VQMoZtEK3LtV9zWWglK+3CQU5VqhvtYJlCnai2DZq9pZWzCMxeHObYMN6+vC3mzdkaXKrlyUGjXysgwq6197/K2eU/Pseph+VZFZ0EVoGpP1fvXPIpvBz0P7OCEhLqrTV+2AgrDJX/7cy28fu5gPMERazbTu4JX40lZsTGLJiw/s4V/WVg0px6ZAvAsm30J85Zn8hpkjyHialihDQyxXfB91jXXDWkz7Fu0aXSVxoB6//Wf5ffERSMETNehfTepezinAf/19B5PaYcvp7/gy+EvynqdS6tL5n3KvQDBRf03gWoF2VkrTBlqTqLRSQZ8zHv8lA74ernHQ9yL/19yFzMwJsq+1bnwGlxkl/qDANCCLo+iyufWYdcafYXAa0zpeniXo8WNhjhaA25fitZ9rCVgrLmK61E0Zn0Nvo9pUv2tWLxCwWRke1dEij/m0vH7Lw26TlTL+DnD8p14GjNwIjMWAE556vIQ1hXT60C4Lfw+KRoMsrcbyQ6LApUiQTYL5Bu+XtQP5fW29IPtfNhBv7eRD7OKg+0HYcBOFf04xZYoFLQk633EEvD9+YDHOOGb5Q4/XV3j76fvMAZBo4hM6RwTmkWr3rPWgwxWyufQlZrLiB/jDf7z9Df46vEt9sNan73XwrV0e76LmEO3QGN9zmgWK/89Za/yOWzQyAMgFi8udBo6ONe7FhRv5U/Jsri0Bm38B0gscxgWHOOEDIdDOIu1K3JPvK9zFLVyX4uqhlg8fMm6m3Sy/0profQKumYgJ8ljCka0F74LptnnzUqutwKhFoDT/rD6CoA+g5LKWP4KCe6YWZ5C0kIWBu7e1T55m8m2qJZl5nbwrxM/u+Ho8vtzGnFOAdfjglTQbUQeFCQcLmlQKjw31ylN+Gr+Fa79grmMmPOI98OHqu7BIL0JryVzigckLAgaZ/D7K0JtDvMK//b4G/z7j+8x+ozf3Pwk7ioy4AQRA8QSn4pwxvJY4ypXVJqGiVl+1kKyV2Ht+lOHephRz3fNDRXquGuE0Q3fSVnBriAaPV5SPcjwzaW2bIC0Or6bTjjGSctWgUYNuqr39fXxDv/z3Vvc3pwwhizuE62FcMrbLrQbY7tpPrchciW02aQdT5vW66G5TrZgJ9dNIbygNulc2LaVLCcy1+Bz8pet2Fq/G0LGbmgQZSwVMh2iZrLprtnnaX9+bpEspYFzJqp28tmpZlJzcZjTiDUFXA2rysE85ek5QodGO//t/K7O04h/uv0t3g8ftPouIGNBCzip9LE6bhZZCHMZ8ZCu8EO6wdfLK/zHx/f4/cfXOMeAw25RIGGFQdrQTvxmyeQQhbvEhCia3OOB2AMvksWnGxuLB7TnYXvH2bCIe6Qv6H1x0CXPiVV/zU0UHazWpZWJQn1Hdf2U4rA+THgAAFcwpOwRXYEvYsIHZMCYKrolVv7lcwE5T1HbjMWetIdh0ROSrpOyYHNDl/hbW359gemGs1mMtBzW5HsUxBSQksfVblHfUV8WmrgzAPU5t8/Elwaz8bYsUbpOAgEPlXQoImOAxBMsl2wFUU6lIFfTMyNDrvHd+Vaf8V+Pf4t/uP4T3g0fVUpTnlFqJKgvy/U6lxFrGfDteo9v1zt8f77Bt/Mtfjhd4+k8wtdFuqTQ6NoViqY4BOO4JQ21HXNGLlDpIS5ojcNcT7vhe+LbovvLz0Z6FZv3zPfPA4/vl668DfA5VxEFj2mHN8NRESf7DnmdQzhjHASZezzs8K17LfcKYGiELwlWMvVwjFuy9d+2VmMLo6kETfWvc6kZ1nq9q7BWFqVksReWn26C7EY3aP+WssMYerSHp1wwpZIMoBkgM55wrtX4Mjiky0Vy4KmSA4cLfmuGA+oiikFeJhGOc62lpgDCkppbSDrKnEYscdgABF4hWn6eY63+Ozf7N/MdYg74x5vfY+8WiBBxxN6tyJBmkxI/VAuRR/xheYNvlzuc0ohjnPC47HBeh0q7SPquYw4IoQcqtG1BaeW8unDhVFDZBtn2/q2m0rO5LP217GeXHIThYBKztuaHc/eMeuOAU5o0rroKS3dPXCeE9JGBu+kEhIIcPRAK/he7WkELjU7mJQAAAABJRU5ErkJggg==\" y=\"-10.509723\"/>\n",
       "   </g>\n",
       "   <g id=\"matplotlib.axis_1\">\n",
       "    <g id=\"xtick_1\">\n",
       "     <g id=\"line2d_1\">\n",
       "      <defs>\n",
       "       <path d=\"M 0 0 \n",
       "L 0 3.5 \n",
       "\" id=\"m92cdf46714\" style=\"stroke:#000000;stroke-width:0.8;\"/>\n",
       "      </defs>\n",
       "      <g>\n",
       "       <use style=\"stroke:#000000;stroke-width:0.8;\" x=\"33.482878\" xlink:href=\"#m92cdf46714\" y=\"158.509723\"/>\n",
       "      </g>\n",
       "     </g>\n",
       "     <g id=\"text_1\">\n",
       "      <!-- 0 -->\n",
       "      <g transform=\"translate(30.301628 173.10816)scale(0.1 -0.1)\">\n",
       "       <defs>\n",
       "        <path d=\"M 31.78125 66.40625 \n",
       "Q 24.171875 66.40625 20.328125 58.90625 \n",
       "Q 16.5 51.421875 16.5 36.375 \n",
       "Q 16.5 21.390625 20.328125 13.890625 \n",
       "Q 24.171875 6.390625 31.78125 6.390625 \n",
       "Q 39.453125 6.390625 43.28125 13.890625 \n",
       "Q 47.125 21.390625 47.125 36.375 \n",
       "Q 47.125 51.421875 43.28125 58.90625 \n",
       "Q 39.453125 66.40625 31.78125 66.40625 \n",
       "z\n",
       "M 31.78125 74.21875 \n",
       "Q 44.046875 74.21875 50.515625 64.515625 \n",
       "Q 56.984375 54.828125 56.984375 36.375 \n",
       "Q 56.984375 17.96875 50.515625 8.265625 \n",
       "Q 44.046875 -1.421875 31.78125 -1.421875 \n",
       "Q 19.53125 -1.421875 13.0625 8.265625 \n",
       "Q 6.59375 17.96875 6.59375 36.375 \n",
       "Q 6.59375 54.828125 13.0625 64.515625 \n",
       "Q 19.53125 74.21875 31.78125 74.21875 \n",
       "z\n",
       "\" id=\"DejaVuSans-48\"/>\n",
       "       </defs>\n",
       "       <use xlink:href=\"#DejaVuSans-48\"/>\n",
       "      </g>\n",
       "     </g>\n",
       "    </g>\n",
       "    <g id=\"xtick_2\">\n",
       "     <g id=\"line2d_2\">\n",
       "      <g>\n",
       "       <use style=\"stroke:#000000;stroke-width:0.8;\" x=\"72.558508\" xlink:href=\"#m92cdf46714\" y=\"158.509723\"/>\n",
       "      </g>\n",
       "     </g>\n",
       "     <g id=\"text_2\">\n",
       "      <!-- 100 -->\n",
       "      <g transform=\"translate(63.014758 173.10816)scale(0.1 -0.1)\">\n",
       "       <defs>\n",
       "        <path d=\"M 12.40625 8.296875 \n",
       "L 28.515625 8.296875 \n",
       "L 28.515625 63.921875 \n",
       "L 10.984375 60.40625 \n",
       "L 10.984375 69.390625 \n",
       "L 28.421875 72.90625 \n",
       "L 38.28125 72.90625 \n",
       "L 38.28125 8.296875 \n",
       "L 54.390625 8.296875 \n",
       "L 54.390625 0 \n",
       "L 12.40625 0 \n",
       "z\n",
       "\" id=\"DejaVuSans-49\"/>\n",
       "       </defs>\n",
       "       <use xlink:href=\"#DejaVuSans-49\"/>\n",
       "       <use x=\"63.623047\" xlink:href=\"#DejaVuSans-48\"/>\n",
       "       <use x=\"127.246094\" xlink:href=\"#DejaVuSans-48\"/>\n",
       "      </g>\n",
       "     </g>\n",
       "    </g>\n",
       "    <g id=\"xtick_3\">\n",
       "     <g id=\"line2d_3\">\n",
       "      <g>\n",
       "       <use style=\"stroke:#000000;stroke-width:0.8;\" x=\"111.634139\" xlink:href=\"#m92cdf46714\" y=\"158.509723\"/>\n",
       "      </g>\n",
       "     </g>\n",
       "     <g id=\"text_3\">\n",
       "      <!-- 200 -->\n",
       "      <g transform=\"translate(102.090389 173.10816)scale(0.1 -0.1)\">\n",
       "       <defs>\n",
       "        <path d=\"M 19.1875 8.296875 \n",
       "L 53.609375 8.296875 \n",
       "L 53.609375 0 \n",
       "L 7.328125 0 \n",
       "L 7.328125 8.296875 \n",
       "Q 12.9375 14.109375 22.625 23.890625 \n",
       "Q 32.328125 33.6875 34.8125 36.53125 \n",
       "Q 39.546875 41.84375 41.421875 45.53125 \n",
       "Q 43.3125 49.21875 43.3125 52.78125 \n",
       "Q 43.3125 58.59375 39.234375 62.25 \n",
       "Q 35.15625 65.921875 28.609375 65.921875 \n",
       "Q 23.96875 65.921875 18.8125 64.3125 \n",
       "Q 13.671875 62.703125 7.8125 59.421875 \n",
       "L 7.8125 69.390625 \n",
       "Q 13.765625 71.78125 18.9375 73 \n",
       "Q 24.125 74.21875 28.421875 74.21875 \n",
       "Q 39.75 74.21875 46.484375 68.546875 \n",
       "Q 53.21875 62.890625 53.21875 53.421875 \n",
       "Q 53.21875 48.921875 51.53125 44.890625 \n",
       "Q 49.859375 40.875 45.40625 35.40625 \n",
       "Q 44.1875 33.984375 37.640625 27.21875 \n",
       "Q 31.109375 20.453125 19.1875 8.296875 \n",
       "z\n",
       "\" id=\"DejaVuSans-50\"/>\n",
       "       </defs>\n",
       "       <use xlink:href=\"#DejaVuSans-50\"/>\n",
       "       <use x=\"63.623047\" xlink:href=\"#DejaVuSans-48\"/>\n",
       "       <use x=\"127.246094\" xlink:href=\"#DejaVuSans-48\"/>\n",
       "      </g>\n",
       "     </g>\n",
       "    </g>\n",
       "    <g id=\"xtick_4\">\n",
       "     <g id=\"line2d_4\">\n",
       "      <g>\n",
       "       <use style=\"stroke:#000000;stroke-width:0.8;\" x=\"150.709769\" xlink:href=\"#m92cdf46714\" y=\"158.509723\"/>\n",
       "      </g>\n",
       "     </g>\n",
       "     <g id=\"text_4\">\n",
       "      <!-- 300 -->\n",
       "      <g transform=\"translate(141.166019 173.10816)scale(0.1 -0.1)\">\n",
       "       <defs>\n",
       "        <path d=\"M 40.578125 39.3125 \n",
       "Q 47.65625 37.796875 51.625 33 \n",
       "Q 55.609375 28.21875 55.609375 21.1875 \n",
       "Q 55.609375 10.40625 48.1875 4.484375 \n",
       "Q 40.765625 -1.421875 27.09375 -1.421875 \n",
       "Q 22.515625 -1.421875 17.65625 -0.515625 \n",
       "Q 12.796875 0.390625 7.625 2.203125 \n",
       "L 7.625 11.71875 \n",
       "Q 11.71875 9.328125 16.59375 8.109375 \n",
       "Q 21.484375 6.890625 26.8125 6.890625 \n",
       "Q 36.078125 6.890625 40.9375 10.546875 \n",
       "Q 45.796875 14.203125 45.796875 21.1875 \n",
       "Q 45.796875 27.640625 41.28125 31.265625 \n",
       "Q 36.765625 34.90625 28.71875 34.90625 \n",
       "L 20.21875 34.90625 \n",
       "L 20.21875 43.015625 \n",
       "L 29.109375 43.015625 \n",
       "Q 36.375 43.015625 40.234375 45.921875 \n",
       "Q 44.09375 48.828125 44.09375 54.296875 \n",
       "Q 44.09375 59.90625 40.109375 62.90625 \n",
       "Q 36.140625 65.921875 28.71875 65.921875 \n",
       "Q 24.65625 65.921875 20.015625 65.03125 \n",
       "Q 15.375 64.15625 9.8125 62.3125 \n",
       "L 9.8125 71.09375 \n",
       "Q 15.4375 72.65625 20.34375 73.4375 \n",
       "Q 25.25 74.21875 29.59375 74.21875 \n",
       "Q 40.828125 74.21875 47.359375 69.109375 \n",
       "Q 53.90625 64.015625 53.90625 55.328125 \n",
       "Q 53.90625 49.265625 50.4375 45.09375 \n",
       "Q 46.96875 40.921875 40.578125 39.3125 \n",
       "z\n",
       "\" id=\"DejaVuSans-51\"/>\n",
       "       </defs>\n",
       "       <use xlink:href=\"#DejaVuSans-51\"/>\n",
       "       <use x=\"63.623047\" xlink:href=\"#DejaVuSans-48\"/>\n",
       "       <use x=\"127.246094\" xlink:href=\"#DejaVuSans-48\"/>\n",
       "      </g>\n",
       "     </g>\n",
       "    </g>\n",
       "    <g id=\"xtick_5\">\n",
       "     <g id=\"line2d_5\">\n",
       "      <g>\n",
       "       <use style=\"stroke:#000000;stroke-width:0.8;\" x=\"189.785399\" xlink:href=\"#m92cdf46714\" y=\"158.509723\"/>\n",
       "      </g>\n",
       "     </g>\n",
       "     <g id=\"text_5\">\n",
       "      <!-- 400 -->\n",
       "      <g transform=\"translate(180.241649 173.10816)scale(0.1 -0.1)\">\n",
       "       <defs>\n",
       "        <path d=\"M 37.796875 64.3125 \n",
       "L 12.890625 25.390625 \n",
       "L 37.796875 25.390625 \n",
       "z\n",
       "M 35.203125 72.90625 \n",
       "L 47.609375 72.90625 \n",
       "L 47.609375 25.390625 \n",
       "L 58.015625 25.390625 \n",
       "L 58.015625 17.1875 \n",
       "L 47.609375 17.1875 \n",
       "L 47.609375 0 \n",
       "L 37.796875 0 \n",
       "L 37.796875 17.1875 \n",
       "L 4.890625 17.1875 \n",
       "L 4.890625 26.703125 \n",
       "z\n",
       "\" id=\"DejaVuSans-52\"/>\n",
       "       </defs>\n",
       "       <use xlink:href=\"#DejaVuSans-52\"/>\n",
       "       <use x=\"63.623047\" xlink:href=\"#DejaVuSans-48\"/>\n",
       "       <use x=\"127.246094\" xlink:href=\"#DejaVuSans-48\"/>\n",
       "      </g>\n",
       "     </g>\n",
       "    </g>\n",
       "    <g id=\"xtick_6\">\n",
       "     <g id=\"line2d_6\">\n",
       "      <g>\n",
       "       <use style=\"stroke:#000000;stroke-width:0.8;\" x=\"228.861029\" xlink:href=\"#m92cdf46714\" y=\"158.509723\"/>\n",
       "      </g>\n",
       "     </g>\n",
       "     <g id=\"text_6\">\n",
       "      <!-- 500 -->\n",
       "      <g transform=\"translate(219.317279 173.10816)scale(0.1 -0.1)\">\n",
       "       <defs>\n",
       "        <path d=\"M 10.796875 72.90625 \n",
       "L 49.515625 72.90625 \n",
       "L 49.515625 64.59375 \n",
       "L 19.828125 64.59375 \n",
       "L 19.828125 46.734375 \n",
       "Q 21.96875 47.46875 24.109375 47.828125 \n",
       "Q 26.265625 48.1875 28.421875 48.1875 \n",
       "Q 40.625 48.1875 47.75 41.5 \n",
       "Q 54.890625 34.8125 54.890625 23.390625 \n",
       "Q 54.890625 11.625 47.5625 5.09375 \n",
       "Q 40.234375 -1.421875 26.90625 -1.421875 \n",
       "Q 22.3125 -1.421875 17.546875 -0.640625 \n",
       "Q 12.796875 0.140625 7.71875 1.703125 \n",
       "L 7.71875 11.625 \n",
       "Q 12.109375 9.234375 16.796875 8.0625 \n",
       "Q 21.484375 6.890625 26.703125 6.890625 \n",
       "Q 35.15625 6.890625 40.078125 11.328125 \n",
       "Q 45.015625 15.765625 45.015625 23.390625 \n",
       "Q 45.015625 31 40.078125 35.4375 \n",
       "Q 35.15625 39.890625 26.703125 39.890625 \n",
       "Q 22.75 39.890625 18.8125 39.015625 \n",
       "Q 14.890625 38.140625 10.796875 36.28125 \n",
       "z\n",
       "\" id=\"DejaVuSans-53\"/>\n",
       "       </defs>\n",
       "       <use xlink:href=\"#DejaVuSans-53\"/>\n",
       "       <use x=\"63.623047\" xlink:href=\"#DejaVuSans-48\"/>\n",
       "       <use x=\"127.246094\" xlink:href=\"#DejaVuSans-48\"/>\n",
       "      </g>\n",
       "     </g>\n",
       "    </g>\n",
       "   </g>\n",
       "   <g id=\"matplotlib.axis_2\">\n",
       "    <g id=\"ytick_1\">\n",
       "     <g id=\"line2d_7\">\n",
       "      <defs>\n",
       "       <path d=\"M 0 0 \n",
       "L -3.5 0 \n",
       "\" id=\"m7bc7a8ddc1\" style=\"stroke:#000000;stroke-width:0.8;\"/>\n",
       "      </defs>\n",
       "      <g>\n",
       "       <use style=\"stroke:#000000;stroke-width:0.8;\" x=\"33.2875\" xlink:href=\"#m7bc7a8ddc1\" y=\"10.999219\"/>\n",
       "      </g>\n",
       "     </g>\n",
       "     <g id=\"text_7\">\n",
       "      <!-- 0 -->\n",
       "      <g transform=\"translate(19.925 14.798438)scale(0.1 -0.1)\">\n",
       "       <use xlink:href=\"#DejaVuSans-48\"/>\n",
       "      </g>\n",
       "     </g>\n",
       "    </g>\n",
       "    <g id=\"ytick_2\">\n",
       "     <g id=\"line2d_8\">\n",
       "      <g>\n",
       "       <use style=\"stroke:#000000;stroke-width:0.8;\" x=\"33.2875\" xlink:href=\"#m7bc7a8ddc1\" y=\"50.074849\"/>\n",
       "      </g>\n",
       "     </g>\n",
       "     <g id=\"text_8\">\n",
       "      <!-- 100 -->\n",
       "      <g transform=\"translate(7.2 53.874068)scale(0.1 -0.1)\">\n",
       "       <use xlink:href=\"#DejaVuSans-49\"/>\n",
       "       <use x=\"63.623047\" xlink:href=\"#DejaVuSans-48\"/>\n",
       "       <use x=\"127.246094\" xlink:href=\"#DejaVuSans-48\"/>\n",
       "      </g>\n",
       "     </g>\n",
       "    </g>\n",
       "    <g id=\"ytick_3\">\n",
       "     <g id=\"line2d_9\">\n",
       "      <g>\n",
       "       <use style=\"stroke:#000000;stroke-width:0.8;\" x=\"33.2875\" xlink:href=\"#m7bc7a8ddc1\" y=\"89.150479\"/>\n",
       "      </g>\n",
       "     </g>\n",
       "     <g id=\"text_9\">\n",
       "      <!-- 200 -->\n",
       "      <g transform=\"translate(7.2 92.949698)scale(0.1 -0.1)\">\n",
       "       <use xlink:href=\"#DejaVuSans-50\"/>\n",
       "       <use x=\"63.623047\" xlink:href=\"#DejaVuSans-48\"/>\n",
       "       <use x=\"127.246094\" xlink:href=\"#DejaVuSans-48\"/>\n",
       "      </g>\n",
       "     </g>\n",
       "    </g>\n",
       "    <g id=\"ytick_4\">\n",
       "     <g id=\"line2d_10\">\n",
       "      <g>\n",
       "       <use style=\"stroke:#000000;stroke-width:0.8;\" x=\"33.2875\" xlink:href=\"#m7bc7a8ddc1\" y=\"128.22611\"/>\n",
       "      </g>\n",
       "     </g>\n",
       "     <g id=\"text_10\">\n",
       "      <!-- 300 -->\n",
       "      <g transform=\"translate(7.2 132.025328)scale(0.1 -0.1)\">\n",
       "       <use xlink:href=\"#DejaVuSans-51\"/>\n",
       "       <use x=\"63.623047\" xlink:href=\"#DejaVuSans-48\"/>\n",
       "       <use x=\"127.246094\" xlink:href=\"#DejaVuSans-48\"/>\n",
       "      </g>\n",
       "     </g>\n",
       "    </g>\n",
       "   </g>\n",
       "   <g id=\"patch_3\">\n",
       "    <path d=\"M 33.2875 158.509723 \n",
       "L 33.2875 10.803841 \n",
       "\" style=\"fill:none;stroke:#000000;stroke-linecap:square;stroke-linejoin:miter;stroke-width:0.8;\"/>\n",
       "   </g>\n",
       "   <g id=\"patch_4\">\n",
       "    <path d=\"M 230.228676 158.509723 \n",
       "L 230.228676 10.803841 \n",
       "\" style=\"fill:none;stroke:#000000;stroke-linecap:square;stroke-linejoin:miter;stroke-width:0.8;\"/>\n",
       "   </g>\n",
       "   <g id=\"patch_5\">\n",
       "    <path d=\"M 33.2875 158.509723 \n",
       "L 230.228676 158.509723 \n",
       "\" style=\"fill:none;stroke:#000000;stroke-linecap:square;stroke-linejoin:miter;stroke-width:0.8;\"/>\n",
       "   </g>\n",
       "   <g id=\"patch_6\">\n",
       "    <path d=\"M 33.2875 10.803841 \n",
       "L 230.228676 10.803841 \n",
       "\" style=\"fill:none;stroke:#000000;stroke-linecap:square;stroke-linejoin:miter;stroke-width:0.8;\"/>\n",
       "   </g>\n",
       "  </g>\n",
       "  <g id=\"axes_2\">\n",
       "   <g id=\"patch_7\">\n",
       "    <path d=\"M 269.616912 158.509723 \n",
       "L 466.558088 158.509723 \n",
       "L 466.558088 10.803841 \n",
       "L 269.616912 10.803841 \n",
       "z\n",
       "\" style=\"fill:#ffffff;\"/>\n",
       "   </g>\n",
       "   <g clip-path=\"url(#pf67e252ecd)\">\n",
       "    <image height=\"148\" id=\"image3d01451922\" transform=\"scale(1 -1)translate(0 -148)\" width=\"197\" x=\"269.616912\" xlink:href=\"data:image/png;base64,\n",
       "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\" y=\"-10.509723\"/>\n",
       "   </g>\n",
       "   <g id=\"matplotlib.axis_3\">\n",
       "    <g id=\"xtick_7\">\n",
       "     <g id=\"line2d_11\">\n",
       "      <g>\n",
       "       <use style=\"stroke:#000000;stroke-width:0.8;\" x=\"269.81229\" xlink:href=\"#m92cdf46714\" y=\"158.509723\"/>\n",
       "      </g>\n",
       "     </g>\n",
       "     <g id=\"text_11\">\n",
       "      <!-- 0 -->\n",
       "      <g transform=\"translate(266.63104 173.10816)scale(0.1 -0.1)\">\n",
       "       <use xlink:href=\"#DejaVuSans-48\"/>\n",
       "      </g>\n",
       "     </g>\n",
       "    </g>\n",
       "    <g id=\"xtick_8\">\n",
       "     <g id=\"line2d_12\">\n",
       "      <g>\n",
       "       <use style=\"stroke:#000000;stroke-width:0.8;\" x=\"308.88792\" xlink:href=\"#m92cdf46714\" y=\"158.509723\"/>\n",
       "      </g>\n",
       "     </g>\n",
       "     <g id=\"text_12\">\n",
       "      <!-- 100 -->\n",
       "      <g transform=\"translate(299.34417 173.10816)scale(0.1 -0.1)\">\n",
       "       <use xlink:href=\"#DejaVuSans-49\"/>\n",
       "       <use x=\"63.623047\" xlink:href=\"#DejaVuSans-48\"/>\n",
       "       <use x=\"127.246094\" xlink:href=\"#DejaVuSans-48\"/>\n",
       "      </g>\n",
       "     </g>\n",
       "    </g>\n",
       "    <g id=\"xtick_9\">\n",
       "     <g id=\"line2d_13\">\n",
       "      <g>\n",
       "       <use style=\"stroke:#000000;stroke-width:0.8;\" x=\"347.96355\" xlink:href=\"#m92cdf46714\" y=\"158.509723\"/>\n",
       "      </g>\n",
       "     </g>\n",
       "     <g id=\"text_13\">\n",
       "      <!-- 200 -->\n",
       "      <g transform=\"translate(338.4198 173.10816)scale(0.1 -0.1)\">\n",
       "       <use xlink:href=\"#DejaVuSans-50\"/>\n",
       "       <use x=\"63.623047\" xlink:href=\"#DejaVuSans-48\"/>\n",
       "       <use x=\"127.246094\" xlink:href=\"#DejaVuSans-48\"/>\n",
       "      </g>\n",
       "     </g>\n",
       "    </g>\n",
       "    <g id=\"xtick_10\">\n",
       "     <g id=\"line2d_14\">\n",
       "      <g>\n",
       "       <use style=\"stroke:#000000;stroke-width:0.8;\" x=\"387.039181\" xlink:href=\"#m92cdf46714\" y=\"158.509723\"/>\n",
       "      </g>\n",
       "     </g>\n",
       "     <g id=\"text_14\">\n",
       "      <!-- 300 -->\n",
       "      <g transform=\"translate(377.495431 173.10816)scale(0.1 -0.1)\">\n",
       "       <use xlink:href=\"#DejaVuSans-51\"/>\n",
       "       <use x=\"63.623047\" xlink:href=\"#DejaVuSans-48\"/>\n",
       "       <use x=\"127.246094\" xlink:href=\"#DejaVuSans-48\"/>\n",
       "      </g>\n",
       "     </g>\n",
       "    </g>\n",
       "    <g id=\"xtick_11\">\n",
       "     <g id=\"line2d_15\">\n",
       "      <g>\n",
       "       <use style=\"stroke:#000000;stroke-width:0.8;\" x=\"426.114811\" xlink:href=\"#m92cdf46714\" y=\"158.509723\"/>\n",
       "      </g>\n",
       "     </g>\n",
       "     <g id=\"text_15\">\n",
       "      <!-- 400 -->\n",
       "      <g transform=\"translate(416.571061 173.10816)scale(0.1 -0.1)\">\n",
       "       <use xlink:href=\"#DejaVuSans-52\"/>\n",
       "       <use x=\"63.623047\" xlink:href=\"#DejaVuSans-48\"/>\n",
       "       <use x=\"127.246094\" xlink:href=\"#DejaVuSans-48\"/>\n",
       "      </g>\n",
       "     </g>\n",
       "    </g>\n",
       "    <g id=\"xtick_12\">\n",
       "     <g id=\"line2d_16\">\n",
       "      <g>\n",
       "       <use style=\"stroke:#000000;stroke-width:0.8;\" x=\"465.190441\" xlink:href=\"#m92cdf46714\" y=\"158.509723\"/>\n",
       "      </g>\n",
       "     </g>\n",
       "     <g id=\"text_16\">\n",
       "      <!-- 500 -->\n",
       "      <g transform=\"translate(455.646691 173.10816)scale(0.1 -0.1)\">\n",
       "       <use xlink:href=\"#DejaVuSans-53\"/>\n",
       "       <use x=\"63.623047\" xlink:href=\"#DejaVuSans-48\"/>\n",
       "       <use x=\"127.246094\" xlink:href=\"#DejaVuSans-48\"/>\n",
       "      </g>\n",
       "     </g>\n",
       "    </g>\n",
       "   </g>\n",
       "   <g id=\"matplotlib.axis_4\">\n",
       "    <g id=\"ytick_5\">\n",
       "     <g id=\"line2d_17\">\n",
       "      <g>\n",
       "       <use style=\"stroke:#000000;stroke-width:0.8;\" x=\"269.616912\" xlink:href=\"#m7bc7a8ddc1\" y=\"10.999219\"/>\n",
       "      </g>\n",
       "     </g>\n",
       "     <g id=\"text_17\">\n",
       "      <!-- 0 -->\n",
       "      <g transform=\"translate(256.254412 14.798438)scale(0.1 -0.1)\">\n",
       "       <use xlink:href=\"#DejaVuSans-48\"/>\n",
       "      </g>\n",
       "     </g>\n",
       "    </g>\n",
       "    <g id=\"ytick_6\">\n",
       "     <g id=\"line2d_18\">\n",
       "      <g>\n",
       "       <use style=\"stroke:#000000;stroke-width:0.8;\" x=\"269.616912\" xlink:href=\"#m7bc7a8ddc1\" y=\"50.074849\"/>\n",
       "      </g>\n",
       "     </g>\n",
       "     <g id=\"text_18\">\n",
       "      <!-- 100 -->\n",
       "      <g transform=\"translate(243.529412 53.874068)scale(0.1 -0.1)\">\n",
       "       <use xlink:href=\"#DejaVuSans-49\"/>\n",
       "       <use x=\"63.623047\" xlink:href=\"#DejaVuSans-48\"/>\n",
       "       <use x=\"127.246094\" xlink:href=\"#DejaVuSans-48\"/>\n",
       "      </g>\n",
       "     </g>\n",
       "    </g>\n",
       "    <g id=\"ytick_7\">\n",
       "     <g id=\"line2d_19\">\n",
       "      <g>\n",
       "       <use style=\"stroke:#000000;stroke-width:0.8;\" x=\"269.616912\" xlink:href=\"#m7bc7a8ddc1\" y=\"89.150479\"/>\n",
       "      </g>\n",
       "     </g>\n",
       "     <g id=\"text_19\">\n",
       "      <!-- 200 -->\n",
       "      <g transform=\"translate(243.529412 92.949698)scale(0.1 -0.1)\">\n",
       "       <use xlink:href=\"#DejaVuSans-50\"/>\n",
       "       <use x=\"63.623047\" xlink:href=\"#DejaVuSans-48\"/>\n",
       "       <use x=\"127.246094\" xlink:href=\"#DejaVuSans-48\"/>\n",
       "      </g>\n",
       "     </g>\n",
       "    </g>\n",
       "    <g id=\"ytick_8\">\n",
       "     <g id=\"line2d_20\">\n",
       "      <g>\n",
       "       <use style=\"stroke:#000000;stroke-width:0.8;\" x=\"269.616912\" xlink:href=\"#m7bc7a8ddc1\" y=\"128.22611\"/>\n",
       "      </g>\n",
       "     </g>\n",
       "     <g id=\"text_20\">\n",
       "      <!-- 300 -->\n",
       "      <g transform=\"translate(243.529412 132.025328)scale(0.1 -0.1)\">\n",
       "       <use xlink:href=\"#DejaVuSans-51\"/>\n",
       "       <use x=\"63.623047\" xlink:href=\"#DejaVuSans-48\"/>\n",
       "       <use x=\"127.246094\" xlink:href=\"#DejaVuSans-48\"/>\n",
       "      </g>\n",
       "     </g>\n",
       "    </g>\n",
       "   </g>\n",
       "   <g id=\"patch_8\">\n",
       "    <path d=\"M 269.616912 158.509723 \n",
       "L 269.616912 10.803841 \n",
       "\" style=\"fill:none;stroke:#000000;stroke-linecap:square;stroke-linejoin:miter;stroke-width:0.8;\"/>\n",
       "   </g>\n",
       "   <g id=\"patch_9\">\n",
       "    <path d=\"M 466.558088 158.509723 \n",
       "L 466.558088 10.803841 \n",
       "\" style=\"fill:none;stroke:#000000;stroke-linecap:square;stroke-linejoin:miter;stroke-width:0.8;\"/>\n",
       "   </g>\n",
       "   <g id=\"patch_10\">\n",
       "    <path d=\"M 269.616912 158.509723 \n",
       "L 466.558088 158.509723 \n",
       "\" style=\"fill:none;stroke:#000000;stroke-linecap:square;stroke-linejoin:miter;stroke-width:0.8;\"/>\n",
       "   </g>\n",
       "   <g id=\"patch_11\">\n",
       "    <path d=\"M 269.616912 10.803841 \n",
       "L 466.558088 10.803841 \n",
       "\" style=\"fill:none;stroke:#000000;stroke-linecap:square;stroke-linejoin:miter;stroke-width:0.8;\"/>\n",
       "   </g>\n",
       "  </g>\n",
       "  <g id=\"axes_3\">\n",
       "   <g id=\"patch_12\">\n",
       "    <path d=\"M 505.946324 158.509723 \n",
       "L 702.8875 158.509723 \n",
       "L 702.8875 10.803841 \n",
       "L 505.946324 10.803841 \n",
       "z\n",
       "\" style=\"fill:#ffffff;\"/>\n",
       "   </g>\n",
       "   <g clip-path=\"url(#p1676f9f4b0)\">\n",
       "    <image height=\"148\" id=\"imagea9450011e4\" transform=\"scale(1 -1)translate(0 -148)\" width=\"197\" x=\"505.946324\" xlink:href=\"data:image/png;base64,\n",
       "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\" y=\"-10.509723\"/>\n",
       "   </g>\n",
       "   <g id=\"matplotlib.axis_5\">\n",
       "    <g id=\"xtick_13\">\n",
       "     <g id=\"line2d_21\">\n",
       "      <g>\n",
       "       <use style=\"stroke:#000000;stroke-width:0.8;\" x=\"506.141702\" xlink:href=\"#m92cdf46714\" y=\"158.509723\"/>\n",
       "      </g>\n",
       "     </g>\n",
       "     <g id=\"text_21\">\n",
       "      <!-- 0 -->\n",
       "      <g transform=\"translate(502.960452 173.10816)scale(0.1 -0.1)\">\n",
       "       <use xlink:href=\"#DejaVuSans-48\"/>\n",
       "      </g>\n",
       "     </g>\n",
       "    </g>\n",
       "    <g id=\"xtick_14\">\n",
       "     <g id=\"line2d_22\">\n",
       "      <g>\n",
       "       <use style=\"stroke:#000000;stroke-width:0.8;\" x=\"545.217332\" xlink:href=\"#m92cdf46714\" y=\"158.509723\"/>\n",
       "      </g>\n",
       "     </g>\n",
       "     <g id=\"text_22\">\n",
       "      <!-- 100 -->\n",
       "      <g transform=\"translate(535.673582 173.10816)scale(0.1 -0.1)\">\n",
       "       <use xlink:href=\"#DejaVuSans-49\"/>\n",
       "       <use x=\"63.623047\" xlink:href=\"#DejaVuSans-48\"/>\n",
       "       <use x=\"127.246094\" xlink:href=\"#DejaVuSans-48\"/>\n",
       "      </g>\n",
       "     </g>\n",
       "    </g>\n",
       "    <g id=\"xtick_15\">\n",
       "     <g id=\"line2d_23\">\n",
       "      <g>\n",
       "       <use style=\"stroke:#000000;stroke-width:0.8;\" x=\"584.292962\" xlink:href=\"#m92cdf46714\" y=\"158.509723\"/>\n",
       "      </g>\n",
       "     </g>\n",
       "     <g id=\"text_23\">\n",
       "      <!-- 200 -->\n",
       "      <g transform=\"translate(574.749212 173.10816)scale(0.1 -0.1)\">\n",
       "       <use xlink:href=\"#DejaVuSans-50\"/>\n",
       "       <use x=\"63.623047\" xlink:href=\"#DejaVuSans-48\"/>\n",
       "       <use x=\"127.246094\" xlink:href=\"#DejaVuSans-48\"/>\n",
       "      </g>\n",
       "     </g>\n",
       "    </g>\n",
       "    <g id=\"xtick_16\">\n",
       "     <g id=\"line2d_24\">\n",
       "      <g>\n",
       "       <use style=\"stroke:#000000;stroke-width:0.8;\" x=\"623.368592\" xlink:href=\"#m92cdf46714\" y=\"158.509723\"/>\n",
       "      </g>\n",
       "     </g>\n",
       "     <g id=\"text_24\">\n",
       "      <!-- 300 -->\n",
       "      <g transform=\"translate(613.824842 173.10816)scale(0.1 -0.1)\">\n",
       "       <use xlink:href=\"#DejaVuSans-51\"/>\n",
       "       <use x=\"63.623047\" xlink:href=\"#DejaVuSans-48\"/>\n",
       "       <use x=\"127.246094\" xlink:href=\"#DejaVuSans-48\"/>\n",
       "      </g>\n",
       "     </g>\n",
       "    </g>\n",
       "    <g id=\"xtick_17\">\n",
       "     <g id=\"line2d_25\">\n",
       "      <g>\n",
       "       <use style=\"stroke:#000000;stroke-width:0.8;\" x=\"662.444223\" xlink:href=\"#m92cdf46714\" y=\"158.509723\"/>\n",
       "      </g>\n",
       "     </g>\n",
       "     <g id=\"text_25\">\n",
       "      <!-- 400 -->\n",
       "      <g transform=\"translate(652.900473 173.10816)scale(0.1 -0.1)\">\n",
       "       <use xlink:href=\"#DejaVuSans-52\"/>\n",
       "       <use x=\"63.623047\" xlink:href=\"#DejaVuSans-48\"/>\n",
       "       <use x=\"127.246094\" xlink:href=\"#DejaVuSans-48\"/>\n",
       "      </g>\n",
       "     </g>\n",
       "    </g>\n",
       "    <g id=\"xtick_18\">\n",
       "     <g id=\"line2d_26\">\n",
       "      <g>\n",
       "       <use style=\"stroke:#000000;stroke-width:0.8;\" x=\"701.519853\" xlink:href=\"#m92cdf46714\" y=\"158.509723\"/>\n",
       "      </g>\n",
       "     </g>\n",
       "     <g id=\"text_26\">\n",
       "      <!-- 500 -->\n",
       "      <g transform=\"translate(691.976103 173.10816)scale(0.1 -0.1)\">\n",
       "       <use xlink:href=\"#DejaVuSans-53\"/>\n",
       "       <use x=\"63.623047\" xlink:href=\"#DejaVuSans-48\"/>\n",
       "       <use x=\"127.246094\" xlink:href=\"#DejaVuSans-48\"/>\n",
       "      </g>\n",
       "     </g>\n",
       "    </g>\n",
       "   </g>\n",
       "   <g id=\"matplotlib.axis_6\">\n",
       "    <g id=\"ytick_9\">\n",
       "     <g id=\"line2d_27\">\n",
       "      <g>\n",
       "       <use style=\"stroke:#000000;stroke-width:0.8;\" x=\"505.946324\" xlink:href=\"#m7bc7a8ddc1\" y=\"10.999219\"/>\n",
       "      </g>\n",
       "     </g>\n",
       "     <g id=\"text_27\">\n",
       "      <!-- 0 -->\n",
       "      <g transform=\"translate(492.583824 14.798437)scale(0.1 -0.1)\">\n",
       "       <use xlink:href=\"#DejaVuSans-48\"/>\n",
       "      </g>\n",
       "     </g>\n",
       "    </g>\n",
       "    <g id=\"ytick_10\">\n",
       "     <g id=\"line2d_28\">\n",
       "      <g>\n",
       "       <use style=\"stroke:#000000;stroke-width:0.8;\" x=\"505.946324\" xlink:href=\"#m7bc7a8ddc1\" y=\"50.074849\"/>\n",
       "      </g>\n",
       "     </g>\n",
       "     <g id=\"text_28\">\n",
       "      <!-- 100 -->\n",
       "      <g transform=\"translate(479.858824 53.874068)scale(0.1 -0.1)\">\n",
       "       <use xlink:href=\"#DejaVuSans-49\"/>\n",
       "       <use x=\"63.623047\" xlink:href=\"#DejaVuSans-48\"/>\n",
       "       <use x=\"127.246094\" xlink:href=\"#DejaVuSans-48\"/>\n",
       "      </g>\n",
       "     </g>\n",
       "    </g>\n",
       "    <g id=\"ytick_11\">\n",
       "     <g id=\"line2d_29\">\n",
       "      <g>\n",
       "       <use style=\"stroke:#000000;stroke-width:0.8;\" x=\"505.946324\" xlink:href=\"#m7bc7a8ddc1\" y=\"89.150479\"/>\n",
       "      </g>\n",
       "     </g>\n",
       "     <g id=\"text_29\">\n",
       "      <!-- 200 -->\n",
       "      <g transform=\"translate(479.858824 92.949698)scale(0.1 -0.1)\">\n",
       "       <use xlink:href=\"#DejaVuSans-50\"/>\n",
       "       <use x=\"63.623047\" xlink:href=\"#DejaVuSans-48\"/>\n",
       "       <use x=\"127.246094\" xlink:href=\"#DejaVuSans-48\"/>\n",
       "      </g>\n",
       "     </g>\n",
       "    </g>\n",
       "    <g id=\"ytick_12\">\n",
       "     <g id=\"line2d_30\">\n",
       "      <g>\n",
       "       <use style=\"stroke:#000000;stroke-width:0.8;\" x=\"505.946324\" xlink:href=\"#m7bc7a8ddc1\" y=\"128.22611\"/>\n",
       "      </g>\n",
       "     </g>\n",
       "     <g id=\"text_30\">\n",
       "      <!-- 300 -->\n",
       "      <g transform=\"translate(479.858824 132.025328)scale(0.1 -0.1)\">\n",
       "       <use xlink:href=\"#DejaVuSans-51\"/>\n",
       "       <use x=\"63.623047\" xlink:href=\"#DejaVuSans-48\"/>\n",
       "       <use x=\"127.246094\" xlink:href=\"#DejaVuSans-48\"/>\n",
       "      </g>\n",
       "     </g>\n",
       "    </g>\n",
       "   </g>\n",
       "   <g id=\"patch_13\">\n",
       "    <path d=\"M 505.946324 158.509723 \n",
       "L 505.946324 10.803841 \n",
       "\" style=\"fill:none;stroke:#000000;stroke-linecap:square;stroke-linejoin:miter;stroke-width:0.8;\"/>\n",
       "   </g>\n",
       "   <g id=\"patch_14\">\n",
       "    <path d=\"M 702.8875 158.509723 \n",
       "L 702.8875 10.803841 \n",
       "\" style=\"fill:none;stroke:#000000;stroke-linecap:square;stroke-linejoin:miter;stroke-width:0.8;\"/>\n",
       "   </g>\n",
       "   <g id=\"patch_15\">\n",
       "    <path d=\"M 505.946324 158.509723 \n",
       "L 702.8875 158.509723 \n",
       "\" style=\"fill:none;stroke:#000000;stroke-linecap:square;stroke-linejoin:miter;stroke-width:0.8;\"/>\n",
       "   </g>\n",
       "   <g id=\"patch_16\">\n",
       "    <path d=\"M 505.946324 10.803841 \n",
       "L 702.8875 10.803841 \n",
       "\" style=\"fill:none;stroke:#000000;stroke-linecap:square;stroke-linejoin:miter;stroke-width:0.8;\"/>\n",
       "   </g>\n",
       "  </g>\n",
       " </g>\n",
       " <defs>\n",
       "  <clipPath id=\"p39e83ddc9c\">\n",
       "   <rect height=\"147.705882\" width=\"196.941176\" x=\"33.2875\" y=\"10.803841\"/>\n",
       "  </clipPath>\n",
       "  <clipPath id=\"pf67e252ecd\">\n",
       "   <rect height=\"147.705882\" width=\"196.941176\" x=\"269.616912\" y=\"10.803841\"/>\n",
       "  </clipPath>\n",
       "  <clipPath id=\"p1676f9f4b0\">\n",
       "   <rect height=\"147.705882\" width=\"196.941176\" x=\"505.946324\" y=\"10.803841\"/>\n",
       "  </clipPath>\n",
       " </defs>\n",
       "</svg>\n"
      ],
      "text/plain": [
       "<Figure size 864x576 with 3 Axes>"
      ]
     },
     "metadata": {
      "needs_background": "light"
     },
     "output_type": "display_data"
    }
   ],
   "source": [
    "# Contrast stretching\n",
    "# p2, p98 = np.percentile(img, (2, 99))\n",
    "# img_rescale = exposure.rescale_intensity(img, in_range=(p2, p98)) * 0.8 +0.1\n",
    "\n",
    "img_rescale = exposure.equalize_adapthist(img, clip_limit=0.1, nbins=32) * 0.79 +0.2\n",
    "\n",
    "selem = disk(2)\n",
    "filt_img = filters.rank.mean(img_rescale, selem)\n",
    "\n",
    "angle_farid = angle(filters.farid_h(filt_img),\n",
    "                    filters.farid_v(filt_img))\n",
    "\n",
    "f, axs = plt.subplots(1,3, figsize=(12,8))\n",
    "axs[0].imshow(img)\n",
    "axs[1].imshow(img_rescale)\n",
    "axs[2].imshow(angle_farid)"
   ]
  },
  {
   "cell_type": "code",
   "execution_count": 25,
   "metadata": {
    "Collapsed": "false"
   },
   "outputs": [],
   "source": [
    "df = geopandas.GeoDataFrame({'geometry':polys})"
   ]
  },
  {
   "cell_type": "code",
   "execution_count": 28,
   "metadata": {
    "Collapsed": "false"
   },
   "outputs": [],
   "source": [
    "pixel_width=0.9\n",
    "pixel_height=0.9"
   ]
  },
  {
   "cell_type": "code",
   "execution_count": 199,
   "metadata": {
    "Collapsed": "false"
   },
   "outputs": [
    {
     "name": "stderr",
     "output_type": "stream",
     "text": [
      "378it [00:08, 45.99it/s]\n"
     ]
    }
   ],
   "source": [
    "prms = []\n",
    "for y, row in tqdm(enumerate(img_rescale)):\n",
    "    for x, intensity in enumerate(row):\n",
    "        \n",
    "        p = gp.centered_box(Point(x, y), width=pixel_width, height=pixel_height)\n",
    "        a = angle_farid[y, x]\n",
    "        prm = {\n",
    "            'geometry':p,\n",
    "            'x':x,\n",
    "            'y':y,\n",
    "            'raw_pixel_width':pixel_width,\n",
    "            'raw_pixel_height':pixel_height,\n",
    "            'intensity': intensity,\n",
    "            'angle':a,\n",
    "            'group': 'raw_hatch_pixel',\n",
    "            \n",
    "        }\n",
    "        prms.append(prm)\n",
    "raw_hatch_pixels = geopandas.GeoDataFrame(prms)"
   ]
  },
  {
   "cell_type": "code",
   "execution_count": 256,
   "metadata": {
    "Collapsed": "false"
   },
   "outputs": [],
   "source": [
    "import yaml"
   ]
  },
  {
   "cell_type": "code",
   "execution_count": 257,
   "metadata": {
    "Collapsed": "false"
   },
   "outputs": [],
   "source": [
    "@dataclass\n",
    "class RasterHatchParam(gp.DataClassBase):\n",
    "    image_path: str = None"
   ]
  },
  {
   "cell_type": "code",
   "execution_count": 260,
   "metadata": {
    "Collapsed": "false"
   },
   "outputs": [],
   "source": [
    "rhp = RasterHatchParam(image_path='/mnt/c/code/side/plotter_images/louiehat.jpg')"
   ]
  },
  {
   "cell_type": "code",
   "execution_count": 262,
   "metadata": {
    "Collapsed": "false"
   },
   "outputs": [],
   "source": [
    "rhp.angle_jitter_gen = angle_jitter_gen"
   ]
  },
  {
   "cell_type": "code",
   "execution_count": 263,
   "metadata": {
    "Collapsed": "false"
   },
   "outputs": [],
   "source": [
    "with open('/mnt/c/data/test_param.yaml', mode='w') as ff:\n",
    "    ff.write(yaml.dump(rhp))\n"
   ]
  },
  {
   "cell_type": "code",
   "execution_count": 264,
   "metadata": {
    "Collapsed": "false",
    "collapsed": true,
    "jupyter": {
     "outputs_hidden": true
    }
   },
   "outputs": [
    {
     "name": "stderr",
     "output_type": "stream",
     "text": [
      "<ipython-input-264-9c7c6d0cbd19>:2: YAMLLoadWarning: calling yaml.load() without Loader=... is deprecated, as the default Loader is unsafe. Please read https://msg.pyyaml.org/load for full details.\n",
      "  y = yaml.load(fx)\n"
     ]
    },
    {
     "ename": "ConstructorError",
     "evalue": "could not determine a constructor for the tag 'tag:yaml.org,2002:python/object/apply:builtins.getattr'\n  in \"/mnt/c/data/test_param.yaml\", line 2, column 19",
     "output_type": "error",
     "traceback": [
      "\u001b[0;31m---------------------------------------------------------------------------\u001b[0m",
      "\u001b[0;31mConstructorError\u001b[0m                          Traceback (most recent call last)",
      "\u001b[0;32m<ipython-input-264-9c7c6d0cbd19>\u001b[0m in \u001b[0;36m<module>\u001b[0;34m\u001b[0m\n\u001b[1;32m      1\u001b[0m \u001b[0;32mwith\u001b[0m \u001b[0mopen\u001b[0m\u001b[0;34m(\u001b[0m\u001b[0;34m'/mnt/c/data/test_param.yaml'\u001b[0m\u001b[0;34m,\u001b[0m \u001b[0mmode\u001b[0m\u001b[0;34m=\u001b[0m\u001b[0;34m\"r\"\u001b[0m\u001b[0;34m)\u001b[0m \u001b[0;32mas\u001b[0m \u001b[0mfx\u001b[0m\u001b[0;34m:\u001b[0m\u001b[0;34m\u001b[0m\u001b[0;34m\u001b[0m\u001b[0m\n\u001b[0;32m----> 2\u001b[0;31m     \u001b[0my\u001b[0m \u001b[0;34m=\u001b[0m \u001b[0myaml\u001b[0m\u001b[0;34m.\u001b[0m\u001b[0mload\u001b[0m\u001b[0;34m(\u001b[0m\u001b[0mfx\u001b[0m\u001b[0;34m)\u001b[0m\u001b[0;34m\u001b[0m\u001b[0;34m\u001b[0m\u001b[0m\n\u001b[0m",
      "\u001b[0;32m~/anaconda3/envs/genpen/lib/python3.8/site-packages/yaml/__init__.py\u001b[0m in \u001b[0;36mload\u001b[0;34m(stream, Loader)\u001b[0m\n\u001b[1;32m    112\u001b[0m     \u001b[0mloader\u001b[0m \u001b[0;34m=\u001b[0m \u001b[0mLoader\u001b[0m\u001b[0;34m(\u001b[0m\u001b[0mstream\u001b[0m\u001b[0;34m)\u001b[0m\u001b[0;34m\u001b[0m\u001b[0;34m\u001b[0m\u001b[0m\n\u001b[1;32m    113\u001b[0m     \u001b[0;32mtry\u001b[0m\u001b[0;34m:\u001b[0m\u001b[0;34m\u001b[0m\u001b[0;34m\u001b[0m\u001b[0m\n\u001b[0;32m--> 114\u001b[0;31m         \u001b[0;32mreturn\u001b[0m \u001b[0mloader\u001b[0m\u001b[0;34m.\u001b[0m\u001b[0mget_single_data\u001b[0m\u001b[0;34m(\u001b[0m\u001b[0;34m)\u001b[0m\u001b[0;34m\u001b[0m\u001b[0;34m\u001b[0m\u001b[0m\n\u001b[0m\u001b[1;32m    115\u001b[0m     \u001b[0;32mfinally\u001b[0m\u001b[0;34m:\u001b[0m\u001b[0;34m\u001b[0m\u001b[0;34m\u001b[0m\u001b[0m\n\u001b[1;32m    116\u001b[0m         \u001b[0mloader\u001b[0m\u001b[0;34m.\u001b[0m\u001b[0mdispose\u001b[0m\u001b[0;34m(\u001b[0m\u001b[0;34m)\u001b[0m\u001b[0;34m\u001b[0m\u001b[0;34m\u001b[0m\u001b[0m\n",
      "\u001b[0;32m~/anaconda3/envs/genpen/lib/python3.8/site-packages/yaml/constructor.py\u001b[0m in \u001b[0;36mget_single_data\u001b[0;34m(self)\u001b[0m\n\u001b[1;32m     49\u001b[0m         \u001b[0mnode\u001b[0m \u001b[0;34m=\u001b[0m \u001b[0mself\u001b[0m\u001b[0;34m.\u001b[0m\u001b[0mget_single_node\u001b[0m\u001b[0;34m(\u001b[0m\u001b[0;34m)\u001b[0m\u001b[0;34m\u001b[0m\u001b[0;34m\u001b[0m\u001b[0m\n\u001b[1;32m     50\u001b[0m         \u001b[0;32mif\u001b[0m \u001b[0mnode\u001b[0m \u001b[0;32mis\u001b[0m \u001b[0;32mnot\u001b[0m \u001b[0;32mNone\u001b[0m\u001b[0;34m:\u001b[0m\u001b[0;34m\u001b[0m\u001b[0;34m\u001b[0m\u001b[0m\n\u001b[0;32m---> 51\u001b[0;31m             \u001b[0;32mreturn\u001b[0m \u001b[0mself\u001b[0m\u001b[0;34m.\u001b[0m\u001b[0mconstruct_document\u001b[0m\u001b[0;34m(\u001b[0m\u001b[0mnode\u001b[0m\u001b[0;34m)\u001b[0m\u001b[0;34m\u001b[0m\u001b[0;34m\u001b[0m\u001b[0m\n\u001b[0m\u001b[1;32m     52\u001b[0m         \u001b[0;32mreturn\u001b[0m \u001b[0;32mNone\u001b[0m\u001b[0;34m\u001b[0m\u001b[0;34m\u001b[0m\u001b[0m\n\u001b[1;32m     53\u001b[0m \u001b[0;34m\u001b[0m\u001b[0m\n",
      "\u001b[0;32m~/anaconda3/envs/genpen/lib/python3.8/site-packages/yaml/constructor.py\u001b[0m in \u001b[0;36mconstruct_document\u001b[0;34m(self, node)\u001b[0m\n\u001b[1;32m     58\u001b[0m             \u001b[0mself\u001b[0m\u001b[0;34m.\u001b[0m\u001b[0mstate_generators\u001b[0m \u001b[0;34m=\u001b[0m \u001b[0;34m[\u001b[0m\u001b[0;34m]\u001b[0m\u001b[0;34m\u001b[0m\u001b[0;34m\u001b[0m\u001b[0m\n\u001b[1;32m     59\u001b[0m             \u001b[0;32mfor\u001b[0m \u001b[0mgenerator\u001b[0m \u001b[0;32min\u001b[0m \u001b[0mstate_generators\u001b[0m\u001b[0;34m:\u001b[0m\u001b[0;34m\u001b[0m\u001b[0;34m\u001b[0m\u001b[0m\n\u001b[0;32m---> 60\u001b[0;31m                 \u001b[0;32mfor\u001b[0m \u001b[0mdummy\u001b[0m \u001b[0;32min\u001b[0m \u001b[0mgenerator\u001b[0m\u001b[0;34m:\u001b[0m\u001b[0;34m\u001b[0m\u001b[0;34m\u001b[0m\u001b[0m\n\u001b[0m\u001b[1;32m     61\u001b[0m                     \u001b[0;32mpass\u001b[0m\u001b[0;34m\u001b[0m\u001b[0;34m\u001b[0m\u001b[0m\n\u001b[1;32m     62\u001b[0m         \u001b[0mself\u001b[0m\u001b[0;34m.\u001b[0m\u001b[0mconstructed_objects\u001b[0m \u001b[0;34m=\u001b[0m \u001b[0;34m{\u001b[0m\u001b[0;34m}\u001b[0m\u001b[0;34m\u001b[0m\u001b[0;34m\u001b[0m\u001b[0m\n",
      "\u001b[0;32m~/anaconda3/envs/genpen/lib/python3.8/site-packages/yaml/constructor.py\u001b[0m in \u001b[0;36mconstruct_python_object\u001b[0;34m(self, suffix, node)\u001b[0m\n\u001b[1;32m    618\u001b[0m         \u001b[0;32myield\u001b[0m \u001b[0minstance\u001b[0m\u001b[0;34m\u001b[0m\u001b[0;34m\u001b[0m\u001b[0m\n\u001b[1;32m    619\u001b[0m         \u001b[0mdeep\u001b[0m \u001b[0;34m=\u001b[0m \u001b[0mhasattr\u001b[0m\u001b[0;34m(\u001b[0m\u001b[0minstance\u001b[0m\u001b[0;34m,\u001b[0m \u001b[0;34m'__setstate__'\u001b[0m\u001b[0;34m)\u001b[0m\u001b[0;34m\u001b[0m\u001b[0;34m\u001b[0m\u001b[0m\n\u001b[0;32m--> 620\u001b[0;31m         \u001b[0mstate\u001b[0m \u001b[0;34m=\u001b[0m \u001b[0mself\u001b[0m\u001b[0;34m.\u001b[0m\u001b[0mconstruct_mapping\u001b[0m\u001b[0;34m(\u001b[0m\u001b[0mnode\u001b[0m\u001b[0;34m,\u001b[0m \u001b[0mdeep\u001b[0m\u001b[0;34m=\u001b[0m\u001b[0mdeep\u001b[0m\u001b[0;34m)\u001b[0m\u001b[0;34m\u001b[0m\u001b[0;34m\u001b[0m\u001b[0m\n\u001b[0m\u001b[1;32m    621\u001b[0m         \u001b[0mself\u001b[0m\u001b[0;34m.\u001b[0m\u001b[0mset_python_instance_state\u001b[0m\u001b[0;34m(\u001b[0m\u001b[0minstance\u001b[0m\u001b[0;34m,\u001b[0m \u001b[0mstate\u001b[0m\u001b[0;34m)\u001b[0m\u001b[0;34m\u001b[0m\u001b[0;34m\u001b[0m\u001b[0m\n\u001b[1;32m    622\u001b[0m \u001b[0;34m\u001b[0m\u001b[0m\n",
      "\u001b[0;32m~/anaconda3/envs/genpen/lib/python3.8/site-packages/yaml/constructor.py\u001b[0m in \u001b[0;36mconstruct_mapping\u001b[0;34m(self, node, deep)\u001b[0m\n\u001b[1;32m    216\u001b[0m         \u001b[0;32mif\u001b[0m \u001b[0misinstance\u001b[0m\u001b[0;34m(\u001b[0m\u001b[0mnode\u001b[0m\u001b[0;34m,\u001b[0m \u001b[0mMappingNode\u001b[0m\u001b[0;34m)\u001b[0m\u001b[0;34m:\u001b[0m\u001b[0;34m\u001b[0m\u001b[0;34m\u001b[0m\u001b[0m\n\u001b[1;32m    217\u001b[0m             \u001b[0mself\u001b[0m\u001b[0;34m.\u001b[0m\u001b[0mflatten_mapping\u001b[0m\u001b[0;34m(\u001b[0m\u001b[0mnode\u001b[0m\u001b[0;34m)\u001b[0m\u001b[0;34m\u001b[0m\u001b[0;34m\u001b[0m\u001b[0m\n\u001b[0;32m--> 218\u001b[0;31m         \u001b[0;32mreturn\u001b[0m \u001b[0msuper\u001b[0m\u001b[0;34m(\u001b[0m\u001b[0;34m)\u001b[0m\u001b[0;34m.\u001b[0m\u001b[0mconstruct_mapping\u001b[0m\u001b[0;34m(\u001b[0m\u001b[0mnode\u001b[0m\u001b[0;34m,\u001b[0m \u001b[0mdeep\u001b[0m\u001b[0;34m=\u001b[0m\u001b[0mdeep\u001b[0m\u001b[0;34m)\u001b[0m\u001b[0;34m\u001b[0m\u001b[0;34m\u001b[0m\u001b[0m\n\u001b[0m\u001b[1;32m    219\u001b[0m \u001b[0;34m\u001b[0m\u001b[0m\n\u001b[1;32m    220\u001b[0m     \u001b[0;32mdef\u001b[0m \u001b[0mconstruct_yaml_null\u001b[0m\u001b[0;34m(\u001b[0m\u001b[0mself\u001b[0m\u001b[0;34m,\u001b[0m \u001b[0mnode\u001b[0m\u001b[0;34m)\u001b[0m\u001b[0;34m:\u001b[0m\u001b[0;34m\u001b[0m\u001b[0;34m\u001b[0m\u001b[0m\n",
      "\u001b[0;32m~/anaconda3/envs/genpen/lib/python3.8/site-packages/yaml/constructor.py\u001b[0m in \u001b[0;36mconstruct_mapping\u001b[0;34m(self, node, deep)\u001b[0m\n\u001b[1;32m    141\u001b[0m                 raise ConstructorError(\"while constructing a mapping\", node.start_mark,\n\u001b[1;32m    142\u001b[0m                         \"found unhashable key\", key_node.start_mark)\n\u001b[0;32m--> 143\u001b[0;31m             \u001b[0mvalue\u001b[0m \u001b[0;34m=\u001b[0m \u001b[0mself\u001b[0m\u001b[0;34m.\u001b[0m\u001b[0mconstruct_object\u001b[0m\u001b[0;34m(\u001b[0m\u001b[0mvalue_node\u001b[0m\u001b[0;34m,\u001b[0m \u001b[0mdeep\u001b[0m\u001b[0;34m=\u001b[0m\u001b[0mdeep\u001b[0m\u001b[0;34m)\u001b[0m\u001b[0;34m\u001b[0m\u001b[0;34m\u001b[0m\u001b[0m\n\u001b[0m\u001b[1;32m    144\u001b[0m             \u001b[0mmapping\u001b[0m\u001b[0;34m[\u001b[0m\u001b[0mkey\u001b[0m\u001b[0;34m]\u001b[0m \u001b[0;34m=\u001b[0m \u001b[0mvalue\u001b[0m\u001b[0;34m\u001b[0m\u001b[0;34m\u001b[0m\u001b[0m\n\u001b[1;32m    145\u001b[0m         \u001b[0;32mreturn\u001b[0m \u001b[0mmapping\u001b[0m\u001b[0;34m\u001b[0m\u001b[0;34m\u001b[0m\u001b[0m\n",
      "\u001b[0;32m~/anaconda3/envs/genpen/lib/python3.8/site-packages/yaml/constructor.py\u001b[0m in \u001b[0;36mconstruct_object\u001b[0;34m(self, node, deep)\u001b[0m\n\u001b[1;32m     98\u001b[0m                     \u001b[0mconstructor\u001b[0m \u001b[0;34m=\u001b[0m \u001b[0mself\u001b[0m\u001b[0;34m.\u001b[0m\u001b[0m__class__\u001b[0m\u001b[0;34m.\u001b[0m\u001b[0mconstruct_mapping\u001b[0m\u001b[0;34m\u001b[0m\u001b[0;34m\u001b[0m\u001b[0m\n\u001b[1;32m     99\u001b[0m         \u001b[0;32mif\u001b[0m \u001b[0mtag_suffix\u001b[0m \u001b[0;32mis\u001b[0m \u001b[0;32mNone\u001b[0m\u001b[0;34m:\u001b[0m\u001b[0;34m\u001b[0m\u001b[0;34m\u001b[0m\u001b[0m\n\u001b[0;32m--> 100\u001b[0;31m             \u001b[0mdata\u001b[0m \u001b[0;34m=\u001b[0m \u001b[0mconstructor\u001b[0m\u001b[0;34m(\u001b[0m\u001b[0mself\u001b[0m\u001b[0;34m,\u001b[0m \u001b[0mnode\u001b[0m\u001b[0;34m)\u001b[0m\u001b[0;34m\u001b[0m\u001b[0;34m\u001b[0m\u001b[0m\n\u001b[0m\u001b[1;32m    101\u001b[0m         \u001b[0;32melse\u001b[0m\u001b[0;34m:\u001b[0m\u001b[0;34m\u001b[0m\u001b[0;34m\u001b[0m\u001b[0m\n\u001b[1;32m    102\u001b[0m             \u001b[0mdata\u001b[0m \u001b[0;34m=\u001b[0m \u001b[0mconstructor\u001b[0m\u001b[0;34m(\u001b[0m\u001b[0mself\u001b[0m\u001b[0;34m,\u001b[0m \u001b[0mtag_suffix\u001b[0m\u001b[0;34m,\u001b[0m \u001b[0mnode\u001b[0m\u001b[0;34m)\u001b[0m\u001b[0;34m\u001b[0m\u001b[0;34m\u001b[0m\u001b[0m\n",
      "\u001b[0;32m~/anaconda3/envs/genpen/lib/python3.8/site-packages/yaml/constructor.py\u001b[0m in \u001b[0;36mconstruct_undefined\u001b[0;34m(self, node)\u001b[0m\n\u001b[1;32m    425\u001b[0m \u001b[0;34m\u001b[0m\u001b[0m\n\u001b[1;32m    426\u001b[0m     \u001b[0;32mdef\u001b[0m \u001b[0mconstruct_undefined\u001b[0m\u001b[0;34m(\u001b[0m\u001b[0mself\u001b[0m\u001b[0;34m,\u001b[0m \u001b[0mnode\u001b[0m\u001b[0;34m)\u001b[0m\u001b[0;34m:\u001b[0m\u001b[0;34m\u001b[0m\u001b[0;34m\u001b[0m\u001b[0m\n\u001b[0;32m--> 427\u001b[0;31m         raise ConstructorError(None, None,\n\u001b[0m\u001b[1;32m    428\u001b[0m                 \u001b[0;34m\"could not determine a constructor for the tag %r\"\u001b[0m \u001b[0;34m%\u001b[0m \u001b[0mnode\u001b[0m\u001b[0;34m.\u001b[0m\u001b[0mtag\u001b[0m\u001b[0;34m,\u001b[0m\u001b[0;34m\u001b[0m\u001b[0;34m\u001b[0m\u001b[0m\n\u001b[1;32m    429\u001b[0m                 node.start_mark)\n",
      "\u001b[0;31mConstructorError\u001b[0m: could not determine a constructor for the tag 'tag:yaml.org,2002:python/object/apply:builtins.getattr'\n  in \"/mnt/c/data/test_param.yaml\", line 2, column 19"
     ]
    }
   ],
   "source": [
    "with open('/mnt/c/data/test_param.yaml', mode=\"r\") as fx:\n",
    "    y = yaml.load(fx)"
   ]
  },
  {
   "cell_type": "code",
   "execution_count": 201,
   "metadata": {
    "Collapsed": "false"
   },
   "outputs": [],
   "source": [
    "bbox = box(*raw_hatch_pixels.total_bounds)\n",
    "_, transform = gp.make_like(bbox, drawbox, return_transform=True)\n",
    "A = gp.AffineMatrix(**transform)"
   ]
  },
  {
   "cell_type": "code",
   "execution_count": 202,
   "metadata": {
    "Collapsed": "false"
   },
   "outputs": [],
   "source": [
    "scaled_hatch_pixels = raw_hatch_pixels.copy()\n",
    "scaled_hatch_pixels['geometry'] = scaled_hatch_pixels.affine_transform(A.A_flat)\n",
    "scaled_hatch_pixels['scaled_pixel_height'] = scaled_hatch_pixels['geometry'].apply(gp.get_height)\n",
    "scaled_hatch_pixels['scaled_pixel_width'] = scaled_hatch_pixels['geometry'].apply(gp.get_width)"
   ]
  },
  {
   "cell_type": "code",
   "execution_count": 251,
   "metadata": {
    "Collapsed": "false"
   },
   "outputs": [],
   "source": [
    "angle_jitter_gen = gp.make_callable(ss.norm(loc=0, scale=10).rvs)\n",
    "pixel_rotation_gen = gp.make_callable(0)"
   ]
  },
  {
   "cell_type": "code",
   "execution_count": 255,
   "metadata": {
    "Collapsed": "false"
   },
   "outputs": [
    {
     "name": "stderr",
     "output_type": "stream",
     "text": [
      "100%|██████████| 190512/190512 [02:55<00:00, 1088.49it/s]\n"
     ]
    }
   ],
   "source": [
    "new_rows = []\n",
    "for i, row in tqdm(scaled_hatch_pixels.iterrows(), total=len(scaled_hatch_pixels)):\n",
    "    r = row.copy()\n",
    "    r['angle_jitter'] = angle_jitter_gen()\n",
    "    r['hatch_angle'] = r['angle'] + r['angle_jitter']\n",
    "    r['pixel_rotation'] = pixel_rotation_gen()\n",
    "    p = r['geometry']\n",
    "    r['spacing'] = r['intensity']  # could be a transformation though\n",
    "    if abs(r['pixel_rotation']) > np.finfo(float).eps:\n",
    "        p = sa.rotate(p, r['pixel_rotation'])\n",
    "    f = gp.hatchbox(p, spacing=r['spacing'], angle=r['hatch_angle'])\n",
    "    r['geometry'] = f\n",
    "    new_rows.append(r)\n",
    "    \n",
    "fills = geopandas.GeoDataFrame(new_rows)\n",
    "fills = fills[fills.length > 0]"
   ]
  },
  {
   "cell_type": "code",
   "execution_count": 13,
   "metadata": {
    "Collapsed": "false"
   },
   "outputs": [],
   "source": [
    "sk = vsketch.Vsketch()\n",
    "sk.size(page_format)\n",
    "sk.scale('1mm')\n",
    "sk.penWidth('0.25mm')\n",
    "sk.stroke(1)\n",
    "sk.geometry(fills)"
   ]
  },
  {
   "cell_type": "code",
   "execution_count": 15,
   "metadata": {
    "Collapsed": "false"
   },
   "outputs": [],
   "source": [
    "for tolerance in np.linspace(0.3, 0.9, 6):\n",
    "    sk.vpype(f'linemerge --tolerance {tolerance}mm')"
   ]
  },
  {
   "cell_type": "code",
   "execution_count": 16,
   "metadata": {
    "Collapsed": "false"
   },
   "outputs": [],
   "source": [
    "sk.vpype('linesimplify --tolerance 0.2mm')"
   ]
  },
  {
   "cell_type": "code",
   "execution_count": 17,
   "metadata": {
    "Collapsed": "false"
   },
   "outputs": [
    {
     "name": "stdout",
     "output_type": "stream",
     "text": [
      "CPU times: user 1.16 s, sys: 213 µs, total: 1.17 s\n",
      "Wall time: 1.17 s\n"
     ]
    }
   ],
   "source": [
    "%%time\n",
    "sk.vpype('linesort')"
   ]
  },
  {
   "cell_type": "code",
   "execution_count": null,
   "metadata": {
    "Collapsed": "false"
   },
   "outputs": [],
   "source": [
    "sk.display(color_mode='None')"
   ]
  },
  {
   "cell_type": "code",
   "execution_count": 250,
   "metadata": {
    "Collapsed": "false"
   },
   "outputs": [],
   "source": [
    "savepath = '/mnt/c/code/side/plotter_images/oned_outputs/0138_louie_flow_high_res_jittered_angle.svg'\n",
    "\n",
    "sk.save(savepath)\n"
   ]
  },
  {
   "cell_type": "code",
   "execution_count": null,
   "metadata": {
    "Collapsed": "false"
   },
   "outputs": [],
   "source": []
  },
  {
   "cell_type": "code",
   "execution_count": 283,
   "metadata": {
    "Collapsed": "false"
   },
   "outputs": [],
   "source": [
    "image_path='/mnt/c/code/side/plotter_images/joey_bun.jpg'\n",
    "filename='138_joeybun_test.svg'"
   ]
  },
  {
   "cell_type": "code",
   "execution_count": 284,
   "metadata": {
    "Collapsed": "false"
   },
   "outputs": [],
   "source": [
    "paper_size:str = '11x17 inches'\n",
    "border:float=20  # mm\n",
    "image_rescale_factor:float=0.04\n",
    "farid_disk_size:int=2\n",
    "hist_clip_limit=0.1\n",
    "hist_nbins=32\n",
    "hatch_spacing_min=0.2  # mm\n",
    "hatch_spacing_max=1.  # mm\n",
    "pixel_width=0.9  # mm\n",
    "pixel_height=0.9  # mm\n",
    "angle_jitter='0'\n",
    "pixel_rotation='0'\n",
    "merge_tolerances=[0.3, 0.4, 0.5]  # mm\n",
    "simplify_tolerances=[0.2]  # mm\n",
    "savedir='/mnt/c/code/side/plotter_images/oned_outputs'"
   ]
  },
  {
   "cell_type": "code",
   "execution_count": 288,
   "metadata": {
    "Collapsed": "false"
   },
   "outputs": [
    {
     "name": "stderr",
     "output_type": "stream",
     "text": [
      "121it [00:00, 139.63it/s]\n",
      "100%|██████████| 19481/19481 [00:43<00:00, 451.17it/s]\n"
     ]
    }
   ],
   "source": [
    "def local_angle(dx, dy):\n",
    "    \"\"\"Calculate the angles between horizontal and vertical operators.\"\"\"\n",
    "    return np.mod(np.arctan2(dy, dx), np.pi)\n",
    "\n",
    "# make page\n",
    "paper = Paper(paper_size)\n",
    "drawbox = paper.get_drawbox(border)\n",
    "\n",
    "# load\n",
    "img =  rgb2gray(io.imread(Path(image_path)))\n",
    "img_rescale = rescale(img, image_rescale_factor)\n",
    "\n",
    "# \n",
    "img_contrast_adj = exposure.equalize_adapthist(img_rescale, clip_limit=hist_clip_limit, nbins=hist_nbins)\n",
    "img_renorm = img_contrast_adj * (hatch_spacing_max - hatch_spacing_min) + hatch_spacing_min\n",
    "\n",
    "# calc dominant angle\n",
    "selem = disk(2)\n",
    "filt_img = filters.rank.mean(img_renorm, selem)\n",
    "angle_farid = local_angle(filters.farid_h(filt_img), filters.farid_v(filt_img))\n",
    "\n",
    "# make pixel polys\n",
    "prms = []\n",
    "for y, row in tqdm(enumerate(img_renorm)):\n",
    "    for x, intensity in enumerate(row):\n",
    "\n",
    "        p = gp.centered_box(Point(x, y), width=pixel_width, height=pixel_height)\n",
    "        a = angle_farid[y, x]\n",
    "        prm = {\n",
    "            'geometry':p,\n",
    "            'x':x,\n",
    "            'y':y,\n",
    "            'raw_pixel_width':pixel_width,\n",
    "            'raw_pixel_height':pixel_height,\n",
    "            'intensity': intensity,\n",
    "            'angle':a,\n",
    "            'group': 'raw_hatch_pixel',\n",
    "\n",
    "        }\n",
    "        prms.append(prm)\n",
    "raw_hatch_pixels = geopandas.GeoDataFrame(prms)\n",
    "\n",
    "#  rescale polys to fit in drawbox\n",
    "bbox = box(*raw_hatch_pixels.total_bounds)\n",
    "_, transform = gp.make_like(bbox, drawbox, return_transform=True)\n",
    "A = gp.AffineMatrix(**transform)\n",
    "scaled_hatch_pixels = raw_hatch_pixels.copy()\n",
    "scaled_hatch_pixels['geometry'] = scaled_hatch_pixels.affine_transform(A.A_flat)\n",
    "scaled_hatch_pixels['scaled_pixel_height'] = scaled_hatch_pixels['geometry'].apply(gp.get_height)\n",
    "scaled_hatch_pixels['scaled_pixel_width'] = scaled_hatch_pixels['geometry'].apply(gp.get_width)\n",
    "\n",
    "# distributions etc\n",
    "angle_jitter_gen = gp.make_callable(eval(angle_jitter))\n",
    "pixel_rotation_gen = gp.make_callable(eval(pixel_rotation))\n",
    "\n",
    "\n",
    "new_rows = []\n",
    "for i, row in tqdm(scaled_hatch_pixels.iterrows(), total=len(scaled_hatch_pixels)):\n",
    "    r = row.copy()\n",
    "    r['angle_jitter'] = angle_jitter_gen()\n",
    "    r['hatch_angle'] = r['angle'] + r['angle_jitter']\n",
    "    r['pixel_rotation'] = pixel_rotation_gen()\n",
    "    p = r['geometry']\n",
    "    r['spacing'] = r['intensity']  # could be a transformation though\n",
    "    if abs(r['pixel_rotation']) > np.finfo(float).eps:\n",
    "        p = sa.rotate(p, r['pixel_rotation'])\n",
    "    f = gp.hatchbox(p, spacing=r['spacing'], angle=r['hatch_angle'])\n",
    "    r['geometry'] = f\n",
    "    new_rows.append(r)\n",
    "\n",
    "fills = geopandas.GeoDataFrame(new_rows)\n",
    "fills = fills[fills.length > 0]"
   ]
  },
  {
   "cell_type": "code",
   "execution_count": 291,
   "metadata": {
    "Collapsed": "false"
   },
   "outputs": [],
   "source": [
    "fill_layer = gp.merge_LineStrings(fills.geometry)"
   ]
  },
  {
   "cell_type": "code",
   "execution_count": 293,
   "metadata": {
    "Collapsed": "false"
   },
   "outputs": [
    {
     "data": {
      "text/html": [
       "<div>\n",
       "<style scoped>\n",
       "    .dataframe tbody tr th:only-of-type {\n",
       "        vertical-align: middle;\n",
       "    }\n",
       "\n",
       "    .dataframe tbody tr th {\n",
       "        vertical-align: top;\n",
       "    }\n",
       "\n",
       "    .dataframe thead th {\n",
       "        text-align: right;\n",
       "    }\n",
       "</style>\n",
       "<table border=\"1\" class=\"dataframe\">\n",
       "  <thead>\n",
       "    <tr style=\"text-align: right;\">\n",
       "      <th></th>\n",
       "      <th>geometry</th>\n",
       "      <th>x</th>\n",
       "      <th>y</th>\n",
       "      <th>raw_pixel_width</th>\n",
       "      <th>raw_pixel_height</th>\n",
       "      <th>intensity</th>\n",
       "      <th>angle</th>\n",
       "      <th>group</th>\n",
       "      <th>scaled_pixel_height</th>\n",
       "      <th>scaled_pixel_width</th>\n",
       "      <th>angle_jitter</th>\n",
       "      <th>hatch_angle</th>\n",
       "      <th>pixel_rotation</th>\n",
       "      <th>spacing</th>\n",
       "    </tr>\n",
       "  </thead>\n",
       "  <tbody>\n",
       "    <tr>\n",
       "      <th>0</th>\n",
       "      <td>MULTILINESTRING ((-88.496 -231.408, -87.157 -2...</td>\n",
       "      <td>0</td>\n",
       "      <td>0</td>\n",
       "      <td>0.9</td>\n",
       "      <td>0.9</td>\n",
       "      <td>0.852474</td>\n",
       "      <td>1.757906</td>\n",
       "      <td>raw_hatch_pixel</td>\n",
       "      <td>1.339093</td>\n",
       "      <td>1.339093</td>\n",
       "      <td>0</td>\n",
       "      <td>1.757906</td>\n",
       "      <td>0</td>\n",
       "      <td>0.852474</td>\n",
       "    </tr>\n",
       "    <tr>\n",
       "      <th>1</th>\n",
       "      <td>MULTILINESTRING ((-87.008 -231.407, -85.669 -2...</td>\n",
       "      <td>1</td>\n",
       "      <td>0</td>\n",
       "      <td>0.9</td>\n",
       "      <td>0.9</td>\n",
       "      <td>0.852474</td>\n",
       "      <td>1.710887</td>\n",
       "      <td>raw_hatch_pixel</td>\n",
       "      <td>1.339093</td>\n",
       "      <td>1.339093</td>\n",
       "      <td>0</td>\n",
       "      <td>1.710887</td>\n",
       "      <td>0</td>\n",
       "      <td>0.852474</td>\n",
       "    </tr>\n",
       "    <tr>\n",
       "      <th>2</th>\n",
       "      <td>MULTILINESTRING ((-85.520 -231.407, -84.181 -2...</td>\n",
       "      <td>2</td>\n",
       "      <td>0</td>\n",
       "      <td>0.9</td>\n",
       "      <td>0.9</td>\n",
       "      <td>0.852474</td>\n",
       "      <td>1.675873</td>\n",
       "      <td>raw_hatch_pixel</td>\n",
       "      <td>1.339093</td>\n",
       "      <td>1.339093</td>\n",
       "      <td>0</td>\n",
       "      <td>1.675873</td>\n",
       "      <td>0</td>\n",
       "      <td>0.852474</td>\n",
       "    </tr>\n",
       "    <tr>\n",
       "      <th>3</th>\n",
       "      <td>MULTILINESTRING ((-84.032 -231.326, -82.693 -2...</td>\n",
       "      <td>3</td>\n",
       "      <td>0</td>\n",
       "      <td>0.9</td>\n",
       "      <td>0.9</td>\n",
       "      <td>0.691541</td>\n",
       "      <td>1.639676</td>\n",
       "      <td>raw_hatch_pixel</td>\n",
       "      <td>1.339093</td>\n",
       "      <td>1.339093</td>\n",
       "      <td>0</td>\n",
       "      <td>1.639676</td>\n",
       "      <td>0</td>\n",
       "      <td>0.691541</td>\n",
       "    </tr>\n",
       "    <tr>\n",
       "      <th>4</th>\n",
       "      <td>MULTILINESTRING ((-82.544 -231.519, -81.205 -2...</td>\n",
       "      <td>4</td>\n",
       "      <td>0</td>\n",
       "      <td>0.9</td>\n",
       "      <td>0.9</td>\n",
       "      <td>0.538711</td>\n",
       "      <td>1.636008</td>\n",
       "      <td>raw_hatch_pixel</td>\n",
       "      <td>1.339093</td>\n",
       "      <td>1.339093</td>\n",
       "      <td>0</td>\n",
       "      <td>1.636008</td>\n",
       "      <td>0</td>\n",
       "      <td>0.538711</td>\n",
       "    </tr>\n",
       "    <tr>\n",
       "      <th>...</th>\n",
       "      <td>...</td>\n",
       "      <td>...</td>\n",
       "      <td>...</td>\n",
       "      <td>...</td>\n",
       "      <td>...</td>\n",
       "      <td>...</td>\n",
       "      <td>...</td>\n",
       "      <td>...</td>\n",
       "      <td>...</td>\n",
       "      <td>...</td>\n",
       "      <td>...</td>\n",
       "      <td>...</td>\n",
       "      <td>...</td>\n",
       "      <td>...</td>\n",
       "    </tr>\n",
       "    <tr>\n",
       "      <th>19476</th>\n",
       "      <td>MULTILINESTRING ((143.613 -53.008, 144.952 -52...</td>\n",
       "      <td>156</td>\n",
       "      <td>120</td>\n",
       "      <td>0.9</td>\n",
       "      <td>0.9</td>\n",
       "      <td>0.569650</td>\n",
       "      <td>1.972690</td>\n",
       "      <td>raw_hatch_pixel</td>\n",
       "      <td>1.339093</td>\n",
       "      <td>1.339093</td>\n",
       "      <td>0</td>\n",
       "      <td>1.972690</td>\n",
       "      <td>0</td>\n",
       "      <td>0.569650</td>\n",
       "    </tr>\n",
       "    <tr>\n",
       "      <th>19477</th>\n",
       "      <td>MULTILINESTRING ((145.101 -53.005, 146.440 -52...</td>\n",
       "      <td>157</td>\n",
       "      <td>120</td>\n",
       "      <td>0.9</td>\n",
       "      <td>0.9</td>\n",
       "      <td>0.569994</td>\n",
       "      <td>1.687779</td>\n",
       "      <td>raw_hatch_pixel</td>\n",
       "      <td>1.339093</td>\n",
       "      <td>1.339093</td>\n",
       "      <td>0</td>\n",
       "      <td>1.687779</td>\n",
       "      <td>0</td>\n",
       "      <td>0.569994</td>\n",
       "    </tr>\n",
       "    <tr>\n",
       "      <th>19478</th>\n",
       "      <td>MULTILINESTRING ((146.589 -53.005, 147.928 -52...</td>\n",
       "      <td>158</td>\n",
       "      <td>120</td>\n",
       "      <td>0.9</td>\n",
       "      <td>0.9</td>\n",
       "      <td>0.570338</td>\n",
       "      <td>1.680017</td>\n",
       "      <td>raw_hatch_pixel</td>\n",
       "      <td>1.339093</td>\n",
       "      <td>1.339093</td>\n",
       "      <td>0</td>\n",
       "      <td>1.680017</td>\n",
       "      <td>0</td>\n",
       "      <td>0.570338</td>\n",
       "    </tr>\n",
       "    <tr>\n",
       "      <th>19479</th>\n",
       "      <td>MULTILINESTRING ((148.077 -52.926, 149.416 -52...</td>\n",
       "      <td>159</td>\n",
       "      <td>120</td>\n",
       "      <td>0.9</td>\n",
       "      <td>0.9</td>\n",
       "      <td>0.490239</td>\n",
       "      <td>1.746426</td>\n",
       "      <td>raw_hatch_pixel</td>\n",
       "      <td>1.339093</td>\n",
       "      <td>1.339093</td>\n",
       "      <td>0</td>\n",
       "      <td>1.746426</td>\n",
       "      <td>0</td>\n",
       "      <td>0.490239</td>\n",
       "    </tr>\n",
       "    <tr>\n",
       "      <th>19480</th>\n",
       "      <td>MULTILINESTRING ((149.565 -52.930, 150.904 -52...</td>\n",
       "      <td>160</td>\n",
       "      <td>120</td>\n",
       "      <td>0.9</td>\n",
       "      <td>0.9</td>\n",
       "      <td>0.490583</td>\n",
       "      <td>2.070641</td>\n",
       "      <td>raw_hatch_pixel</td>\n",
       "      <td>1.339093</td>\n",
       "      <td>1.339093</td>\n",
       "      <td>0</td>\n",
       "      <td>2.070641</td>\n",
       "      <td>0</td>\n",
       "      <td>0.490583</td>\n",
       "    </tr>\n",
       "  </tbody>\n",
       "</table>\n",
       "<p>19481 rows × 14 columns</p>\n",
       "</div>"
      ],
      "text/plain": [
       "                                                geometry    x    y  \\\n",
       "0      MULTILINESTRING ((-88.496 -231.408, -87.157 -2...    0    0   \n",
       "1      MULTILINESTRING ((-87.008 -231.407, -85.669 -2...    1    0   \n",
       "2      MULTILINESTRING ((-85.520 -231.407, -84.181 -2...    2    0   \n",
       "3      MULTILINESTRING ((-84.032 -231.326, -82.693 -2...    3    0   \n",
       "4      MULTILINESTRING ((-82.544 -231.519, -81.205 -2...    4    0   \n",
       "...                                                  ...  ...  ...   \n",
       "19476  MULTILINESTRING ((143.613 -53.008, 144.952 -52...  156  120   \n",
       "19477  MULTILINESTRING ((145.101 -53.005, 146.440 -52...  157  120   \n",
       "19478  MULTILINESTRING ((146.589 -53.005, 147.928 -52...  158  120   \n",
       "19479  MULTILINESTRING ((148.077 -52.926, 149.416 -52...  159  120   \n",
       "19480  MULTILINESTRING ((149.565 -52.930, 150.904 -52...  160  120   \n",
       "\n",
       "       raw_pixel_width  raw_pixel_height  intensity     angle  \\\n",
       "0                  0.9               0.9   0.852474  1.757906   \n",
       "1                  0.9               0.9   0.852474  1.710887   \n",
       "2                  0.9               0.9   0.852474  1.675873   \n",
       "3                  0.9               0.9   0.691541  1.639676   \n",
       "4                  0.9               0.9   0.538711  1.636008   \n",
       "...                ...               ...        ...       ...   \n",
       "19476              0.9               0.9   0.569650  1.972690   \n",
       "19477              0.9               0.9   0.569994  1.687779   \n",
       "19478              0.9               0.9   0.570338  1.680017   \n",
       "19479              0.9               0.9   0.490239  1.746426   \n",
       "19480              0.9               0.9   0.490583  2.070641   \n",
       "\n",
       "                 group  scaled_pixel_height  scaled_pixel_width  angle_jitter  \\\n",
       "0      raw_hatch_pixel             1.339093            1.339093             0   \n",
       "1      raw_hatch_pixel             1.339093            1.339093             0   \n",
       "2      raw_hatch_pixel             1.339093            1.339093             0   \n",
       "3      raw_hatch_pixel             1.339093            1.339093             0   \n",
       "4      raw_hatch_pixel             1.339093            1.339093             0   \n",
       "...                ...                  ...                 ...           ...   \n",
       "19476  raw_hatch_pixel             1.339093            1.339093             0   \n",
       "19477  raw_hatch_pixel             1.339093            1.339093             0   \n",
       "19478  raw_hatch_pixel             1.339093            1.339093             0   \n",
       "19479  raw_hatch_pixel             1.339093            1.339093             0   \n",
       "19480  raw_hatch_pixel             1.339093            1.339093             0   \n",
       "\n",
       "       hatch_angle  pixel_rotation   spacing  \n",
       "0         1.757906               0  0.852474  \n",
       "1         1.710887               0  0.852474  \n",
       "2         1.675873               0  0.852474  \n",
       "3         1.639676               0  0.691541  \n",
       "4         1.636008               0  0.538711  \n",
       "...            ...             ...       ...  \n",
       "19476     1.972690               0  0.569650  \n",
       "19477     1.687779               0  0.569994  \n",
       "19478     1.680017               0  0.570338  \n",
       "19479     1.746426               0  0.490239  \n",
       "19480     2.070641               0  0.490583  \n",
       "\n",
       "[19481 rows x 14 columns]"
      ]
     },
     "execution_count": 293,
     "metadata": {},
     "output_type": "execute_result"
    }
   ],
   "source": [
    "fills"
   ]
  },
  {
   "cell_type": "markdown",
   "metadata": {
    "Collapsed": "false"
   },
   "source": [
    "debug"
   ]
  },
  {
   "cell_type": "code",
   "execution_count": 21,
   "metadata": {
    "Collapsed": "false"
   },
   "outputs": [],
   "source": [
    "border=20\n",
    "paper_size:str = '14x11 inches'  \n",
    "        # make page\n",
    "paper = Paper(paper_size)\n",
    "drawbox = paper.get_drawbox(border)"
   ]
  },
  {
   "cell_type": "code",
   "execution_count": 6,
   "metadata": {
    "Collapsed": "false"
   },
   "outputs": [],
   "source": [
    "image_path = '/mnt/c/code/side/plotter_images/205_subdivide.png'\n",
    "image_rescale_factor = 0.01\n",
    "smooth_disk_size:int=2\n",
    "hist_clip_limit=0.1\n",
    "hist_nbins=32\n",
    "hatch_spacing_min=0.3  # mm\n",
    "hatch_spacing_max=1.  # mm\n",
    "pixel_width=0.9  # mm\n",
    "pixel_height=0.9 # mm"
   ]
  },
  {
   "cell_type": "code",
   "execution_count": 23,
   "metadata": {
    "Collapsed": "false"
   },
   "outputs": [],
   "source": [
    "angle_jitter='0'  # degrees\n",
    "pixel_rotation='0' # degrees\n",
    "merge_tolerances=[0.3, 0.4, 0.5]  # mm\n",
    "simplify_tolerances=[0.2]  # mm"
   ]
  },
  {
   "cell_type": "code",
   "execution_count": 8,
   "metadata": {
    "Collapsed": "false"
   },
   "outputs": [],
   "source": [
    "def local_angle(dx, dy):\n",
    "    \"\"\"Calculate the angles between horizontal and vertical operators.\"\"\"\n",
    "    return np.mod(np.arctan2(dy, dx), np.pi)"
   ]
  },
  {
   "cell_type": "code",
   "execution_count": 14,
   "metadata": {
    "Collapsed": "false"
   },
   "outputs": [
    {
     "name": "stderr",
     "output_type": "stream",
     "text": [
      "<ipython-input-14-7459d1b02e0e>:2: FutureWarning: Non RGB image conversion is now deprecated. For RGBA images, please use rgb2gray(rgba2rgb(rgb)) instead. In version 0.19, a ValueError will be raised if input image last dimension length is not 3.\n",
      "  img =  rgb2gray(io.imread(Path(image_path)))\n",
      "/home/anaka/anaconda3/envs/genpen/lib/python3.8/site-packages/IPython/core/interactiveshell.py:3418: UserWarning: Possible precision loss converting image of type float64 to uint8 as required by rank filters. Convert manually using skimage.util.img_as_ubyte to silence this warning.\n",
      "  exec(code_obj, self.user_global_ns, self.user_ns)\n"
     ]
    }
   ],
   "source": [
    "# load\n",
    "img =  rgb2gray(io.imread(Path(image_path)))\n",
    "img_rescale = rescale(img, image_rescale_factor)\n",
    "\n",
    "# \n",
    "img_renorm = exposure.equalize_adapthist(img_rescale, clip_limit=hist_clip_limit, nbins=hist_nbins)\n",
    "\n",
    "# calc dominant angle\n",
    "selem = disk(smooth_disk_size)\n",
    "filt_img = filters.rank.mean(img_renorm, selem)\n",
    "angle_farid = local_angle(filters.farid_h(filt_img), filters.farid_v(filt_img))"
   ]
  },
  {
   "cell_type": "code",
   "execution_count": 15,
   "metadata": {
    "Collapsed": "false"
   },
   "outputs": [
    {
     "name": "stderr",
     "output_type": "stream",
     "text": [
      "33it [00:00, 368.41it/s]\n"
     ]
    }
   ],
   "source": [
    "# make pixel polys\n",
    "prms = []\n",
    "for y, row in tqdm(enumerate(img_renorm)):\n",
    "    for x, intensity in enumerate(row):\n",
    "\n",
    "        p = gp.centered_box(Point(x, y), width=pixel_width, height=pixel_height)\n",
    "        a = np.degrees(angle_farid[y, x])\n",
    "        prm = {\n",
    "            'geometry':p,\n",
    "            'x':x,\n",
    "            'y':y,\n",
    "            'raw_pixel_width':pixel_width,\n",
    "            'raw_pixel_height':pixel_height,\n",
    "            'intensity': intensity,\n",
    "            'angle':a,\n",
    "            'group': 'raw_hatch_pixel',\n",
    "\n",
    "        }\n",
    "        prms.append(prm)\n",
    "raw_hatch_pixels = geopandas.GeoDataFrame(prms)"
   ]
  },
  {
   "cell_type": "code",
   "execution_count": 24,
   "metadata": {
    "Collapsed": "false"
   },
   "outputs": [],
   "source": [
    "#  rescale polys to fit in drawbox\n",
    "bbox = box(*raw_hatch_pixels.total_bounds)\n",
    "_, transform = gp.make_like(bbox, drawbox, return_transform=True)\n",
    "A = gp.AffineMatrix(**transform)\n",
    "scaled_hatch_pixels = raw_hatch_pixels.copy()\n",
    "scaled_hatch_pixels['geometry'] = scaled_hatch_pixels.affine_transform(A.A_flat)\n",
    "scaled_hatch_pixels['scaled_pixel_height'] = scaled_hatch_pixels['geometry'].apply(gp.get_height)\n",
    "scaled_hatch_pixels['scaled_pixel_width'] = scaled_hatch_pixels['geometry'].apply(gp.get_width)\n",
    "\n",
    "# distributions etc\n",
    "angle_jitter_gen = gp.make_callable(eval(angle_jitter))\n",
    "pixel_rotation_gen = gp.make_callable(eval(pixel_rotation))\n",
    "\n",
    "\n",
    "scaled_hatch_pixels['angle_jitter'] = angle_jitter_gen(len(scaled_hatch_pixels))\n",
    "scaled_hatch_pixels['hatch_angle'] = scaled_hatch_pixels['angle'] + scaled_hatch_pixels['angle_jitter']\n",
    "scaled_hatch_pixels['pixel_rotation'] = pixel_rotation_gen(len(scaled_hatch_pixels))"
   ]
  },
  {
   "cell_type": "code",
   "execution_count": 27,
   "metadata": {
    "Collapsed": "false"
   },
   "outputs": [],
   "source": [
    "spacing_func = functools.partial(np.interp, xp=[0, 1], fp=[hatch_spacing_min, hatch_spacing_max])"
   ]
  },
  {
   "cell_type": "code",
   "execution_count": 28,
   "metadata": {
    "Collapsed": "false"
   },
   "outputs": [],
   "source": [
    "scaled_hatch_pixels['spacing'] = spacing_func(scaled_hatch_pixels['intensity'])"
   ]
  },
  {
   "cell_type": "code",
   "execution_count": 29,
   "metadata": {
    "Collapsed": "false"
   },
   "outputs": [
    {
     "data": {
      "text/plain": [
       "0       0.419650\n",
       "1       0.472396\n",
       "2       0.577935\n",
       "3       0.630682\n",
       "4       0.630682\n",
       "          ...   \n",
       "1876    1.000000\n",
       "1877    1.000000\n",
       "1878    0.971688\n",
       "1879    1.000000\n",
       "1880    1.000000\n",
       "Name: spacing, Length: 1881, dtype: float64"
      ]
     },
     "execution_count": 29,
     "metadata": {},
     "output_type": "execute_result"
    }
   ],
   "source": [
    "scaled_hatch_pixels['spacing']"
   ]
  },
  {
   "cell_type": "code",
   "execution_count": null,
   "metadata": {
    "Collapsed": "false"
   },
   "outputs": [],
   "source": [
    "r['spacing'] = r['intensity']"
   ]
  }
 ],
 "metadata": {
  "kernelspec": {
   "display_name": "Python [conda env:genpen]",
   "language": "python",
   "name": "conda-env-genpen-py"
  },
  "language_info": {
   "codemirror_mode": {
    "name": "ipython",
    "version": 3
   },
   "file_extension": ".py",
   "mimetype": "text/x-python",
   "name": "python",
   "nbconvert_exporter": "python",
   "pygments_lexer": "ipython3",
   "version": "3.8.8"
  }
 },
 "nbformat": 4,
 "nbformat_minor": 4
}
