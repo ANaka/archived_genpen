{
 "cells": [
  {
   "cell_type": "code",
   "execution_count": 243,
   "metadata": {
    "Collapsed": "false"
   },
   "outputs": [
    {
     "name": "stdout",
     "output_type": "stream",
     "text": [
      "The autoreload extension is already loaded. To reload it, use:\n",
      "  %reload_ext autoreload\n"
     ]
    }
   ],
   "source": [
    "import itertools\n",
    "import numpy as np\n",
    "import os\n",
    "import seaborn as sns\n",
    "from tqdm import tqdm\n",
    "from dataclasses import asdict, dataclass, field\n",
    "import vsketch\n",
    "import shapely.geometry as sg\n",
    "from shapely.geometry import box, MultiLineString, Point, MultiPoint, Polygon, MultiPolygon, LineString\n",
    "import shapely.affinity as sa\n",
    "import shapely.ops as so\n",
    "import matplotlib.pyplot as plt\n",
    "import pandas as pd\n",
    "\n",
    "import vpype_cli\n",
    "from typing import List, Generic\n",
    "from genpen import genpen as gp, utils as utils\n",
    "from scipy import stats as ss\n",
    "import geopandas\n",
    "from shapely.errors import TopologicalError\n",
    "import functools\n",
    "%load_ext autoreload\n",
    "%autoreload 2\n",
    "import vpype\n",
    "from skimage import io\n",
    "from pathlib import Path\n",
    "\n",
    "import bezier\n",
    "\n",
    "from sklearn.preprocessing import minmax_scale\n",
    "from skimage import feature\n",
    "from genpen.utils import Paper"
   ]
  },
  {
   "cell_type": "code",
   "execution_count": 244,
   "metadata": {
    "Collapsed": "false"
   },
   "outputs": [],
   "source": [
    "from genpen.genpen import *"
   ]
  },
  {
   "cell_type": "code",
   "execution_count": 245,
   "metadata": {
    "Collapsed": "false"
   },
   "outputs": [],
   "source": [
    "# make page\n",
    "paper_size = '11x14 inches'\n",
    "border:float=20\n",
    "paper = Paper(paper_size)\n",
    "\n",
    "drawbox = paper.get_drawbox(border)"
   ]
  },
  {
   "cell_type": "markdown",
   "metadata": {
    "Collapsed": "false"
   },
   "source": [
    "# start with an interesting pattern?"
   ]
  },
  {
   "cell_type": "code",
   "execution_count": 33,
   "metadata": {
    "Collapsed": "false"
   },
   "outputs": [],
   "source": [
    "n_rows=10\n",
    "points_per_row = [int(x**1.5) for x in np.linspace(1,6,n_rows)]\n",
    "ys = np.linspace(gp.get_top(drawbox), gp.get_bottom(drawbox), n_rows)\n",
    "points = []\n",
    "for y, points_per_row in zip(ys, points_per_row):\n",
    "    xs = np.random.uniform(gp.get_left(drawbox), gp.get_right(drawbox), points_per_row)\n",
    "    points += [Point(x,y) for x in xs]\n",
    "    \n",
    "# points += [Point(p) for p in drawbox.boundary.coords]\n",
    "points = MultiPoint(points)"
   ]
  },
  {
   "cell_type": "code",
   "execution_count": 35,
   "metadata": {
    "Collapsed": "false"
   },
   "outputs": [],
   "source": [
    "polys = MultiPolygon(so.triangulate(points, tolerance=0.5)).buffer(-2)"
   ]
  },
  {
   "cell_type": "code",
   "execution_count": 37,
   "metadata": {
    "Collapsed": "false"
   },
   "outputs": [],
   "source": [
    "geom = polys[0]"
   ]
  },
  {
   "cell_type": "markdown",
   "metadata": {
    "Collapsed": "false"
   },
   "source": [
    "## do the shading"
   ]
  },
  {
   "cell_type": "code",
   "execution_count": 39,
   "metadata": {
    "Collapsed": "false"
   },
   "outputs": [
    {
     "data": {
      "image/svg+xml": [
       "<svg xmlns=\"http://www.w3.org/2000/svg\" xmlns:xlink=\"http://www.w3.org/1999/xlink\" width=\"100.0\" height=\"100.0\" viewBox=\"215.22004853758074 56.44619756981763 36.85946621316694 98.64609883653543\" preserveAspectRatio=\"xMinYMin meet\"><g transform=\"matrix(1,0,0,-1,0,211.53849397617068)\"><path fill-rule=\"evenodd\" fill=\"#66cc99\" stroke=\"#555555\" stroke-width=\"1.9729219767307087\" opacity=\"0.6\" d=\"M 248.42595553457969,60.099756785985605 L 218.87360775374873,90.54608358738543 L 246.6526058657931,151.43873719018507 L 248.42595553457969,60.099756785985605 z\" /></g></svg>"
      ],
      "text/plain": [
       "<shapely.geometry.polygon.Polygon at 0x7fc100755fa0>"
      ]
     },
     "execution_count": 39,
     "metadata": {},
     "output_type": "execute_result"
    }
   ],
   "source": [
    "geom.convex_hull"
   ]
  },
  {
   "cell_type": "code",
   "execution_count": 246,
   "metadata": {
    "Collapsed": "false"
   },
   "outputs": [],
   "source": [
    "class Fill(Shape):\n",
    "    \n",
    "    def __init__(self):\n",
    "        self._p = p\n",
    "        \n",
    "    def _repr_svg_(self):\n",
    "        return self.fill._repr_svg_()\n",
    "    \n",
    "    @property\n",
    "    def boundary(self):\n",
    "        return self._p.boundary\n",
    "    \n",
    "    @property\n",
    "    def fill(self):\n",
    "        return self.fill_poly(self._p)\n",
    "    \n",
    "    @property\n",
    "    def _all_geoms(self):\n",
    "        return sg.GeometryCollection([self.boundary, self.fill])"
   ]
  },
  {
   "cell_type": "code",
   "execution_count": 247,
   "metadata": {
    "Collapsed": "false"
   },
   "outputs": [],
   "source": [
    "class Angle(object):\n",
    "    \n",
    "    @property\n",
    "    def deg(self):\n",
    "        return self._deg\n",
    "    \n",
    "    @deg.setter\n",
    "    def deg(self, deg):\n",
    "        self._deg = deg\n",
    "        self._rad = np.deg2rad(deg)\n",
    "    \n",
    "    @property\n",
    "    def rad(self):\n",
    "        return self._rad\n",
    "    \n",
    "    @rad.setter\n",
    "    def rad(self, rad):\n",
    "        self._deg = np.rad2deg(rad)\n",
    "        self._rad = rad\n",
    "        \n",
    "    \n",
    "    def __init__(self, deg=None, rad=None):\n",
    "        if (deg is not None) and (rad is not None):\n",
    "            print('WARNING: arguments entered for both deg and rad; defaulting to using deg')\n",
    "        if deg is not None:\n",
    "            self.deg = deg\n",
    "        elif rad is not None:\n",
    "            self.rad = rad\n",
    "            \n",
    "            \n",
    "    def __repr__(self):\n",
    "        return f'deg = {self.deg} \\nrad = {self.rad:.3}'"
   ]
  },
  {
   "cell_type": "code",
   "execution_count": 288,
   "metadata": {
    "Collapsed": "false"
   },
   "outputs": [],
   "source": [
    "@dataclass\n",
    "class Filler(DataClassBase):\n",
    "        \n",
    "    def fill_poly(self, poly):\n",
    "        return self.fill_func(poly)\n",
    "    \n",
    "    \n",
    "    \n",
    "@dataclass  \n",
    "class HatchFill(Shape):\n",
    "    \n",
    "    def __init__(\n",
    "        self,\n",
    "        poly_to_fill:sg.Polygon,\n",
    "        degrees:float=0.,\n",
    "        spacing:float=0.5,  # usually mm\n",
    "        alternate_direction:bool=True,\n",
    "        fill_inscribe_buffer=1.01,\n",
    "    ):\n",
    "        self._ptf = poly_to_fill\n",
    "        self.degrees = degrees\n",
    "        self.spacing = spacing\n",
    "        self.alternate_direction = alternate_direction\n",
    "        self.fill_inscribe_buffer = fill_inscribe_buffer\n",
    "    \n",
    "    @property\n",
    "    def angle(self):\n",
    "        return Angle(deg=self.degrees)\n",
    "    \n",
    "    @property\n",
    "    def inscribe_diameter(self):\n",
    "        d_from_furthest_vertex_to_centroid = self._ptf.hausdorff_distance(self._ptf.centroid)\n",
    "        return d_from_furthest_vertex_to_centroid * self.fill_inscribe_buffer\n",
    "    \n",
    "    @property\n",
    "    def envelope_inscribe(self):\n",
    "        return self._ptf.centroid.buffer(self.inscribe_diameter)\n",
    "    \n",
    "    @property\n",
    "    def envelope(self):\n",
    "        # rotating geom around centroid will always be inside this\n",
    "        return Shape(box(*self.envelope_inscribe.bounds))\n",
    "    \n",
    "    @property\n",
    "    def _e(self):\n",
    "        return self.envelope\n",
    "    \n",
    "    @property\n",
    "    def _hatch_lines(self):\n",
    "        try:\n",
    "            len(self.spacing) > 1\n",
    "            spacings = self.spacing\n",
    "        except TypeError:\n",
    "            # if spacing is a number, make list of uniform spacings\n",
    "            spacings = np.arange(0, diameter, self.spacing)\n",
    "        \n",
    "        \n",
    "        left = self.envelope.left\n",
    "        right = self.envelope.right\n",
    "        top = self.envelope.top\n",
    "        lines = []\n",
    "        for ii, _spacing in enumerate(spacings):\n",
    "            y = top - _spacing\n",
    "            line = LineString(((left, y), (right, y)))\n",
    "            lines.append(line)\n",
    "            \n",
    "        if self.alternate_direction:\n",
    "            for i in range(len(lines)):\n",
    "                if i % 2:\n",
    "                    lines[i] = reverse_LineString(lines[i])\n",
    "        \n",
    "        return sg.MultiLineString(lines)\n",
    "    \n",
    "    @property\n",
    "    def _rotated_hatch_lines(self):\n",
    "        return sa.rotate(self._hatch_lines, self.angle.deg, origin=self._ptf.centroid, use_radians=False)\n",
    "    \n",
    "    @property\n",
    "    def _fill(self):\n",
    "        _fill = self._ptf.intersection(self._rotated_hatch_lines)\n",
    "        return _fill\n",
    "    \n",
    "    @property\n",
    "    def _p(self):\n",
    "        return self._fill\n",
    "        \n",
    "    \n",
    "    "
   ]
  },
  {
   "cell_type": "code",
   "execution_count": null,
   "metadata": {
    "Collapsed": "false"
   },
   "outputs": [],
   "source": [
    "@dataclass  \n",
    "class BezierHatchFill(Shape):\n",
    "    \n",
    "    def __init__(\n",
    "        self,\n",
    "        poly_to_fill:sg.Polygon,\n",
    "        degrees:float=0.,\n",
    "        spacing:float=0.5,  # usually mm\n",
    "        alternate_direction:bool=True,\n",
    "        fill_inscribe_buffer=1.01,\n",
    "        n_nodes_per_line=20,\n",
    "    ):\n",
    "        self._ptf = poly_to_fill\n",
    "        self.degrees = degrees\n",
    "        self.spacing = spacing\n",
    "        self.alternate_direction = alternate_direction\n",
    "        self.fill_inscribe_buffer = fill_inscribe_buffer\n",
    "        self.n_nodes_per_line = n_nodes_per_line\n",
    "        self.init_nodes = None\n",
    "    \n",
    "    def initialize_nodes(self, ):\n",
    "        return np.linspace(y_start, y_end, n_nodes_per_line)\n",
    "    \n",
    "    @property\n",
    "    def _hatch_lines(self):\n",
    "        try:\n",
    "            len(self.spacing) > 1\n",
    "            spacings = self.spacing\n",
    "        except TypeError:\n",
    "            # if spacing is a number, make list of uniform spacings\n",
    "            spacings = np.arange(0, diameter, self.spacing)\n",
    "        \n",
    "        \n",
    "        \n",
    "        lines = []\n",
    "        for ii, _spacing in enumerate(spacings):\n",
    "            y = top - _spacing\n",
    "            line = LineString(((left, y), (right, y)))\n",
    "            lines.append(line)\n",
    "            \n",
    "        if self.alternate_direction:\n",
    "            for i in range(len(lines)):\n",
    "                if i % 2:\n",
    "                    lines[i] = reverse_LineString(lines[i])\n",
    "        \n",
    "        return sg.MultiLineString(lines)\n",
    "    \n",
    "    "
   ]
  },
  {
   "cell_type": "code",
   "execution_count": 279,
   "metadata": {
    "Collapsed": "false"
   },
   "outputs": [],
   "source": [
    "poly_to_fill = polys[0]"
   ]
  },
  {
   "cell_type": "code",
   "execution_count": 289,
   "metadata": {
    "Collapsed": "false"
   },
   "outputs": [],
   "source": [
    "hf = HatchFill(poly_to_fill=poly_to_fill)"
   ]
  },
  {
   "cell_type": "code",
   "execution_count": 290,
   "metadata": {
    "Collapsed": "false"
   },
   "outputs": [
    {
     "data": {
      "image/svg+xml": [
       "<svg xmlns=\"http://www.w3.org/2000/svg\" xmlns:xlink=\"http://www.w3.org/1999/xlink\" width=\"100.0\" height=\"100.0\" viewBox=\"221.7286945516456 99.18862430837981 27.899519106582886 54.0\" preserveAspectRatio=\"xMinYMin meet\"><g transform=\"matrix(1,0,0,-1,0,252.37724861675963)\"><g><polyline fill=\"none\" stroke=\"#66cc99\" stroke-width=\"1.08\" points=\"246.65746181660563,151.18862430837981 246.5385053157204,151.18862430837981\" opacity=\"0.8\" /><polyline fill=\"none\" stroke=\"#66cc99\" stroke-width=\"1.08\" points=\"246.31040720807965,150.68862430837981 246.66716933502187,150.68862430837981\" opacity=\"0.8\" /><polyline fill=\"none\" stroke=\"#66cc99\" stroke-width=\"1.08\" points=\"246.67687685343807,150.18862430837981 246.0823091004389,150.18862430837981\" opacity=\"0.8\" /><polyline fill=\"none\" stroke=\"#66cc99\" stroke-width=\"1.08\" points=\"245.85421099279816,149.68862430837981 246.6865843718543,149.68862430837981\" opacity=\"0.8\" /><polyline fill=\"none\" stroke=\"#66cc99\" stroke-width=\"1.08\" points=\"246.69629189027054,149.18862430837981 245.6261128851574,149.18862430837981\" opacity=\"0.8\" /><polyline fill=\"none\" stroke=\"#66cc99\" stroke-width=\"1.08\" points=\"245.39801477751666,148.68862430837981 246.70599940868678,148.68862430837981\" opacity=\"0.8\" /><polyline fill=\"none\" stroke=\"#66cc99\" stroke-width=\"1.08\" points=\"246.71570692710299,148.18862430837981 245.1699166698759,148.18862430837981\" opacity=\"0.8\" /><polyline fill=\"none\" stroke=\"#66cc99\" stroke-width=\"1.08\" points=\"244.94181856223517,147.68862430837981 246.72541444551922,147.68862430837981\" opacity=\"0.8\" /><polyline fill=\"none\" stroke=\"#66cc99\" stroke-width=\"1.08\" points=\"246.73512196393546,147.18862430837981 244.7137204545944,147.18862430837981\" opacity=\"0.8\" /><polyline fill=\"none\" stroke=\"#66cc99\" stroke-width=\"1.08\" points=\"244.48562234695368,146.68862430837981 246.7448294823517,146.68862430837981\" opacity=\"0.8\" /><polyline fill=\"none\" stroke=\"#66cc99\" stroke-width=\"1.08\" points=\"246.7545370007679,146.18862430837981 244.25752423931291,146.18862430837981\" opacity=\"0.8\" /><polyline fill=\"none\" stroke=\"#66cc99\" stroke-width=\"1.08\" points=\"244.02942613167218,145.68862430837981 246.76424451918413,145.68862430837981\" opacity=\"0.8\" /><polyline fill=\"none\" stroke=\"#66cc99\" stroke-width=\"1.08\" points=\"246.77395203760037,145.18862430837981 243.80132802403142,145.18862430837981\" opacity=\"0.8\" /><polyline fill=\"none\" stroke=\"#66cc99\" stroke-width=\"1.08\" points=\"243.5732299163907,144.68862430837981 246.7836595560166,144.68862430837981\" opacity=\"0.8\" /><polyline fill=\"none\" stroke=\"#66cc99\" stroke-width=\"1.08\" points=\"246.79336707443284,144.18862430837981 243.34513180874993,144.18862430837981\" opacity=\"0.8\" /><polyline fill=\"none\" stroke=\"#66cc99\" stroke-width=\"1.08\" points=\"243.1170337011092,143.68862430837981 246.80307459284904,143.68862430837981\" opacity=\"0.8\" /><polyline fill=\"none\" stroke=\"#66cc99\" stroke-width=\"1.08\" points=\"246.81278211126528,143.18862430837981 242.88893559346843,143.18862430837981\" opacity=\"0.8\" /><polyline fill=\"none\" stroke=\"#66cc99\" stroke-width=\"1.08\" points=\"242.66083748582767,142.68862430837981 246.8224896296815,142.68862430837981\" opacity=\"0.8\" /><polyline fill=\"none\" stroke=\"#66cc99\" stroke-width=\"1.08\" points=\"246.83219714809775,142.18862430837981 242.43273937818694,142.18862430837981\" opacity=\"0.8\" /><polyline fill=\"none\" stroke=\"#66cc99\" stroke-width=\"1.08\" points=\"242.20464127054618,141.68862430837981 246.84190466651395,141.68862430837981\" opacity=\"0.8\" /><polyline fill=\"none\" stroke=\"#66cc99\" stroke-width=\"1.08\" points=\"246.8516121849302,141.18862430837981 241.97654316290544,141.18862430837981\" opacity=\"0.8\" /><polyline fill=\"none\" stroke=\"#66cc99\" stroke-width=\"1.08\" points=\"241.74844505526468,140.68862430837981 246.86131970334642,140.68862430837981\" opacity=\"0.8\" /><polyline fill=\"none\" stroke=\"#66cc99\" stroke-width=\"1.08\" points=\"246.87102722176266,140.18862430837981 241.52034694762395,140.18862430837981\" opacity=\"0.8\" /><polyline fill=\"none\" stroke=\"#66cc99\" stroke-width=\"1.08\" points=\"241.2922488399832,139.68862430837981 246.88073474017887,139.68862430837981\" opacity=\"0.8\" /><polyline fill=\"none\" stroke=\"#66cc99\" stroke-width=\"1.08\" points=\"246.8904422585951,139.18862430837981 241.06415073234245,139.18862430837981\" opacity=\"0.8\" /><polyline fill=\"none\" stroke=\"#66cc99\" stroke-width=\"1.08\" points=\"240.8360526247017,138.68862430837981 246.90014977701134,138.68862430837981\" opacity=\"0.8\" /><polyline fill=\"none\" stroke=\"#66cc99\" stroke-width=\"1.08\" points=\"246.90985729542757,138.18862430837981 240.60795451706096,138.18862430837981\" opacity=\"0.8\" /><polyline fill=\"none\" stroke=\"#66cc99\" stroke-width=\"1.08\" points=\"240.3798564094202,137.68862430837981 246.9195648138438,137.68862430837981\" opacity=\"0.8\" /><polyline fill=\"none\" stroke=\"#66cc99\" stroke-width=\"1.08\" points=\"246.92927233226,137.18862430837981 240.15175830177947,137.18862430837981\" opacity=\"0.8\" /><polyline fill=\"none\" stroke=\"#66cc99\" stroke-width=\"1.08\" points=\"239.9236601941387,136.68862430837981 246.93897985067625,136.68862430837981\" opacity=\"0.8\" /><polyline fill=\"none\" stroke=\"#66cc99\" stroke-width=\"1.08\" points=\"246.94868736909248,136.18862430837981 239.69556208649794,136.18862430837981\" opacity=\"0.8\" /><polyline fill=\"none\" stroke=\"#66cc99\" stroke-width=\"1.08\" points=\"239.4674639788572,135.68862430837981 246.95839488750872,135.68862430837981\" opacity=\"0.8\" /><polyline fill=\"none\" stroke=\"#66cc99\" stroke-width=\"1.08\" points=\"246.96810240592492,135.18862430837981 239.23936587121645,135.18862430837981\" opacity=\"0.8\" /><polyline fill=\"none\" stroke=\"#66cc99\" stroke-width=\"1.08\" points=\"239.01126776357572,134.68862430837981 246.97780992434116,134.68862430837981\" opacity=\"0.8\" /><polyline fill=\"none\" stroke=\"#66cc99\" stroke-width=\"1.08\" points=\"246.9875174427574,134.18862430837981 238.78316965593496,134.18862430837981\" opacity=\"0.8\" /><polyline fill=\"none\" stroke=\"#66cc99\" stroke-width=\"1.08\" points=\"238.55507154829422,133.68862430837981 246.99722496117363,133.68862430837981\" opacity=\"0.8\" /><polyline fill=\"none\" stroke=\"#66cc99\" stroke-width=\"1.08\" points=\"247.00693247958984,133.18862430837981 238.32697344065346,133.18862430837981\" opacity=\"0.8\" /><polyline fill=\"none\" stroke=\"#66cc99\" stroke-width=\"1.08\" points=\"238.09887533301273,132.68862430837981 247.01663999800607,132.68862430837981\" opacity=\"0.8\" /><polyline fill=\"none\" stroke=\"#66cc99\" stroke-width=\"1.08\" points=\"247.0263475164223,132.18862430837981 237.87077722537197,132.18862430837981\" opacity=\"0.8\" /><polyline fill=\"none\" stroke=\"#66cc99\" stroke-width=\"1.08\" points=\"237.64267911773123,131.68862430837981 247.03605503483854,131.68862430837981\" opacity=\"0.8\" /><polyline fill=\"none\" stroke=\"#66cc99\" stroke-width=\"1.08\" points=\"247.04576255325478,131.18862430837981 237.41458101009047,131.18862430837981\" opacity=\"0.8\" /><polyline fill=\"none\" stroke=\"#66cc99\" stroke-width=\"1.08\" points=\"237.1864829024497,130.68862430837981 247.05547007167098,130.68862430837981\" opacity=\"0.8\" /><polyline fill=\"none\" stroke=\"#66cc99\" stroke-width=\"1.08\" points=\"247.06517759008722,130.18862430837981 236.95838479480898,130.18862430837981\" opacity=\"0.8\" /><polyline fill=\"none\" stroke=\"#66cc99\" stroke-width=\"1.08\" points=\"236.73028668716822,129.68862430837981 247.07488510850345,129.68862430837981\" opacity=\"0.8\" /><polyline fill=\"none\" stroke=\"#66cc99\" stroke-width=\"1.08\" points=\"247.0845926269197,129.18862430837981 236.50218857952748,129.18862430837981\" opacity=\"0.8\" /><polyline fill=\"none\" stroke=\"#66cc99\" stroke-width=\"1.08\" points=\"236.27409047188672,128.68862430837981 247.0943001453359,128.68862430837981\" opacity=\"0.8\" /><polyline fill=\"none\" stroke=\"#66cc99\" stroke-width=\"1.08\" points=\"247.10400766375213,128.18862430837981 236.045992364246,128.18862430837981\" opacity=\"0.8\" /><polyline fill=\"none\" stroke=\"#66cc99\" stroke-width=\"1.08\" points=\"235.81789425660523,127.68862430837981 247.11371518216836,127.68862430837981\" opacity=\"0.8\" /><polyline fill=\"none\" stroke=\"#66cc99\" stroke-width=\"1.08\" points=\"247.1234227005846,127.18862430837981 235.5897961489645,127.18862430837981\" opacity=\"0.8\" /><polyline fill=\"none\" stroke=\"#66cc99\" stroke-width=\"1.08\" points=\"235.36169804132373,126.68862430837981 247.1331302190008,126.68862430837981\" opacity=\"0.8\" /><polyline fill=\"none\" stroke=\"#66cc99\" stroke-width=\"1.08\" points=\"247.14283773741704,126.18862430837981 235.133599933683,126.18862430837981\" opacity=\"0.8\" /><polyline fill=\"none\" stroke=\"#66cc99\" stroke-width=\"1.08\" points=\"234.90550182604224,125.68862430837981 247.15254525583327,125.68862430837981\" opacity=\"0.8\" /><polyline fill=\"none\" stroke=\"#66cc99\" stroke-width=\"1.08\" points=\"247.1622527742495,125.18862430837981 234.6774037184015,125.18862430837981\" opacity=\"0.8\" /><polyline fill=\"none\" stroke=\"#66cc99\" stroke-width=\"1.08\" points=\"234.44930561076075,124.68862430837981 247.17196029266574,124.68862430837981\" opacity=\"0.8\" /><polyline fill=\"none\" stroke=\"#66cc99\" stroke-width=\"1.08\" points=\"247.18166781108195,124.18862430837981 234.22120750311998,124.18862430837981\" opacity=\"0.8\" /><polyline fill=\"none\" stroke=\"#66cc99\" stroke-width=\"1.08\" points=\"233.99310939547925,123.68862430837981 247.1913753294982,123.68862430837981\" opacity=\"0.8\" /><polyline fill=\"none\" stroke=\"#66cc99\" stroke-width=\"1.08\" points=\"247.20108284791442,123.18862430837981 233.7650112878385,123.18862430837981\" opacity=\"0.8\" /><polyline fill=\"none\" stroke=\"#66cc99\" stroke-width=\"1.08\" points=\"233.53691318019776,122.68862430837981 247.21079036633066,122.68862430837981\" opacity=\"0.8\" /><polyline fill=\"none\" stroke=\"#66cc99\" stroke-width=\"1.08\" points=\"247.22049788474686,122.18862430837981 233.308815072557,122.18862430837981\" opacity=\"0.8\" /><polyline fill=\"none\" stroke=\"#66cc99\" stroke-width=\"1.08\" points=\"233.08071696491626,121.68862430837981 247.2302054031631,121.68862430837981\" opacity=\"0.8\" /><polyline fill=\"none\" stroke=\"#66cc99\" stroke-width=\"1.08\" points=\"247.23991292157933,121.18862430837981 232.8526188572755,121.18862430837981\" opacity=\"0.8\" /><polyline fill=\"none\" stroke=\"#66cc99\" stroke-width=\"1.08\" points=\"232.62452074963477,120.68862430837981 247.24962043999557,120.68862430837981\" opacity=\"0.8\" /><polyline fill=\"none\" stroke=\"#66cc99\" stroke-width=\"1.08\" points=\"247.25932795841177,120.18862430837981 232.396422641994,120.18862430837981\" opacity=\"0.8\" /><polyline fill=\"none\" stroke=\"#66cc99\" stroke-width=\"1.08\" points=\"232.16832453435327,119.68862430837981 247.269035476828,119.68862430837981\" opacity=\"0.8\" /><polyline fill=\"none\" stroke=\"#66cc99\" stroke-width=\"1.08\" points=\"247.27874299524424,119.18862430837981 231.9402264267125,119.18862430837981\" opacity=\"0.8\" /><polyline fill=\"none\" stroke=\"#66cc99\" stroke-width=\"1.08\" points=\"231.71212831907178,118.68862430837981 247.28845051366048,118.68862430837981\" opacity=\"0.8\" /><polyline fill=\"none\" stroke=\"#66cc99\" stroke-width=\"1.08\" points=\"247.2981580320767,118.18862430837981 231.48403021143102,118.18862430837981\" opacity=\"0.8\" /><polyline fill=\"none\" stroke=\"#66cc99\" stroke-width=\"1.08\" points=\"231.25593210379026,117.68862430837981 247.30786555049292,117.68862430837981\" opacity=\"0.8\" /><polyline fill=\"none\" stroke=\"#66cc99\" stroke-width=\"1.08\" points=\"247.31757306890916,117.18862430837981 231.02783399614952,117.18862430837981\" opacity=\"0.8\" /><polyline fill=\"none\" stroke=\"#66cc99\" stroke-width=\"1.08\" points=\"230.79973588850876,116.68862430837981 247.3272805873254,116.68862430837981\" opacity=\"0.8\" /><polyline fill=\"none\" stroke=\"#66cc99\" stroke-width=\"1.08\" points=\"247.33698810574163,116.18862430837981 230.57163778086803,116.18862430837981\" opacity=\"0.8\" /><polyline fill=\"none\" stroke=\"#66cc99\" stroke-width=\"1.08\" points=\"230.34353967322727,115.68862430837981 247.34669562415783,115.68862430837981\" opacity=\"0.8\" /><polyline fill=\"none\" stroke=\"#66cc99\" stroke-width=\"1.08\" points=\"247.35640314257407,115.18862430837981 230.11544156558654,115.18862430837981\" opacity=\"0.8\" /><polyline fill=\"none\" stroke=\"#66cc99\" stroke-width=\"1.08\" points=\"229.88734345794578,114.68862430837981 247.3661106609903,114.68862430837981\" opacity=\"0.8\" /><polyline fill=\"none\" stroke=\"#66cc99\" stroke-width=\"1.08\" points=\"247.37581817940654,114.18862430837981 229.65924535030504,114.18862430837981\" opacity=\"0.8\" /><polyline fill=\"none\" stroke=\"#66cc99\" stroke-width=\"1.08\" points=\"229.43114724266428,113.68862430837981 247.38552569782274,113.68862430837981\" opacity=\"0.8\" /><polyline fill=\"none\" stroke=\"#66cc99\" stroke-width=\"1.08\" points=\"247.39523321623898,113.18862430837981 229.20304913502355,113.18862430837981\" opacity=\"0.8\" /><polyline fill=\"none\" stroke=\"#66cc99\" stroke-width=\"1.08\" points=\"228.9749510273828,112.68862430837981 247.4049407346552,112.68862430837981\" opacity=\"0.8\" /><polyline fill=\"none\" stroke=\"#66cc99\" stroke-width=\"1.08\" points=\"247.41464825307145,112.18862430837981 228.74685291974203,112.18862430837981\" opacity=\"0.8\" /><polyline fill=\"none\" stroke=\"#66cc99\" stroke-width=\"1.08\" points=\"228.5187548121013,111.68862430837981 247.42435577148768,111.68862430837981\" opacity=\"0.8\" /><polyline fill=\"none\" stroke=\"#66cc99\" stroke-width=\"1.08\" points=\"247.4340632899039,111.18862430837981 228.29065670446053,111.18862430837981\" opacity=\"0.8\" /><polyline fill=\"none\" stroke=\"#66cc99\" stroke-width=\"1.08\" points=\"228.0625585968198,110.68862430837981 247.44377080832012,110.68862430837981\" opacity=\"0.8\" /><polyline fill=\"none\" stroke=\"#66cc99\" stroke-width=\"1.08\" points=\"247.45347832673636,110.18862430837981 227.83446048917904,110.18862430837981\" opacity=\"0.8\" /><polyline fill=\"none\" stroke=\"#66cc99\" stroke-width=\"1.08\" points=\"227.6063623815383,109.68862430837981 247.4631858451526,109.68862430837981\" opacity=\"0.8\" /><polyline fill=\"none\" stroke=\"#66cc99\" stroke-width=\"1.08\" points=\"247.4728933635688,109.18862430837981 227.37826427389754,109.18862430837981\" opacity=\"0.8\" /><polyline fill=\"none\" stroke=\"#66cc99\" stroke-width=\"1.08\" points=\"227.1501661662568,108.68862430837981 247.48260088198504,108.68862430837981\" opacity=\"0.8\" /><polyline fill=\"none\" stroke=\"#66cc99\" stroke-width=\"1.08\" points=\"247.49230840040127,108.18862430837981 226.92206805861605,108.18862430837981\" opacity=\"0.8\" /><polyline fill=\"none\" stroke=\"#66cc99\" stroke-width=\"1.08\" points=\"226.69396995097532,107.68862430837981 247.5020159188175,107.68862430837981\" opacity=\"0.8\" /><polyline fill=\"none\" stroke=\"#66cc99\" stroke-width=\"1.08\" points=\"247.5117234372337,107.18862430837981 226.46587184333455,107.18862430837981\" opacity=\"0.8\" /><polyline fill=\"none\" stroke=\"#66cc99\" stroke-width=\"1.08\" points=\"226.23777373569382,106.68862430837981 247.52143095564995,106.68862430837981\" opacity=\"0.8\" /><polyline fill=\"none\" stroke=\"#66cc99\" stroke-width=\"1.08\" points=\"247.53113847406618,106.18862430837981 226.00967562805306,106.18862430837981\" opacity=\"0.8\" /><polyline fill=\"none\" stroke=\"#66cc99\" stroke-width=\"1.08\" points=\"225.78157752041233,105.68862430837981 247.54084599248242,105.68862430837981\" opacity=\"0.8\" /><polyline fill=\"none\" stroke=\"#66cc99\" stroke-width=\"1.08\" points=\"247.55055351089865,105.18862430837981 225.55347941277157,105.18862430837981\" opacity=\"0.8\" /><polyline fill=\"none\" stroke=\"#66cc99\" stroke-width=\"1.08\" points=\"225.3253813051308,104.68862430837981 247.56026102931486,104.68862430837981\" opacity=\"0.8\" /><polyline fill=\"none\" stroke=\"#66cc99\" stroke-width=\"1.08\" points=\"247.5699685477311,104.18862430837981 225.09728319749007,104.18862430837981\" opacity=\"0.8\" /><polyline fill=\"none\" stroke=\"#66cc99\" stroke-width=\"1.08\" points=\"224.8691850898493,103.68862430837981 247.57967606614733,103.68862430837981\" opacity=\"0.8\" /><polyline fill=\"none\" stroke=\"#66cc99\" stroke-width=\"1.08\" points=\"247.58938358456356,103.18862430837981 224.64108698220858,103.18862430837981\" opacity=\"0.8\" /><polyline fill=\"none\" stroke=\"#66cc99\" stroke-width=\"1.08\" points=\"224.41298887456782,102.68862430837981 247.59909110297977,102.68862430837981\" opacity=\"0.8\" /><polyline fill=\"none\" stroke=\"#66cc99\" stroke-width=\"1.08\" points=\"247.608798621396,102.18862430837981 224.18489076692708,102.18862430837981\" opacity=\"0.8\" /><polyline fill=\"none\" stroke=\"#66cc99\" stroke-width=\"1.08\" points=\"223.95679265928632,101.68862430837981 247.61850613981224,101.68862430837981\" opacity=\"0.8\" /><polyline fill=\"none\" stroke=\"#66cc99\" stroke-width=\"1.08\" points=\"247.62821365822847,101.18862430837981 223.7286945516456,101.18862430837981\" opacity=\"0.8\" /></g></g></svg>"
      ],
      "text/plain": [
       "HatchFill()"
      ]
     },
     "execution_count": 290,
     "metadata": {},
     "output_type": "execute_result"
    }
   ],
   "source": [
    "hf"
   ]
  },
  {
   "cell_type": "code",
   "execution_count": 193,
   "metadata": {
    "Collapsed": "false"
   },
   "outputs": [],
   "source": [
    "lines = []\n",
    "\n",
    "node_sets = []\n",
    "n_lines = 1200\n",
    "n_nodes_per_line = 20\n",
    "y_start = 1\n",
    "y_end = 10\n",
    "x_start = 1\n",
    "x_end = 10\n",
    "node_x_centers = np.linspace(x_start, x_end, n_lines)\n",
    "std_scale = 0.02\n",
    "n_eval_points = 250\n",
    "\n",
    "### initialize vals\n",
    "node_ys = np.linspace(y_start, y_end, n_nodes_per_line)\n",
    "centered_node_xs = np.zeros(node_ys.shape)\n",
    "bez_eval_end_center = 1\n",
    "bez_eval_end_noise = 0\n",
    "bez_eval_end_limit = 1.1\n",
    "bez_eval_end_std_scale = 0.01\n",
    "\n",
    "for i, node_x_center in enumerate(node_x_centers):\n",
    "#     node_ys = np.flipud(node_ys)\n",
    "#     centered_node_xs = np.flipud(centered_node_xs)\n",
    "    new_x_noise = np.random.randn(n_nodes_per_line) * std_scale\n",
    "#     bez_eval_end_noise = bez_eval_end_noise + np.random.randn() * bez_eval_end_std_scale\n",
    "    centered_node_xs = centered_node_xs + new_x_noise\n",
    "    node_xs = node_x_center + centered_node_xs\n",
    "    node_xs[0:3] = node_x_center\n",
    "#     node_xs[-1] = node_x_center\n",
    "    nodes = np.asfortranarray([\n",
    "        node_xs,\n",
    "        node_ys,\n",
    "        ])\n",
    "    curve = bezier.Curve(nodes, degree=(nodes.shape[1]-1))\n",
    "#     bez_eval_end = bez_eval_end_center + bez_eval_end_noise\n",
    "#     if bez_eval_end > bez_eval_end_limit:\n",
    "#         bez_eval_end = 1 + np.random.randn()*0.02\n",
    "#     eval_points = np.linspace(0, bez_eval_end, n_eval_points)\n",
    "    eval_points = np.linspace(0, 1, n_eval_points)\n",
    "    x, y = curve.evaluate_multi(eval_points)\n",
    "    if i % 2:\n",
    "        x = np.flipud(x)\n",
    "        y = np.flipud(y)\n",
    "    lines.append(np.stack([x, y]).T)\n",
    "    node_sets.append(np.stack([node_xs, node_ys]).T)"
   ]
  }
 ],
 "metadata": {
  "kernelspec": {
   "display_name": "Python [conda env:genpen]",
   "language": "python",
   "name": "conda-env-genpen-py"
  },
  "language_info": {
   "codemirror_mode": {
    "name": "ipython",
    "version": 3
   },
   "file_extension": ".py",
   "mimetype": "text/x-python",
   "name": "python",
   "nbconvert_exporter": "python",
   "pygments_lexer": "ipython3",
   "version": "3.8.6"
  }
 },
 "nbformat": 4,
 "nbformat_minor": 4
}
